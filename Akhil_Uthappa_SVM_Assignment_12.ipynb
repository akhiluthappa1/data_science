{
  "cells": [
    {
      "cell_type": "markdown",
      "metadata": {
        "id": "view-in-github",
        "colab_type": "text"
      },
      "source": [
        "<a href=\"https://colab.research.google.com/github/akhiluthappa1/data_science/blob/main/Akhil_Uthappa_SVM_Assignment_12.ipynb\" target=\"_parent\"><img src=\"https://colab.research.google.com/assets/colab-badge.svg\" alt=\"Open In Colab\"/></a>"
      ]
    },
    {
      "cell_type": "code",
      "execution_count": 1,
      "metadata": {
        "colab": {
          "base_uri": "https://localhost:8080/",
          "height": 206
        },
        "id": "E3gsLG3ctO-H",
        "outputId": "c523f937-dca4-44ab-f592-60603b0d65ed"
      },
      "outputs": [
        {
          "output_type": "execute_result",
          "data": {
            "text/plain": [
              "   Year  Week_Number  mean_return  volatility labels\n",
              "0  2020            0     -0.48600    0.687308    Red\n",
              "1  2020            1      0.85720    1.040851  Green\n",
              "2  2020            2      0.54340    1.404286  Green\n",
              "3  2020            3     -0.03175    0.547226    Red\n",
              "4  2020            4     -0.51960    3.137070    Red"
            ],
            "text/html": [
              "\n",
              "  <div id=\"df-c75f5a0a-e3b0-49e7-917e-95cd443e95cd\">\n",
              "    <div class=\"colab-df-container\">\n",
              "      <div>\n",
              "<style scoped>\n",
              "    .dataframe tbody tr th:only-of-type {\n",
              "        vertical-align: middle;\n",
              "    }\n",
              "\n",
              "    .dataframe tbody tr th {\n",
              "        vertical-align: top;\n",
              "    }\n",
              "\n",
              "    .dataframe thead th {\n",
              "        text-align: right;\n",
              "    }\n",
              "</style>\n",
              "<table border=\"1\" class=\"dataframe\">\n",
              "  <thead>\n",
              "    <tr style=\"text-align: right;\">\n",
              "      <th></th>\n",
              "      <th>Year</th>\n",
              "      <th>Week_Number</th>\n",
              "      <th>mean_return</th>\n",
              "      <th>volatility</th>\n",
              "      <th>labels</th>\n",
              "    </tr>\n",
              "  </thead>\n",
              "  <tbody>\n",
              "    <tr>\n",
              "      <th>0</th>\n",
              "      <td>2020</td>\n",
              "      <td>0</td>\n",
              "      <td>-0.48600</td>\n",
              "      <td>0.687308</td>\n",
              "      <td>Red</td>\n",
              "    </tr>\n",
              "    <tr>\n",
              "      <th>1</th>\n",
              "      <td>2020</td>\n",
              "      <td>1</td>\n",
              "      <td>0.85720</td>\n",
              "      <td>1.040851</td>\n",
              "      <td>Green</td>\n",
              "    </tr>\n",
              "    <tr>\n",
              "      <th>2</th>\n",
              "      <td>2020</td>\n",
              "      <td>2</td>\n",
              "      <td>0.54340</td>\n",
              "      <td>1.404286</td>\n",
              "      <td>Green</td>\n",
              "    </tr>\n",
              "    <tr>\n",
              "      <th>3</th>\n",
              "      <td>2020</td>\n",
              "      <td>3</td>\n",
              "      <td>-0.03175</td>\n",
              "      <td>0.547226</td>\n",
              "      <td>Red</td>\n",
              "    </tr>\n",
              "    <tr>\n",
              "      <th>4</th>\n",
              "      <td>2020</td>\n",
              "      <td>4</td>\n",
              "      <td>-0.51960</td>\n",
              "      <td>3.137070</td>\n",
              "      <td>Red</td>\n",
              "    </tr>\n",
              "  </tbody>\n",
              "</table>\n",
              "</div>\n",
              "      <button class=\"colab-df-convert\" onclick=\"convertToInteractive('df-c75f5a0a-e3b0-49e7-917e-95cd443e95cd')\"\n",
              "              title=\"Convert this dataframe to an interactive table.\"\n",
              "              style=\"display:none;\">\n",
              "        \n",
              "  <svg xmlns=\"http://www.w3.org/2000/svg\" height=\"24px\"viewBox=\"0 0 24 24\"\n",
              "       width=\"24px\">\n",
              "    <path d=\"M0 0h24v24H0V0z\" fill=\"none\"/>\n",
              "    <path d=\"M18.56 5.44l.94 2.06.94-2.06 2.06-.94-2.06-.94-.94-2.06-.94 2.06-2.06.94zm-11 1L8.5 8.5l.94-2.06 2.06-.94-2.06-.94L8.5 2.5l-.94 2.06-2.06.94zm10 10l.94 2.06.94-2.06 2.06-.94-2.06-.94-.94-2.06-.94 2.06-2.06.94z\"/><path d=\"M17.41 7.96l-1.37-1.37c-.4-.4-.92-.59-1.43-.59-.52 0-1.04.2-1.43.59L10.3 9.45l-7.72 7.72c-.78.78-.78 2.05 0 2.83L4 21.41c.39.39.9.59 1.41.59.51 0 1.02-.2 1.41-.59l7.78-7.78 2.81-2.81c.8-.78.8-2.07 0-2.86zM5.41 20L4 18.59l7.72-7.72 1.47 1.35L5.41 20z\"/>\n",
              "  </svg>\n",
              "      </button>\n",
              "      \n",
              "  <style>\n",
              "    .colab-df-container {\n",
              "      display:flex;\n",
              "      flex-wrap:wrap;\n",
              "      gap: 12px;\n",
              "    }\n",
              "\n",
              "    .colab-df-convert {\n",
              "      background-color: #E8F0FE;\n",
              "      border: none;\n",
              "      border-radius: 50%;\n",
              "      cursor: pointer;\n",
              "      display: none;\n",
              "      fill: #1967D2;\n",
              "      height: 32px;\n",
              "      padding: 0 0 0 0;\n",
              "      width: 32px;\n",
              "    }\n",
              "\n",
              "    .colab-df-convert:hover {\n",
              "      background-color: #E2EBFA;\n",
              "      box-shadow: 0px 1px 2px rgba(60, 64, 67, 0.3), 0px 1px 3px 1px rgba(60, 64, 67, 0.15);\n",
              "      fill: #174EA6;\n",
              "    }\n",
              "\n",
              "    [theme=dark] .colab-df-convert {\n",
              "      background-color: #3B4455;\n",
              "      fill: #D2E3FC;\n",
              "    }\n",
              "\n",
              "    [theme=dark] .colab-df-convert:hover {\n",
              "      background-color: #434B5C;\n",
              "      box-shadow: 0px 1px 3px 1px rgba(0, 0, 0, 0.15);\n",
              "      filter: drop-shadow(0px 1px 2px rgba(0, 0, 0, 0.3));\n",
              "      fill: #FFFFFF;\n",
              "    }\n",
              "  </style>\n",
              "\n",
              "      <script>\n",
              "        const buttonEl =\n",
              "          document.querySelector('#df-c75f5a0a-e3b0-49e7-917e-95cd443e95cd button.colab-df-convert');\n",
              "        buttonEl.style.display =\n",
              "          google.colab.kernel.accessAllowed ? 'block' : 'none';\n",
              "\n",
              "        async function convertToInteractive(key) {\n",
              "          const element = document.querySelector('#df-c75f5a0a-e3b0-49e7-917e-95cd443e95cd');\n",
              "          const dataTable =\n",
              "            await google.colab.kernel.invokeFunction('convertToInteractive',\n",
              "                                                     [key], {});\n",
              "          if (!dataTable) return;\n",
              "\n",
              "          const docLinkHtml = 'Like what you see? Visit the ' +\n",
              "            '<a target=\"_blank\" href=https://colab.research.google.com/notebooks/data_table.ipynb>data table notebook</a>'\n",
              "            + ' to learn more about interactive tables.';\n",
              "          element.innerHTML = '';\n",
              "          dataTable['output_type'] = 'display_data';\n",
              "          await google.colab.output.renderOutput(dataTable, element);\n",
              "          const docLink = document.createElement('div');\n",
              "          docLink.innerHTML = docLinkHtml;\n",
              "          element.appendChild(docLink);\n",
              "        }\n",
              "      </script>\n",
              "    </div>\n",
              "  </div>\n",
              "  "
            ]
          },
          "metadata": {},
          "execution_count": 1
        }
      ],
      "source": [
        "import pandas as pd\n",
        "import numpy as np\n",
        "import matplotlib.pyplot as plt\n",
        "\n",
        "pd.set_option(\"display.width\",1000)\n",
        "df = pd.read_csv(\"/content/AAPL_weekly_return_volatility (1) - AAPL_weekly_return_volatility (1).csv\",sep=\",\")\n",
        "df.head(5)"
      ]
    },
    {
      "cell_type": "code",
      "execution_count": 11,
      "metadata": {
        "colab": {
          "base_uri": "https://localhost:8080/",
          "height": 363
        },
        "id": "EdhuWMwctO-I",
        "outputId": "e9d16e3f-fce7-4880-b518-b42d7854171b"
      },
      "outputs": [
        {
          "output_type": "execute_result",
          "data": {
            "text/plain": [
              "     Year  Week_Number  mean_return  volatility labels  Label_new\n",
              "95   2021           43      0.15820    1.559403  Green          1\n",
              "96   2021           44      0.22780    0.665820  Green          1\n",
              "97   2021           45     -0.16500    1.220756    Red          0\n",
              "98   2021           46      1.37500    1.088524  Green          1\n",
              "99   2021           47     -0.57625    1.728194    Red          0\n",
              "100  2021           48      0.64780    1.904606  Green          1\n",
              "101  2021           49      2.09540    1.445607  Green          1\n",
              "102  2021           50     -0.91880    2.482887    Red          0\n",
              "103  2021           51      0.74825    1.230668  Green          1\n",
              "104  2021           52      0.27800    1.382687  Green          1"
            ],
            "text/html": [
              "\n",
              "  <div id=\"df-0dc339a3-e09c-41eb-9c60-a163ca149468\">\n",
              "    <div class=\"colab-df-container\">\n",
              "      <div>\n",
              "<style scoped>\n",
              "    .dataframe tbody tr th:only-of-type {\n",
              "        vertical-align: middle;\n",
              "    }\n",
              "\n",
              "    .dataframe tbody tr th {\n",
              "        vertical-align: top;\n",
              "    }\n",
              "\n",
              "    .dataframe thead th {\n",
              "        text-align: right;\n",
              "    }\n",
              "</style>\n",
              "<table border=\"1\" class=\"dataframe\">\n",
              "  <thead>\n",
              "    <tr style=\"text-align: right;\">\n",
              "      <th></th>\n",
              "      <th>Year</th>\n",
              "      <th>Week_Number</th>\n",
              "      <th>mean_return</th>\n",
              "      <th>volatility</th>\n",
              "      <th>labels</th>\n",
              "      <th>Label_new</th>\n",
              "    </tr>\n",
              "  </thead>\n",
              "  <tbody>\n",
              "    <tr>\n",
              "      <th>95</th>\n",
              "      <td>2021</td>\n",
              "      <td>43</td>\n",
              "      <td>0.15820</td>\n",
              "      <td>1.559403</td>\n",
              "      <td>Green</td>\n",
              "      <td>1</td>\n",
              "    </tr>\n",
              "    <tr>\n",
              "      <th>96</th>\n",
              "      <td>2021</td>\n",
              "      <td>44</td>\n",
              "      <td>0.22780</td>\n",
              "      <td>0.665820</td>\n",
              "      <td>Green</td>\n",
              "      <td>1</td>\n",
              "    </tr>\n",
              "    <tr>\n",
              "      <th>97</th>\n",
              "      <td>2021</td>\n",
              "      <td>45</td>\n",
              "      <td>-0.16500</td>\n",
              "      <td>1.220756</td>\n",
              "      <td>Red</td>\n",
              "      <td>0</td>\n",
              "    </tr>\n",
              "    <tr>\n",
              "      <th>98</th>\n",
              "      <td>2021</td>\n",
              "      <td>46</td>\n",
              "      <td>1.37500</td>\n",
              "      <td>1.088524</td>\n",
              "      <td>Green</td>\n",
              "      <td>1</td>\n",
              "    </tr>\n",
              "    <tr>\n",
              "      <th>99</th>\n",
              "      <td>2021</td>\n",
              "      <td>47</td>\n",
              "      <td>-0.57625</td>\n",
              "      <td>1.728194</td>\n",
              "      <td>Red</td>\n",
              "      <td>0</td>\n",
              "    </tr>\n",
              "    <tr>\n",
              "      <th>100</th>\n",
              "      <td>2021</td>\n",
              "      <td>48</td>\n",
              "      <td>0.64780</td>\n",
              "      <td>1.904606</td>\n",
              "      <td>Green</td>\n",
              "      <td>1</td>\n",
              "    </tr>\n",
              "    <tr>\n",
              "      <th>101</th>\n",
              "      <td>2021</td>\n",
              "      <td>49</td>\n",
              "      <td>2.09540</td>\n",
              "      <td>1.445607</td>\n",
              "      <td>Green</td>\n",
              "      <td>1</td>\n",
              "    </tr>\n",
              "    <tr>\n",
              "      <th>102</th>\n",
              "      <td>2021</td>\n",
              "      <td>50</td>\n",
              "      <td>-0.91880</td>\n",
              "      <td>2.482887</td>\n",
              "      <td>Red</td>\n",
              "      <td>0</td>\n",
              "    </tr>\n",
              "    <tr>\n",
              "      <th>103</th>\n",
              "      <td>2021</td>\n",
              "      <td>51</td>\n",
              "      <td>0.74825</td>\n",
              "      <td>1.230668</td>\n",
              "      <td>Green</td>\n",
              "      <td>1</td>\n",
              "    </tr>\n",
              "    <tr>\n",
              "      <th>104</th>\n",
              "      <td>2021</td>\n",
              "      <td>52</td>\n",
              "      <td>0.27800</td>\n",
              "      <td>1.382687</td>\n",
              "      <td>Green</td>\n",
              "      <td>1</td>\n",
              "    </tr>\n",
              "  </tbody>\n",
              "</table>\n",
              "</div>\n",
              "      <button class=\"colab-df-convert\" onclick=\"convertToInteractive('df-0dc339a3-e09c-41eb-9c60-a163ca149468')\"\n",
              "              title=\"Convert this dataframe to an interactive table.\"\n",
              "              style=\"display:none;\">\n",
              "        \n",
              "  <svg xmlns=\"http://www.w3.org/2000/svg\" height=\"24px\"viewBox=\"0 0 24 24\"\n",
              "       width=\"24px\">\n",
              "    <path d=\"M0 0h24v24H0V0z\" fill=\"none\"/>\n",
              "    <path d=\"M18.56 5.44l.94 2.06.94-2.06 2.06-.94-2.06-.94-.94-2.06-.94 2.06-2.06.94zm-11 1L8.5 8.5l.94-2.06 2.06-.94-2.06-.94L8.5 2.5l-.94 2.06-2.06.94zm10 10l.94 2.06.94-2.06 2.06-.94-2.06-.94-.94-2.06-.94 2.06-2.06.94z\"/><path d=\"M17.41 7.96l-1.37-1.37c-.4-.4-.92-.59-1.43-.59-.52 0-1.04.2-1.43.59L10.3 9.45l-7.72 7.72c-.78.78-.78 2.05 0 2.83L4 21.41c.39.39.9.59 1.41.59.51 0 1.02-.2 1.41-.59l7.78-7.78 2.81-2.81c.8-.78.8-2.07 0-2.86zM5.41 20L4 18.59l7.72-7.72 1.47 1.35L5.41 20z\"/>\n",
              "  </svg>\n",
              "      </button>\n",
              "      \n",
              "  <style>\n",
              "    .colab-df-container {\n",
              "      display:flex;\n",
              "      flex-wrap:wrap;\n",
              "      gap: 12px;\n",
              "    }\n",
              "\n",
              "    .colab-df-convert {\n",
              "      background-color: #E8F0FE;\n",
              "      border: none;\n",
              "      border-radius: 50%;\n",
              "      cursor: pointer;\n",
              "      display: none;\n",
              "      fill: #1967D2;\n",
              "      height: 32px;\n",
              "      padding: 0 0 0 0;\n",
              "      width: 32px;\n",
              "    }\n",
              "\n",
              "    .colab-df-convert:hover {\n",
              "      background-color: #E2EBFA;\n",
              "      box-shadow: 0px 1px 2px rgba(60, 64, 67, 0.3), 0px 1px 3px 1px rgba(60, 64, 67, 0.15);\n",
              "      fill: #174EA6;\n",
              "    }\n",
              "\n",
              "    [theme=dark] .colab-df-convert {\n",
              "      background-color: #3B4455;\n",
              "      fill: #D2E3FC;\n",
              "    }\n",
              "\n",
              "    [theme=dark] .colab-df-convert:hover {\n",
              "      background-color: #434B5C;\n",
              "      box-shadow: 0px 1px 3px 1px rgba(0, 0, 0, 0.15);\n",
              "      filter: drop-shadow(0px 1px 2px rgba(0, 0, 0, 0.3));\n",
              "      fill: #FFFFFF;\n",
              "    }\n",
              "  </style>\n",
              "\n",
              "      <script>\n",
              "        const buttonEl =\n",
              "          document.querySelector('#df-0dc339a3-e09c-41eb-9c60-a163ca149468 button.colab-df-convert');\n",
              "        buttonEl.style.display =\n",
              "          google.colab.kernel.accessAllowed ? 'block' : 'none';\n",
              "\n",
              "        async function convertToInteractive(key) {\n",
              "          const element = document.querySelector('#df-0dc339a3-e09c-41eb-9c60-a163ca149468');\n",
              "          const dataTable =\n",
              "            await google.colab.kernel.invokeFunction('convertToInteractive',\n",
              "                                                     [key], {});\n",
              "          if (!dataTable) return;\n",
              "\n",
              "          const docLinkHtml = 'Like what you see? Visit the ' +\n",
              "            '<a target=\"_blank\" href=https://colab.research.google.com/notebooks/data_table.ipynb>data table notebook</a>'\n",
              "            + ' to learn more about interactive tables.';\n",
              "          element.innerHTML = '';\n",
              "          dataTable['output_type'] = 'display_data';\n",
              "          await google.colab.output.renderOutput(dataTable, element);\n",
              "          const docLink = document.createElement('div');\n",
              "          docLink.innerHTML = docLinkHtml;\n",
              "          element.appendChild(docLink);\n",
              "        }\n",
              "      </script>\n",
              "    </div>\n",
              "  </div>\n",
              "  "
            ]
          },
          "metadata": {},
          "execution_count": 11
        }
      ],
      "source": [
        "df['Label_new'] = np.where(df['labels']=='Red', 0, 1)\n",
        "df.tail(10)"
      ]
    },
    {
      "cell_type": "markdown",
      "metadata": {
        "id": "QglpYa4KtO-J"
      },
      "source": [
        "#### Q1"
      ]
    },
    {
      "cell_type": "code",
      "execution_count": 12,
      "metadata": {
        "colab": {
          "base_uri": "https://localhost:8080/"
        },
        "id": "A9Yk6ugytO-J",
        "outputId": "e7dae904-4c02-491e-d05e-659cd6f9c75c"
      },
      "outputs": [
        {
          "output_type": "stream",
          "name": "stdout",
          "text": [
            "0     0\n",
            "1     1\n",
            "2     1\n",
            "3     0\n",
            "4     0\n",
            "5     1\n",
            "6     1\n",
            "7     0\n",
            "8     0\n",
            "9     1\n",
            "10    0\n",
            "11    0\n",
            "12    1\n",
            "13    0\n",
            "14    1\n",
            "15    1\n",
            "16    1\n",
            "17    1\n",
            "18    1\n",
            "19    0\n",
            "20    1\n",
            "21    0\n",
            "22    1\n",
            "23    1\n",
            "24    1\n",
            "25    1\n",
            "26    1\n",
            "27    1\n",
            "28    0\n",
            "29    0\n",
            "30    1\n",
            "31    0\n",
            "32    1\n",
            "33    1\n",
            "34    0\n",
            "35    0\n",
            "36    0\n",
            "37    0\n",
            "38    1\n",
            "39    0\n",
            "40    1\n",
            "41    1\n",
            "42    0\n",
            "43    0\n",
            "44    1\n",
            "45    1\n",
            "46    0\n",
            "47    0\n",
            "48    1\n",
            "49    1\n",
            "50    1\n",
            "51    1\n",
            "52    0\n",
            "Name: Label_new, dtype: int64\n"
          ]
        },
        {
          "output_type": "execute_result",
          "data": {
            "text/plain": [
              "0.8269230769230769"
            ]
          },
          "metadata": {},
          "execution_count": 12
        }
      ],
      "source": [
        "import pandas as pd\n",
        "import numpy as np\n",
        "from sklearn import svm\n",
        "from sklearn.preprocessing import StandardScaler\n",
        "from sklearn.metrics import accuracy_score\n",
        "\n",
        "\n",
        "X_train = df[df['Year']==2020]\n",
        "X_test = df[df['Year']==2021]\n",
        "\n",
        "\n",
        "Y_train = X_train['Label_new']\n",
        "X_train = X_train.drop(['Label_new', 'labels', 'Year', 'Week_Number'], axis=1)\n",
        "\n",
        "Y_test = X_test['Label_new']\n",
        "X_test = X_test.drop(['Label_new', 'labels', 'Year', 'Week_Number'], axis=1)\n",
        "\n",
        "X_data = df[[ \"mean_return\", \"volatility\"]].values\n",
        "scaler = StandardScaler()\n",
        "scaler.fit(X_data)\n",
        "X = scaler.transform (X_data)\n",
        "Y = df[\"labels\"].values\n",
        "\n",
        "print(Y_train)\n",
        "svm_classifier = svm.SVC(kernel = \"linear\")\n",
        "svm_classifier.fit(X_train, Y_train)\n",
        "pred = svm_classifier.predict(X_test)\n",
        "acc = accuracy_score(Y_test, pred)\n",
        "acc"
      ]
    },
    {
      "cell_type": "markdown",
      "metadata": {
        "id": "sHSlkAmTtO-K"
      },
      "source": [
        "#### Q2"
      ]
    },
    {
      "cell_type": "code",
      "execution_count": 13,
      "metadata": {
        "colab": {
          "base_uri": "https://localhost:8080/"
        },
        "id": "S_5uto1HtO-L",
        "outputId": "9d97051b-638b-48fd-8b87-709e8b3c319c"
      },
      "outputs": [
        {
          "output_type": "execute_result",
          "data": {
            "text/plain": [
              "array([[27,  3],\n",
              "       [ 6, 16]])"
            ]
          },
          "metadata": {},
          "execution_count": 13
        }
      ],
      "source": [
        "from sklearn.metrics import confusion_matrix\n",
        "pred = svm_classifier.predict(X_test)\n",
        "conf = confusion_matrix(Y_test, pred)\n",
        "conf"
      ]
    },
    {
      "cell_type": "code",
      "execution_count": 14,
      "metadata": {
        "colab": {
          "base_uri": "https://localhost:8080/"
        },
        "id": "g1XybqW4tO-M",
        "outputId": "122077c3-85ee-4561-c806-df5eb3f07a6c"
      },
      "outputs": [
        {
          "output_type": "stream",
          "name": "stdout",
          "text": [
            "TPR----> 26\n",
            "TNR----> 0\n"
          ]
        }
      ],
      "source": [
        "print(\"TPR----> 26\")\n",
        "print(\"TNR----> 0\")"
      ]
    },
    {
      "cell_type": "markdown",
      "metadata": {
        "id": "BH52fmFjtO-M"
      },
      "source": [
        "#### Q3"
      ]
    },
    {
      "cell_type": "code",
      "execution_count": 15,
      "metadata": {
        "colab": {
          "base_uri": "https://localhost:8080/"
        },
        "id": "mQvd9nmotO-N",
        "outputId": "31a56891-6b30-47c4-9487-c665022792ed"
      },
      "outputs": [
        {
          "output_type": "execute_result",
          "data": {
            "text/plain": [
              "0.8269230769230769"
            ]
          },
          "metadata": {},
          "execution_count": 15
        }
      ],
      "source": [
        "svm_classifier_gauss = svm.SVC( kernel = \"rbf\", degree = 4)\n",
        "svm_classifier_gauss.fit (X_train, Y_train)\n",
        "pred1 = svm_classifier_gauss.predict(X_test)\n",
        "acc1 = accuracy_score(Y_test, pred)\n",
        "acc1"
      ]
    },
    {
      "cell_type": "markdown",
      "metadata": {
        "id": "zS7ait8vtO-N"
      },
      "source": [
        "#### Q4"
      ]
    },
    {
      "cell_type": "code",
      "execution_count": 16,
      "metadata": {
        "colab": {
          "base_uri": "https://localhost:8080/"
        },
        "id": "omUWXK9RtO-N",
        "outputId": "7793f6d1-eea9-4de3-9104-1e45c06cc945"
      },
      "outputs": [
        {
          "output_type": "execute_result",
          "data": {
            "text/plain": [
              "array([[27,  3],\n",
              "       [ 6, 16]])"
            ]
          },
          "metadata": {},
          "execution_count": 16
        }
      ],
      "source": [
        "from sklearn.metrics import confusion_matrix\n",
        "pred1 = svm_classifier.predict(X_test)\n",
        "conf = confusion_matrix(Y_test, pred)\n",
        "conf"
      ]
    },
    {
      "cell_type": "markdown",
      "metadata": {
        "id": "YFdneyoJtO-O"
      },
      "source": [
        "#### Q5"
      ]
    },
    {
      "cell_type": "code",
      "execution_count": 18,
      "metadata": {
        "colab": {
          "base_uri": "https://localhost:8080/"
        },
        "id": "v9aJjxOgtO-O",
        "outputId": "29b6778c-52cf-4203-e553-132ca92bb568"
      },
      "outputs": [
        {
          "output_type": "stream",
          "name": "stdout",
          "text": [
            "VALUES FOR ADIDAS\n",
            "Money Available for ADIDAS =  138.2098\n",
            "Money when traded long =  37.76049999999995\n",
            "Money when traded short =  0.44930000000005066\n",
            "Money long percent =  138.81536178042086\n",
            "Money short percent =  97.12355671762562\n",
            "Total Trades =  503\n",
            "Profit per trade =  0.07596381709741551\n"
          ]
        }
      ],
      "source": [
        "money_available = 100\n",
        "shares = 0\n",
        "week_count = 1\n",
        "buy_flag = False\n",
        "flag = False #False when cashed out; true when invested in the stock\n",
        "\n",
        "\n",
        "df_detailed = pd.read_csv(\"/content/AAPL_weekly_return_detailed (1).csv\",sep=\",\") #data with prices\n",
        "df = df_detailed[(df_detailed[\"Year\"].isin([2020,2021]))]\n",
        "df = df[['Open','Close']]\n",
        "\n",
        "#Functions defined for stock purchase and amount\n",
        "def stock_amount (cash,purchse_value):\n",
        "    stock_bought = round(cash/purchse_value, 4) #the value is increased to 4 decimal values as stock amounts add up to 4 digits and causee significant changes\n",
        "    return stock_bought\n",
        "def buy_out (shares, buy_out_value):\n",
        "    total_amount = shares * buy_out_value\n",
        "    total_amount = round (total_amount, 4)\n",
        "    return total_amount\n",
        "\n",
        "money_long_percent = 100\n",
        "money_short_percent = 100\n",
        "money_long = 0\n",
        "money_short = 0\n",
        "trades = 0\n",
        "money_each_day_my_stock_array = []\n",
        "normalised_buy_and_hold_value_each_day = []\n",
        "open_price_of_my_stock_day_1 = df.iloc[0]['Close']\n",
        "\n",
        "for i in range(len(df.index)-1):\n",
        "    \n",
        "    if(df.iloc[i]['Open'] < df.iloc[i]['Close']):\n",
        "        trades += 1\n",
        "        buy = money_available\n",
        "        shares = stock_amount(money_available, df.iloc[i]['Close'])\n",
        "        money_available = buy_out(shares, df.iloc[i+1][\"Open\"])\n",
        "        sell = money_available\n",
        "        money_long += sell - buy\n",
        "        money_long_percent = money_long_percent*(1+((sell - buy)/100))\n",
        "        \n",
        "    elif(df.iloc[i]['Open'] > df.iloc[i]['Close']):\n",
        "        trades += 1\n",
        "        buy = money_available\n",
        "        shares = stock_amount(money_available, df.iloc[i+1][\"Open\"])\n",
        "        money_available = buy_out(shares, df.iloc[i]['Close'])\n",
        "        sell = money_available\n",
        "        money_short += sell - buy\n",
        "        money_short_percent = money_short_percent*(1+((sell - buy)/100))\n",
        "        \n",
        "    money_each_day_my_stock_array.append(money_available)\n",
        "    normalised_buy_and_hold_value_each_day.append(df.iloc[i]['Close']/open_price_of_my_stock_day_1*100)\n",
        "    \n",
        "print (\"VALUES FOR ADIDAS\")    \n",
        "print(\"Money Available for ADIDAS = \", money_available)   \n",
        "print(\"Money when traded long = \", money_long)   \n",
        "print(\"Money when traded short = \", money_short)  \n",
        "print(\"Money long percent = \", money_long_percent)   \n",
        "print(\"Money short percent = \", money_short_percent)  \n",
        "print(\"Total Trades = \",trades)\n",
        "print(\"Profit per trade = \",(money_available-100)/trades)\n",
        "\n",
        "\n",
        "\n",
        "\n",
        "\n",
        "\n",
        "\n"
      ]
    },
    {
      "cell_type": "markdown",
      "metadata": {
        "id": "ISR4MH-5tO-P"
      },
      "source": [
        "#### BUY AND HOLD IS BETTER"
      ]
    }
  ],
  "metadata": {
    "kernelspec": {
      "display_name": "Python 3 (ipykernel)",
      "language": "python",
      "name": "python3"
    },
    "language_info": {
      "codemirror_mode": {
        "name": "ipython",
        "version": 2
      },
      "file_extension": ".py",
      "mimetype": "text/x-python",
      "name": "python",
      "nbconvert_exporter": "python",
      "pygments_lexer": "ipython2",
      "version": "2.7.16"
    },
    "colab": {
      "provenance": [],
      "include_colab_link": true
    }
  },
  "nbformat": 4,
  "nbformat_minor": 0
}