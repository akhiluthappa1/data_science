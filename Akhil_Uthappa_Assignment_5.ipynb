{
  "nbformat": 4,
  "nbformat_minor": 0,
  "metadata": {
    "colab": {
      "provenance": [],
      "authorship_tag": "ABX9TyOOrcVyehYkfEgNMUX4x8gR",
      "include_colab_link": true
    },
    "kernelspec": {
      "name": "python3",
      "display_name": "Python 3"
    },
    "language_info": {
      "name": "python"
    }
  },
  "cells": [
    {
      "cell_type": "markdown",
      "metadata": {
        "id": "view-in-github",
        "colab_type": "text"
      },
      "source": [
        "<a href=\"https://colab.research.google.com/github/akhiluthappa1/data_science/blob/main/Akhil_Uthappa_Assignment_5.ipynb\" target=\"_parent\"><img src=\"https://colab.research.google.com/assets/colab-badge.svg\" alt=\"Open In Colab\"/></a>"
      ]
    },
    {
      "cell_type": "markdown",
      "source": [
        "## Loading the IRIS Dataset."
      ],
      "metadata": {
        "id": "YCS1OxA64qq0"
      }
    },
    {
      "cell_type": "code",
      "execution_count": null,
      "metadata": {
        "colab": {
          "base_uri": "https://localhost:8080/"
        },
        "id": "pTDS4tln4oa9",
        "outputId": "231c4745-f71b-4591-910d-ecdd7bc0cd9a"
      },
      "outputs": [
        {
          "output_type": "stream",
          "name": "stdout",
          "text": [
            "     sepal-length  sepal-width  petal-length  petal-width            Class\n",
            "0             5.1          3.5           1.4          0.2      Iris-setosa\n",
            "1             4.9          3.0           1.4          0.2      Iris-setosa\n",
            "2             4.7          3.2           1.3          0.2      Iris-setosa\n",
            "3             4.6          3.1           1.5          0.2      Iris-setosa\n",
            "4             5.0          3.6           1.4          0.2      Iris-setosa\n",
            "5             5.4          3.9           1.7          0.4      Iris-setosa\n",
            "6             4.6          3.4           1.4          0.3      Iris-setosa\n",
            "7             5.0          3.4           1.5          0.2      Iris-setosa\n",
            "8             4.4          2.9           1.4          0.2      Iris-setosa\n",
            "9             4.9          3.1           1.5          0.1      Iris-setosa\n",
            "10            5.4          3.7           1.5          0.2      Iris-setosa\n",
            "11            4.8          3.4           1.6          0.2      Iris-setosa\n",
            "12            4.8          3.0           1.4          0.1      Iris-setosa\n",
            "13            4.3          3.0           1.1          0.1      Iris-setosa\n",
            "14            5.8          4.0           1.2          0.2      Iris-setosa\n",
            "15            5.7          4.4           1.5          0.4      Iris-setosa\n",
            "16            5.4          3.9           1.3          0.4      Iris-setosa\n",
            "17            5.1          3.5           1.4          0.3      Iris-setosa\n",
            "18            5.7          3.8           1.7          0.3      Iris-setosa\n",
            "19            5.1          3.8           1.5          0.3      Iris-setosa\n",
            "20            5.4          3.4           1.7          0.2      Iris-setosa\n",
            "21            5.1          3.7           1.5          0.4      Iris-setosa\n",
            "22            4.6          3.6           1.0          0.2      Iris-setosa\n",
            "23            5.1          3.3           1.7          0.5      Iris-setosa\n",
            "24            4.8          3.4           1.9          0.2      Iris-setosa\n",
            "25            5.0          3.0           1.6          0.2      Iris-setosa\n",
            "26            5.0          3.4           1.6          0.4      Iris-setosa\n",
            "27            5.2          3.5           1.5          0.2      Iris-setosa\n",
            "28            5.2          3.4           1.4          0.2      Iris-setosa\n",
            "29            4.7          3.2           1.6          0.2      Iris-setosa\n",
            "30            4.8          3.1           1.6          0.2      Iris-setosa\n",
            "31            5.4          3.4           1.5          0.4      Iris-setosa\n",
            "32            5.2          4.1           1.5          0.1      Iris-setosa\n",
            "33            5.5          4.2           1.4          0.2      Iris-setosa\n",
            "34            4.9          3.1           1.5          0.1      Iris-setosa\n",
            "35            5.0          3.2           1.2          0.2      Iris-setosa\n",
            "36            5.5          3.5           1.3          0.2      Iris-setosa\n",
            "37            4.9          3.1           1.5          0.1      Iris-setosa\n",
            "38            4.4          3.0           1.3          0.2      Iris-setosa\n",
            "39            5.1          3.4           1.5          0.2      Iris-setosa\n",
            "40            5.0          3.5           1.3          0.3      Iris-setosa\n",
            "41            4.5          2.3           1.3          0.3      Iris-setosa\n",
            "42            4.4          3.2           1.3          0.2      Iris-setosa\n",
            "43            5.0          3.5           1.6          0.6      Iris-setosa\n",
            "44            5.1          3.8           1.9          0.4      Iris-setosa\n",
            "45            4.8          3.0           1.4          0.3      Iris-setosa\n",
            "46            5.1          3.8           1.6          0.2      Iris-setosa\n",
            "47            4.6          3.2           1.4          0.2      Iris-setosa\n",
            "48            5.3          3.7           1.5          0.2      Iris-setosa\n",
            "49            5.0          3.3           1.4          0.2      Iris-setosa\n",
            "50            7.0          3.2           4.7          1.4  Iris-versicolor\n",
            "51            6.4          3.2           4.5          1.5  Iris-versicolor\n",
            "52            6.9          3.1           4.9          1.5  Iris-versicolor\n",
            "53            5.5          2.3           4.0          1.3  Iris-versicolor\n",
            "54            6.5          2.8           4.6          1.5  Iris-versicolor\n",
            "55            5.7          2.8           4.5          1.3  Iris-versicolor\n",
            "56            6.3          3.3           4.7          1.6  Iris-versicolor\n",
            "57            4.9          2.4           3.3          1.0  Iris-versicolor\n",
            "58            6.6          2.9           4.6          1.3  Iris-versicolor\n",
            "59            5.2          2.7           3.9          1.4  Iris-versicolor\n",
            "60            5.0          2.0           3.5          1.0  Iris-versicolor\n",
            "61            5.9          3.0           4.2          1.5  Iris-versicolor\n",
            "62            6.0          2.2           4.0          1.0  Iris-versicolor\n",
            "63            6.1          2.9           4.7          1.4  Iris-versicolor\n",
            "64            5.6          2.9           3.6          1.3  Iris-versicolor\n",
            "65            6.7          3.1           4.4          1.4  Iris-versicolor\n",
            "66            5.6          3.0           4.5          1.5  Iris-versicolor\n",
            "67            5.8          2.7           4.1          1.0  Iris-versicolor\n",
            "68            6.2          2.2           4.5          1.5  Iris-versicolor\n",
            "69            5.6          2.5           3.9          1.1  Iris-versicolor\n",
            "70            5.9          3.2           4.8          1.8  Iris-versicolor\n",
            "71            6.1          2.8           4.0          1.3  Iris-versicolor\n",
            "72            6.3          2.5           4.9          1.5  Iris-versicolor\n",
            "73            6.1          2.8           4.7          1.2  Iris-versicolor\n",
            "74            6.4          2.9           4.3          1.3  Iris-versicolor\n",
            "75            6.6          3.0           4.4          1.4  Iris-versicolor\n",
            "76            6.8          2.8           4.8          1.4  Iris-versicolor\n",
            "77            6.7          3.0           5.0          1.7  Iris-versicolor\n",
            "78            6.0          2.9           4.5          1.5  Iris-versicolor\n",
            "79            5.7          2.6           3.5          1.0  Iris-versicolor\n",
            "80            5.5          2.4           3.8          1.1  Iris-versicolor\n",
            "81            5.5          2.4           3.7          1.0  Iris-versicolor\n",
            "82            5.8          2.7           3.9          1.2  Iris-versicolor\n",
            "83            6.0          2.7           5.1          1.6  Iris-versicolor\n",
            "84            5.4          3.0           4.5          1.5  Iris-versicolor\n",
            "85            6.0          3.4           4.5          1.6  Iris-versicolor\n",
            "86            6.7          3.1           4.7          1.5  Iris-versicolor\n",
            "87            6.3          2.3           4.4          1.3  Iris-versicolor\n",
            "88            5.6          3.0           4.1          1.3  Iris-versicolor\n",
            "89            5.5          2.5           4.0          1.3  Iris-versicolor\n",
            "90            5.5          2.6           4.4          1.2  Iris-versicolor\n",
            "91            6.1          3.0           4.6          1.4  Iris-versicolor\n",
            "92            5.8          2.6           4.0          1.2  Iris-versicolor\n",
            "93            5.0          2.3           3.3          1.0  Iris-versicolor\n",
            "94            5.6          2.7           4.2          1.3  Iris-versicolor\n",
            "95            5.7          3.0           4.2          1.2  Iris-versicolor\n",
            "96            5.7          2.9           4.2          1.3  Iris-versicolor\n",
            "97            6.2          2.9           4.3          1.3  Iris-versicolor\n",
            "98            5.1          2.5           3.0          1.1  Iris-versicolor\n",
            "99            5.7          2.8           4.1          1.3  Iris-versicolor\n",
            "100           6.3          3.3           6.0          2.5   Iris-virginica\n",
            "101           5.8          2.7           5.1          1.9   Iris-virginica\n",
            "102           7.1          3.0           5.9          2.1   Iris-virginica\n",
            "103           6.3          2.9           5.6          1.8   Iris-virginica\n",
            "104           6.5          3.0           5.8          2.2   Iris-virginica\n",
            "105           7.6          3.0           6.6          2.1   Iris-virginica\n",
            "106           4.9          2.5           4.5          1.7   Iris-virginica\n",
            "107           7.3          2.9           6.3          1.8   Iris-virginica\n",
            "108           6.7          2.5           5.8          1.8   Iris-virginica\n",
            "109           7.2          3.6           6.1          2.5   Iris-virginica\n",
            "110           6.5          3.2           5.1          2.0   Iris-virginica\n",
            "111           6.4          2.7           5.3          1.9   Iris-virginica\n",
            "112           6.8          3.0           5.5          2.1   Iris-virginica\n",
            "113           5.7          2.5           5.0          2.0   Iris-virginica\n",
            "114           5.8          2.8           5.1          2.4   Iris-virginica\n",
            "115           6.4          3.2           5.3          2.3   Iris-virginica\n",
            "116           6.5          3.0           5.5          1.8   Iris-virginica\n",
            "117           7.7          3.8           6.7          2.2   Iris-virginica\n",
            "118           7.7          2.6           6.9          2.3   Iris-virginica\n",
            "119           6.0          2.2           5.0          1.5   Iris-virginica\n",
            "120           6.9          3.2           5.7          2.3   Iris-virginica\n",
            "121           5.6          2.8           4.9          2.0   Iris-virginica\n",
            "122           7.7          2.8           6.7          2.0   Iris-virginica\n",
            "123           6.3          2.7           4.9          1.8   Iris-virginica\n",
            "124           6.7          3.3           5.7          2.1   Iris-virginica\n",
            "125           7.2          3.2           6.0          1.8   Iris-virginica\n",
            "126           6.2          2.8           4.8          1.8   Iris-virginica\n",
            "127           6.1          3.0           4.9          1.8   Iris-virginica\n",
            "128           6.4          2.8           5.6          2.1   Iris-virginica\n",
            "129           7.2          3.0           5.8          1.6   Iris-virginica\n",
            "130           7.4          2.8           6.1          1.9   Iris-virginica\n",
            "131           7.9          3.8           6.4          2.0   Iris-virginica\n",
            "132           6.4          2.8           5.6          2.2   Iris-virginica\n",
            "133           6.3          2.8           5.1          1.5   Iris-virginica\n",
            "134           6.1          2.6           5.6          1.4   Iris-virginica\n",
            "135           7.7          3.0           6.1          2.3   Iris-virginica\n",
            "136           6.3          3.4           5.6          2.4   Iris-virginica\n",
            "137           6.4          3.1           5.5          1.8   Iris-virginica\n",
            "138           6.0          3.0           4.8          1.8   Iris-virginica\n",
            "139           6.9          3.1           5.4          2.1   Iris-virginica\n",
            "140           6.7          3.1           5.6          2.4   Iris-virginica\n",
            "141           6.9          3.1           5.1          2.3   Iris-virginica\n",
            "142           5.8          2.7           5.1          1.9   Iris-virginica\n",
            "143           6.8          3.2           5.9          2.3   Iris-virginica\n",
            "144           6.7          3.3           5.7          2.5   Iris-virginica\n",
            "145           6.7          3.0           5.2          2.3   Iris-virginica\n",
            "146           6.3          2.5           5.0          1.9   Iris-virginica\n",
            "147           6.5          3.0           5.2          2.0   Iris-virginica\n",
            "148           6.2          3.4           5.4          2.3   Iris-virginica\n",
            "149           5.9          3.0           5.1          1.8   Iris-virginica\n"
          ]
        }
      ],
      "source": [
        "import numpy as np\n",
        "import pandas as pd\n",
        "url = r\"https://archive.ics.uci.edu/ml/\" \\\n",
        "+ r\"machine-learning-databases/iris/iris.data\"\n",
        "df = pd. read_csv (url , names =[\n",
        "\"sepal-length\", \"sepal-width\",\n",
        "\"petal-length\", \"petal-width\",\n",
        "\"Class\"])\n",
        "df_fresh = df\n",
        "print(df.to_string())"
      ]
    },
    {
      "cell_type": "markdown",
      "source": [
        "# Question 1:"
      ],
      "metadata": {
        "id": "CMaMzjkxqBzQ"
      }
    },
    {
      "cell_type": "markdown",
      "source": [
        "## 1. download IRIS dataset, remove Setosa flowers and assign labels 0 to to Versicolor and 1 to Virginica."
      ],
      "metadata": {
        "id": "yLxPr4NZqIxG"
      }
    },
    {
      "cell_type": "code",
      "source": [
        "from sklearn.model_selection import train_test_split\n",
        "df = df[df.Class!='Iris-setosa']\n",
        "df['label'] = np.where(df['Class']== 'Iris-virginica', 1, 0)\n",
        "train, test = train_test_split(df, test_size=0.5)"
      ],
      "metadata": {
        "id": "S6ig19Ixp86-"
      },
      "execution_count": null,
      "outputs": []
    },
    {
      "cell_type": "markdown",
      "source": [
        "## 2. For each label and feature compute statistical averages (from training set!) and put them in the following table:"
      ],
      "metadata": {
        "id": "LEWZRdtfZ8gd"
      }
    },
    {
      "cell_type": "code",
      "source": [
        "from sklearn.model_selection import train_test_split\n",
        "\n",
        "d = {\n",
        "     'Feature': ['Petal-Length', 'Petal-width', 'Sepal-length', 'Sepal-width'],\n",
        "     'Mean_Iris-virginica': [0, 0, 0, 0],\n",
        "     'Mean_Iris-versicolor': [0, 0, 0, 0],\n",
        "     'Mean_all':[0, 0, 0, 0],\n",
        "     'Standard Deviation_Iris-virginica': [0, 0, 0, 0],\n",
        "     'Standard Deviation_Iris-versicolor': [0, 0, 0, 0],\n",
        "     'Standard Deviation_all': [0, 0, 0, 0]\n",
        "}\n",
        "df_table = pd.DataFrame(data=d)\n",
        "df_table.loc[df_table.index[0], 'Mean_Iris-virginica'] = train.loc[train['label'] == 1, 'petal-length'].mean().round(2)\n",
        "df_table.loc[df_table.index[0], 'Mean_Iris-versicolor'] = train.loc[train['label'] == 0, 'petal-length'].mean().round(2)\n",
        "df_table.loc[df_table.index[0], 'Mean_all'] = train['petal-length'].mean().round(2)\n",
        "df_table.loc[df_table.index[0], 'Standard Deviation_Iris-virginica'] = train.loc[train['label'] == 1, 'petal-length'].std().round(2)\n",
        "df_table.loc[df_table.index[0], 'Standard Deviation_Iris-versicolor'] = train.loc[train['label'] == 0, 'petal-length'].std().round(2)\n",
        "df_table.loc[df_table.index[0], 'Standard Deviation_all'] = train['petal-length'].std().round(2)\n",
        "\n",
        "df_table.loc[df_table.index[1], 'Mean_Iris-virginica'] = train.loc[train['label'] == 1, 'petal-width'].mean().round(2)\n",
        "df_table.loc[df_table.index[1], 'Mean_Iris-versicolor'] = train.loc[train['label'] == 0, 'petal-width'].mean().round(2)\n",
        "df_table.loc[df_table.index[1], 'Mean_all'] = train['petal-width'].mean().round(2)\n",
        "df_table.loc[df_table.index[1], 'Standard Deviation_Iris-virginica'] = train.loc[train['label'] == 1, 'petal-width'].std().round(2)\n",
        "df_table.loc[df_table.index[1], 'Standard Deviation_Iris-versicolor'] = train.loc[train['label'] == 0, 'petal-width'].std().round(2)\n",
        "df_table.loc[df_table.index[1], 'Standard Deviation_all'] = train['petal-width'].std().round(2)\n",
        "\n",
        "df_table.loc[df_table.index[2], 'Mean_Iris-virginica'] = train.loc[train['label'] == 1, 'sepal-length'].mean().round(2)\n",
        "df_table.loc[df_table.index[2], 'Mean_Iris-versicolor'] = train.loc[train['label'] == 0, 'sepal-length'].mean().round(2)\n",
        "df_table.loc[df_table.index[2], 'Mean_all'] = train['sepal-length'].mean().round(2)\n",
        "df_table.loc[df_table.index[2], 'Standard Deviation_Iris-virginica'] = train.loc[train['label'] == 1, 'sepal-length'].std().round(2)\n",
        "df_table.loc[df_table.index[2], 'Standard Deviation_Iris-versicolor'] = train.loc[train['label'] == 0, 'sepal-length'].std().round(2)\n",
        "df_table.loc[df_table.index[2], 'Standard Deviation_all'] = train['sepal-length'].std().round(2)\n",
        "\n",
        "df_table.loc[df_table.index[3], 'Mean_Iris-virginica'] = train.loc[train['label'] == 1, 'sepal-width'].mean().round(2)\n",
        "df_table.loc[df_table.index[3], 'Mean_Iris-versicolor'] = train.loc[train['label'] == 0, 'sepal-width'].mean().round(2)\n",
        "df_table.loc[df_table.index[3], 'Mean_all'] = train['sepal-width'].mean().round(2)\n",
        "df_table.loc[df_table.index[3], 'Standard Deviation_Iris-virginica'] = train.loc[train['label'] == 1, 'sepal-width'].std().round(2)\n",
        "df_table.loc[df_table.index[3], 'Standard Deviation_Iris-versicolor'] = train.loc[train['label'] == 0, 'sepal-width'].std().round(2)\n",
        "df_table.loc[df_table.index[3], 'Standard Deviation_all'] = train['sepal-width'].std().round(2)\n",
        "df_table\n",
        "\n",
        "# df_table.loc[df_table.index[0], 'Mean_Iris-virginica'] = df.loc[df['label'] == '1', 'petal-length'].mean()\n",
        "# df_table\n"
      ],
      "metadata": {
        "colab": {
          "base_uri": "https://localhost:8080/",
          "height": 271
        },
        "id": "-ov4UVFxaNwK",
        "outputId": "a3451f04-d91f-48fb-dcaf-66bedb9b7cba"
      },
      "execution_count": null,
      "outputs": [
        {
          "output_type": "execute_result",
          "data": {
            "text/plain": [
              "        Feature  Mean_Iris-virginica  Mean_Iris-versicolor  Mean_all  \\\n",
              "0  Petal-Length                 5.55                  4.27      4.83   \n",
              "1   Petal-width                 2.04                  1.35      1.65   \n",
              "2  Sepal-length                 6.61                  6.00      6.27   \n",
              "3   Sepal-width                 2.98                  2.80      2.88   \n",
              "\n",
              "   Standard Deviation_Iris-virginica  Standard Deviation_Iris-versicolor  \\\n",
              "0                               0.46                                0.50   \n",
              "1                               0.27                                0.19   \n",
              "2                               0.51                                0.56   \n",
              "3                               0.35                                0.32   \n",
              "\n",
              "   Standard Deviation_all  \n",
              "0                    0.80  \n",
              "1                    0.41  \n",
              "2                    0.62  \n",
              "3                    0.34  "
            ],
            "text/html": [
              "\n",
              "  <div id=\"df-08906425-843e-48d8-9197-0d08368b0339\">\n",
              "    <div class=\"colab-df-container\">\n",
              "      <div>\n",
              "<style scoped>\n",
              "    .dataframe tbody tr th:only-of-type {\n",
              "        vertical-align: middle;\n",
              "    }\n",
              "\n",
              "    .dataframe tbody tr th {\n",
              "        vertical-align: top;\n",
              "    }\n",
              "\n",
              "    .dataframe thead th {\n",
              "        text-align: right;\n",
              "    }\n",
              "</style>\n",
              "<table border=\"1\" class=\"dataframe\">\n",
              "  <thead>\n",
              "    <tr style=\"text-align: right;\">\n",
              "      <th></th>\n",
              "      <th>Feature</th>\n",
              "      <th>Mean_Iris-virginica</th>\n",
              "      <th>Mean_Iris-versicolor</th>\n",
              "      <th>Mean_all</th>\n",
              "      <th>Standard Deviation_Iris-virginica</th>\n",
              "      <th>Standard Deviation_Iris-versicolor</th>\n",
              "      <th>Standard Deviation_all</th>\n",
              "    </tr>\n",
              "  </thead>\n",
              "  <tbody>\n",
              "    <tr>\n",
              "      <th>0</th>\n",
              "      <td>Petal-Length</td>\n",
              "      <td>5.55</td>\n",
              "      <td>4.27</td>\n",
              "      <td>4.83</td>\n",
              "      <td>0.46</td>\n",
              "      <td>0.50</td>\n",
              "      <td>0.80</td>\n",
              "    </tr>\n",
              "    <tr>\n",
              "      <th>1</th>\n",
              "      <td>Petal-width</td>\n",
              "      <td>2.04</td>\n",
              "      <td>1.35</td>\n",
              "      <td>1.65</td>\n",
              "      <td>0.27</td>\n",
              "      <td>0.19</td>\n",
              "      <td>0.41</td>\n",
              "    </tr>\n",
              "    <tr>\n",
              "      <th>2</th>\n",
              "      <td>Sepal-length</td>\n",
              "      <td>6.61</td>\n",
              "      <td>6.00</td>\n",
              "      <td>6.27</td>\n",
              "      <td>0.51</td>\n",
              "      <td>0.56</td>\n",
              "      <td>0.62</td>\n",
              "    </tr>\n",
              "    <tr>\n",
              "      <th>3</th>\n",
              "      <td>Sepal-width</td>\n",
              "      <td>2.98</td>\n",
              "      <td>2.80</td>\n",
              "      <td>2.88</td>\n",
              "      <td>0.35</td>\n",
              "      <td>0.32</td>\n",
              "      <td>0.34</td>\n",
              "    </tr>\n",
              "  </tbody>\n",
              "</table>\n",
              "</div>\n",
              "      <button class=\"colab-df-convert\" onclick=\"convertToInteractive('df-08906425-843e-48d8-9197-0d08368b0339')\"\n",
              "              title=\"Convert this dataframe to an interactive table.\"\n",
              "              style=\"display:none;\">\n",
              "        \n",
              "  <svg xmlns=\"http://www.w3.org/2000/svg\" height=\"24px\"viewBox=\"0 0 24 24\"\n",
              "       width=\"24px\">\n",
              "    <path d=\"M0 0h24v24H0V0z\" fill=\"none\"/>\n",
              "    <path d=\"M18.56 5.44l.94 2.06.94-2.06 2.06-.94-2.06-.94-.94-2.06-.94 2.06-2.06.94zm-11 1L8.5 8.5l.94-2.06 2.06-.94-2.06-.94L8.5 2.5l-.94 2.06-2.06.94zm10 10l.94 2.06.94-2.06 2.06-.94-2.06-.94-.94-2.06-.94 2.06-2.06.94z\"/><path d=\"M17.41 7.96l-1.37-1.37c-.4-.4-.92-.59-1.43-.59-.52 0-1.04.2-1.43.59L10.3 9.45l-7.72 7.72c-.78.78-.78 2.05 0 2.83L4 21.41c.39.39.9.59 1.41.59.51 0 1.02-.2 1.41-.59l7.78-7.78 2.81-2.81c.8-.78.8-2.07 0-2.86zM5.41 20L4 18.59l7.72-7.72 1.47 1.35L5.41 20z\"/>\n",
              "  </svg>\n",
              "      </button>\n",
              "      \n",
              "  <style>\n",
              "    .colab-df-container {\n",
              "      display:flex;\n",
              "      flex-wrap:wrap;\n",
              "      gap: 12px;\n",
              "    }\n",
              "\n",
              "    .colab-df-convert {\n",
              "      background-color: #E8F0FE;\n",
              "      border: none;\n",
              "      border-radius: 50%;\n",
              "      cursor: pointer;\n",
              "      display: none;\n",
              "      fill: #1967D2;\n",
              "      height: 32px;\n",
              "      padding: 0 0 0 0;\n",
              "      width: 32px;\n",
              "    }\n",
              "\n",
              "    .colab-df-convert:hover {\n",
              "      background-color: #E2EBFA;\n",
              "      box-shadow: 0px 1px 2px rgba(60, 64, 67, 0.3), 0px 1px 3px 1px rgba(60, 64, 67, 0.15);\n",
              "      fill: #174EA6;\n",
              "    }\n",
              "\n",
              "    [theme=dark] .colab-df-convert {\n",
              "      background-color: #3B4455;\n",
              "      fill: #D2E3FC;\n",
              "    }\n",
              "\n",
              "    [theme=dark] .colab-df-convert:hover {\n",
              "      background-color: #434B5C;\n",
              "      box-shadow: 0px 1px 3px 1px rgba(0, 0, 0, 0.15);\n",
              "      filter: drop-shadow(0px 1px 2px rgba(0, 0, 0, 0.3));\n",
              "      fill: #FFFFFF;\n",
              "    }\n",
              "  </style>\n",
              "\n",
              "      <script>\n",
              "        const buttonEl =\n",
              "          document.querySelector('#df-08906425-843e-48d8-9197-0d08368b0339 button.colab-df-convert');\n",
              "        buttonEl.style.display =\n",
              "          google.colab.kernel.accessAllowed ? 'block' : 'none';\n",
              "\n",
              "        async function convertToInteractive(key) {\n",
              "          const element = document.querySelector('#df-08906425-843e-48d8-9197-0d08368b0339');\n",
              "          const dataTable =\n",
              "            await google.colab.kernel.invokeFunction('convertToInteractive',\n",
              "                                                     [key], {});\n",
              "          if (!dataTable) return;\n",
              "\n",
              "          const docLinkHtml = 'Like what you see? Visit the ' +\n",
              "            '<a target=\"_blank\" href=https://colab.research.google.com/notebooks/data_table.ipynb>data table notebook</a>'\n",
              "            + ' to learn more about interactive tables.';\n",
              "          element.innerHTML = '';\n",
              "          dataTable['output_type'] = 'display_data';\n",
              "          await google.colab.output.renderOutput(dataTable, element);\n",
              "          const docLink = document.createElement('div');\n",
              "          docLink.innerHTML = docLinkHtml;\n",
              "          element.appendChild(docLink);\n",
              "        }\n",
              "      </script>\n",
              "    </div>\n",
              "  </div>\n",
              "  "
            ]
          },
          "metadata": {},
          "execution_count": 129
        }
      ]
    },
    {
      "cell_type": "markdown",
      "source": [
        "## 3. for each class, compute the correlation matrix for your 4 features. Which features have the highest and lowest correlations?"
      ],
      "metadata": {
        "id": "dRPZGj9_Dqx0"
      }
    },
    {
      "cell_type": "code",
      "source": [
        "train, test = train_test_split(df_fresh, test_size=0.5)\n",
        "corrM = train.corr()\n",
        "corrM"
      ],
      "metadata": {
        "colab": {
          "base_uri": "https://localhost:8080/",
          "height": 175
        },
        "id": "FVRS6LVrECPO",
        "outputId": "7c7f970d-f21c-4e8e-fbb5-3a76f17f252b"
      },
      "execution_count": null,
      "outputs": [
        {
          "output_type": "execute_result",
          "data": {
            "text/plain": [
              "              sepal-length  sepal-width  petal-length  petal-width\n",
              "sepal-length      1.000000    -0.026717      0.878020     0.826911\n",
              "sepal-width      -0.026717     1.000000     -0.313396    -0.192921\n",
              "petal-length      0.878020    -0.313396      1.000000     0.952983\n",
              "petal-width       0.826911    -0.192921      0.952983     1.000000"
            ],
            "text/html": [
              "\n",
              "  <div id=\"df-260a1863-b308-4739-a936-066bd90e566b\">\n",
              "    <div class=\"colab-df-container\">\n",
              "      <div>\n",
              "<style scoped>\n",
              "    .dataframe tbody tr th:only-of-type {\n",
              "        vertical-align: middle;\n",
              "    }\n",
              "\n",
              "    .dataframe tbody tr th {\n",
              "        vertical-align: top;\n",
              "    }\n",
              "\n",
              "    .dataframe thead th {\n",
              "        text-align: right;\n",
              "    }\n",
              "</style>\n",
              "<table border=\"1\" class=\"dataframe\">\n",
              "  <thead>\n",
              "    <tr style=\"text-align: right;\">\n",
              "      <th></th>\n",
              "      <th>sepal-length</th>\n",
              "      <th>sepal-width</th>\n",
              "      <th>petal-length</th>\n",
              "      <th>petal-width</th>\n",
              "    </tr>\n",
              "  </thead>\n",
              "  <tbody>\n",
              "    <tr>\n",
              "      <th>sepal-length</th>\n",
              "      <td>1.000000</td>\n",
              "      <td>-0.026717</td>\n",
              "      <td>0.878020</td>\n",
              "      <td>0.826911</td>\n",
              "    </tr>\n",
              "    <tr>\n",
              "      <th>sepal-width</th>\n",
              "      <td>-0.026717</td>\n",
              "      <td>1.000000</td>\n",
              "      <td>-0.313396</td>\n",
              "      <td>-0.192921</td>\n",
              "    </tr>\n",
              "    <tr>\n",
              "      <th>petal-length</th>\n",
              "      <td>0.878020</td>\n",
              "      <td>-0.313396</td>\n",
              "      <td>1.000000</td>\n",
              "      <td>0.952983</td>\n",
              "    </tr>\n",
              "    <tr>\n",
              "      <th>petal-width</th>\n",
              "      <td>0.826911</td>\n",
              "      <td>-0.192921</td>\n",
              "      <td>0.952983</td>\n",
              "      <td>1.000000</td>\n",
              "    </tr>\n",
              "  </tbody>\n",
              "</table>\n",
              "</div>\n",
              "      <button class=\"colab-df-convert\" onclick=\"convertToInteractive('df-260a1863-b308-4739-a936-066bd90e566b')\"\n",
              "              title=\"Convert this dataframe to an interactive table.\"\n",
              "              style=\"display:none;\">\n",
              "        \n",
              "  <svg xmlns=\"http://www.w3.org/2000/svg\" height=\"24px\"viewBox=\"0 0 24 24\"\n",
              "       width=\"24px\">\n",
              "    <path d=\"M0 0h24v24H0V0z\" fill=\"none\"/>\n",
              "    <path d=\"M18.56 5.44l.94 2.06.94-2.06 2.06-.94-2.06-.94-.94-2.06-.94 2.06-2.06.94zm-11 1L8.5 8.5l.94-2.06 2.06-.94-2.06-.94L8.5 2.5l-.94 2.06-2.06.94zm10 10l.94 2.06.94-2.06 2.06-.94-2.06-.94-.94-2.06-.94 2.06-2.06.94z\"/><path d=\"M17.41 7.96l-1.37-1.37c-.4-.4-.92-.59-1.43-.59-.52 0-1.04.2-1.43.59L10.3 9.45l-7.72 7.72c-.78.78-.78 2.05 0 2.83L4 21.41c.39.39.9.59 1.41.59.51 0 1.02-.2 1.41-.59l7.78-7.78 2.81-2.81c.8-.78.8-2.07 0-2.86zM5.41 20L4 18.59l7.72-7.72 1.47 1.35L5.41 20z\"/>\n",
              "  </svg>\n",
              "      </button>\n",
              "      \n",
              "  <style>\n",
              "    .colab-df-container {\n",
              "      display:flex;\n",
              "      flex-wrap:wrap;\n",
              "      gap: 12px;\n",
              "    }\n",
              "\n",
              "    .colab-df-convert {\n",
              "      background-color: #E8F0FE;\n",
              "      border: none;\n",
              "      border-radius: 50%;\n",
              "      cursor: pointer;\n",
              "      display: none;\n",
              "      fill: #1967D2;\n",
              "      height: 32px;\n",
              "      padding: 0 0 0 0;\n",
              "      width: 32px;\n",
              "    }\n",
              "\n",
              "    .colab-df-convert:hover {\n",
              "      background-color: #E2EBFA;\n",
              "      box-shadow: 0px 1px 2px rgba(60, 64, 67, 0.3), 0px 1px 3px 1px rgba(60, 64, 67, 0.15);\n",
              "      fill: #174EA6;\n",
              "    }\n",
              "\n",
              "    [theme=dark] .colab-df-convert {\n",
              "      background-color: #3B4455;\n",
              "      fill: #D2E3FC;\n",
              "    }\n",
              "\n",
              "    [theme=dark] .colab-df-convert:hover {\n",
              "      background-color: #434B5C;\n",
              "      box-shadow: 0px 1px 3px 1px rgba(0, 0, 0, 0.15);\n",
              "      filter: drop-shadow(0px 1px 2px rgba(0, 0, 0, 0.3));\n",
              "      fill: #FFFFFF;\n",
              "    }\n",
              "  </style>\n",
              "\n",
              "      <script>\n",
              "        const buttonEl =\n",
              "          document.querySelector('#df-260a1863-b308-4739-a936-066bd90e566b button.colab-df-convert');\n",
              "        buttonEl.style.display =\n",
              "          google.colab.kernel.accessAllowed ? 'block' : 'none';\n",
              "\n",
              "        async function convertToInteractive(key) {\n",
              "          const element = document.querySelector('#df-260a1863-b308-4739-a936-066bd90e566b');\n",
              "          const dataTable =\n",
              "            await google.colab.kernel.invokeFunction('convertToInteractive',\n",
              "                                                     [key], {});\n",
              "          if (!dataTable) return;\n",
              "\n",
              "          const docLinkHtml = 'Like what you see? Visit the ' +\n",
              "            '<a target=\"_blank\" href=https://colab.research.google.com/notebooks/data_table.ipynb>data table notebook</a>'\n",
              "            + ' to learn more about interactive tables.';\n",
              "          element.innerHTML = '';\n",
              "          dataTable['output_type'] = 'display_data';\n",
              "          await google.colab.output.renderOutput(dataTable, element);\n",
              "          const docLink = document.createElement('div');\n",
              "          docLink.innerHTML = docLinkHtml;\n",
              "          element.appendChild(docLink);\n",
              "        }\n",
              "      </script>\n",
              "    </div>\n",
              "  </div>\n",
              "  "
            ]
          },
          "metadata": {},
          "execution_count": 130
        }
      ]
    },
    {
      "cell_type": "markdown",
      "source": [
        "## Highest correlations- 1. Petal length and Petal width (Postive correlation)"
      ],
      "metadata": {
        "id": "vdA_Xr7mKYAH"
      }
    },
    {
      "cell_type": "markdown",
      "source": [
        "## Lowest correlation- 1. Sepal width and Sepal Length (Negative Correlation)"
      ],
      "metadata": {
        "id": "vaJMLUOkLYMy"
      }
    },
    {
      "cell_type": "markdown",
      "source": [
        "## 4. discuss your findings"
      ],
      "metadata": {
        "id": "ITMSAX7NNGTk"
      }
    },
    {
      "cell_type": "markdown",
      "source": [
        "### There is high correlation between Petal Lenght and Petal Width, compared to a low correlation between Sepal Width and Sepal length"
      ],
      "metadata": {
        "id": "TSa1bb2-NKZw"
      }
    },
    {
      "cell_type": "markdown",
      "source": [
        "# Question 2:"
      ],
      "metadata": {
        "id": "qKoi3ooONw77"
      }
    },
    {
      "cell_type": "markdown",
      "source": [
        "## 1. generate histograms of pairwise relationships for a training set (include these histograms in submitted homework). X rain. You can use ”pairplot” method of the seaborn package:"
      ],
      "metadata": {
        "id": "NNbyJqEiN2aS"
      }
    },
    {
      "cell_type": "code",
      "source": [
        "import seaborn as sns\n",
        "features = [\"sepal-length\", \"sepal-width\",\"petal-length\", \"petal-width\", \"label\"] \n",
        "train, test = train_test_split(df, test_size=0.5)\n",
        "pair_plot_features = sns.pairplot(train[features], hue = \"label\", kind=\"hist\")"
      ],
      "metadata": {
        "colab": {
          "base_uri": "https://localhost:8080/",
          "height": 726
        },
        "id": "DA0JI072LG8w",
        "outputId": "d5311c96-af3b-4d07-a878-2dbac3b52f08"
      },
      "execution_count": null,
      "outputs": [
        {
          "output_type": "display_data",
          "data": {
            "text/plain": [
              "<Figure size 762.375x720 with 20 Axes>"
            ],
            "image/png": "[encoded data removed]"
          },
          "metadata": {
            "needs_background": "light"
          }
        }
      ]
    },
    {
      "cell_type": "markdown",
      "source": [
        "## 2. Examine the histograms and for each feature design a simple classifier (”weak learner”) for labels. Your classifier can only consist of simple comparison using that single feature. "
      ],
      "metadata": {
        "id": "AI7q2kmUWB0P"
      }
    },
    {
      "cell_type": "code",
      "source": [
        "test_pet_wed = test.copy()\n",
        "test_pet_wed['label'] = np.where(test_pet_wed['petal-width']>1.66, 1, 0)\n",
        "print(test_pet_wed.to_string())\n",
        "\n",
        "test_pet_len = test.copy()\n",
        "test_pet_len['label'] = np.where(test_pet_len['petal-length']>4.5, 1, 0)\n",
        "print(test_pet_len.to_string())\n",
        "\n",
        "test_sep_wid = test.copy()\n",
        "test_sep_wid['label'] = np.where(test_sep_wid['sepal-width']>2.6, 1, 0)\n",
        "print(test_sep_wid.to_string())\n",
        "\n",
        "\n",
        "test_sep_len = test.copy()\n",
        "test_sep_len['label'] = np.where(test_sep_len['sepal-length']>6.2, 1, 0)\n",
        "print(test_sep_len.to_string())\n",
        "\n"
      ],
      "metadata": {
        "colab": {
          "base_uri": "https://localhost:8080/"
        },
        "id": "qkMkLG_NZhTe",
        "outputId": "5afe11db-4f76-4e47-8e18-c793448f53a7"
      },
      "execution_count": null,
      "outputs": [
        {
          "output_type": "stream",
          "name": "stdout",
          "text": [
            "     sepal-length  sepal-width  petal-length  petal-width            Class  label\n",
            "92            5.8          2.6           4.0          1.2  Iris-versicolor      0\n",
            "141           6.9          3.1           5.1          2.3   Iris-virginica      1\n",
            "71            6.1          2.8           4.0          1.3  Iris-versicolor      0\n",
            "62            6.0          2.2           4.0          1.0  Iris-versicolor      0\n",
            "116           6.5          3.0           5.5          1.8   Iris-virginica      1\n",
            "58            6.6          2.9           4.6          1.3  Iris-versicolor      0\n",
            "100           6.3          3.3           6.0          2.5   Iris-virginica      1\n",
            "93            5.0          2.3           3.3          1.0  Iris-versicolor      0\n",
            "105           7.6          3.0           6.6          2.1   Iris-virginica      1\n",
            "98            5.1          2.5           3.0          1.1  Iris-versicolor      0\n",
            "126           6.2          2.8           4.8          1.8   Iris-virginica      1\n",
            "63            6.1          2.9           4.7          1.4  Iris-versicolor      0\n",
            "110           6.5          3.2           5.1          2.0   Iris-virginica      1\n",
            "88            5.6          3.0           4.1          1.3  Iris-versicolor      0\n",
            "109           7.2          3.6           6.1          2.5   Iris-virginica      1\n",
            "69            5.6          2.5           3.9          1.1  Iris-versicolor      0\n",
            "147           6.5          3.0           5.2          2.0   Iris-virginica      1\n",
            "52            6.9          3.1           4.9          1.5  Iris-versicolor      0\n",
            "97            6.2          2.9           4.3          1.3  Iris-versicolor      0\n",
            "107           7.3          2.9           6.3          1.8   Iris-virginica      1\n",
            "101           5.8          2.7           5.1          1.9   Iris-virginica      1\n",
            "122           7.7          2.8           6.7          2.0   Iris-virginica      1\n",
            "111           6.4          2.7           5.3          1.9   Iris-virginica      1\n",
            "73            6.1          2.8           4.7          1.2  Iris-versicolor      0\n",
            "140           6.7          3.1           5.6          2.4   Iris-virginica      1\n",
            "75            6.6          3.0           4.4          1.4  Iris-versicolor      0\n",
            "139           6.9          3.1           5.4          2.1   Iris-virginica      1\n",
            "55            5.7          2.8           4.5          1.3  Iris-versicolor      0\n",
            "53            5.5          2.3           4.0          1.3  Iris-versicolor      0\n",
            "65            6.7          3.1           4.4          1.4  Iris-versicolor      0\n",
            "108           6.7          2.5           5.8          1.8   Iris-virginica      1\n",
            "146           6.3          2.5           5.0          1.9   Iris-virginica      1\n",
            "60            5.0          2.0           3.5          1.0  Iris-versicolor      0\n",
            "115           6.4          3.2           5.3          2.3   Iris-virginica      1\n",
            "77            6.7          3.0           5.0          1.7  Iris-versicolor      1\n",
            "133           6.3          2.8           5.1          1.5   Iris-virginica      0\n",
            "90            5.5          2.6           4.4          1.2  Iris-versicolor      0\n",
            "57            4.9          2.4           3.3          1.0  Iris-versicolor      0\n",
            "51            6.4          3.2           4.5          1.5  Iris-versicolor      0\n",
            "113           5.7          2.5           5.0          2.0   Iris-virginica      1\n",
            "76            6.8          2.8           4.8          1.4  Iris-versicolor      0\n",
            "127           6.1          3.0           4.9          1.8   Iris-virginica      1\n",
            "117           7.7          3.8           6.7          2.2   Iris-virginica      1\n",
            "106           4.9          2.5           4.5          1.7   Iris-virginica      1\n",
            "95            5.7          3.0           4.2          1.2  Iris-versicolor      0\n",
            "99            5.7          2.8           4.1          1.3  Iris-versicolor      0\n",
            "128           6.4          2.8           5.6          2.1   Iris-virginica      1\n",
            "138           6.0          3.0           4.8          1.8   Iris-virginica      1\n",
            "74            6.4          2.9           4.3          1.3  Iris-versicolor      0\n",
            "124           6.7          3.3           5.7          2.1   Iris-virginica      1\n",
            "     sepal-length  sepal-width  petal-length  petal-width            Class  label\n",
            "92            5.8          2.6           4.0          1.2  Iris-versicolor      0\n",
            "141           6.9          3.1           5.1          2.3   Iris-virginica      1\n",
            "71            6.1          2.8           4.0          1.3  Iris-versicolor      0\n",
            "62            6.0          2.2           4.0          1.0  Iris-versicolor      0\n",
            "116           6.5          3.0           5.5          1.8   Iris-virginica      1\n",
            "58            6.6          2.9           4.6          1.3  Iris-versicolor      1\n",
            "100           6.3          3.3           6.0          2.5   Iris-virginica      1\n",
            "93            5.0          2.3           3.3          1.0  Iris-versicolor      0\n",
            "105           7.6          3.0           6.6          2.1   Iris-virginica      1\n",
            "98            5.1          2.5           3.0          1.1  Iris-versicolor      0\n",
            "126           6.2          2.8           4.8          1.8   Iris-virginica      1\n",
            "63            6.1          2.9           4.7          1.4  Iris-versicolor      1\n",
            "110           6.5          3.2           5.1          2.0   Iris-virginica      1\n",
            "88            5.6          3.0           4.1          1.3  Iris-versicolor      0\n",
            "109           7.2          3.6           6.1          2.5   Iris-virginica      1\n",
            "69            5.6          2.5           3.9          1.1  Iris-versicolor      0\n",
            "147           6.5          3.0           5.2          2.0   Iris-virginica      1\n",
            "52            6.9          3.1           4.9          1.5  Iris-versicolor      1\n",
            "97            6.2          2.9           4.3          1.3  Iris-versicolor      0\n",
            "107           7.3          2.9           6.3          1.8   Iris-virginica      1\n",
            "101           5.8          2.7           5.1          1.9   Iris-virginica      1\n",
            "122           7.7          2.8           6.7          2.0   Iris-virginica      1\n",
            "111           6.4          2.7           5.3          1.9   Iris-virginica      1\n",
            "73            6.1          2.8           4.7          1.2  Iris-versicolor      1\n",
            "140           6.7          3.1           5.6          2.4   Iris-virginica      1\n",
            "75            6.6          3.0           4.4          1.4  Iris-versicolor      0\n",
            "139           6.9          3.1           5.4          2.1   Iris-virginica      1\n",
            "55            5.7          2.8           4.5          1.3  Iris-versicolor      0\n",
            "53            5.5          2.3           4.0          1.3  Iris-versicolor      0\n",
            "65            6.7          3.1           4.4          1.4  Iris-versicolor      0\n",
            "108           6.7          2.5           5.8          1.8   Iris-virginica      1\n",
            "146           6.3          2.5           5.0          1.9   Iris-virginica      1\n",
            "60            5.0          2.0           3.5          1.0  Iris-versicolor      0\n",
            "115           6.4          3.2           5.3          2.3   Iris-virginica      1\n",
            "77            6.7          3.0           5.0          1.7  Iris-versicolor      1\n",
            "133           6.3          2.8           5.1          1.5   Iris-virginica      1\n",
            "90            5.5          2.6           4.4          1.2  Iris-versicolor      0\n",
            "57            4.9          2.4           3.3          1.0  Iris-versicolor      0\n",
            "51            6.4          3.2           4.5          1.5  Iris-versicolor      0\n",
            "113           5.7          2.5           5.0          2.0   Iris-virginica      1\n",
            "76            6.8          2.8           4.8          1.4  Iris-versicolor      1\n",
            "127           6.1          3.0           4.9          1.8   Iris-virginica      1\n",
            "117           7.7          3.8           6.7          2.2   Iris-virginica      1\n",
            "106           4.9          2.5           4.5          1.7   Iris-virginica      0\n",
            "95            5.7          3.0           4.2          1.2  Iris-versicolor      0\n",
            "99            5.7          2.8           4.1          1.3  Iris-versicolor      0\n",
            "128           6.4          2.8           5.6          2.1   Iris-virginica      1\n",
            "138           6.0          3.0           4.8          1.8   Iris-virginica      1\n",
            "74            6.4          2.9           4.3          1.3  Iris-versicolor      0\n",
            "124           6.7          3.3           5.7          2.1   Iris-virginica      1\n",
            "     sepal-length  sepal-width  petal-length  petal-width            Class  label\n",
            "92            5.8          2.6           4.0          1.2  Iris-versicolor      0\n",
            "141           6.9          3.1           5.1          2.3   Iris-virginica      1\n",
            "71            6.1          2.8           4.0          1.3  Iris-versicolor      1\n",
            "62            6.0          2.2           4.0          1.0  Iris-versicolor      0\n",
            "116           6.5          3.0           5.5          1.8   Iris-virginica      1\n",
            "58            6.6          2.9           4.6          1.3  Iris-versicolor      1\n",
            "100           6.3          3.3           6.0          2.5   Iris-virginica      1\n",
            "93            5.0          2.3           3.3          1.0  Iris-versicolor      0\n",
            "105           7.6          3.0           6.6          2.1   Iris-virginica      1\n",
            "98            5.1          2.5           3.0          1.1  Iris-versicolor      0\n",
            "126           6.2          2.8           4.8          1.8   Iris-virginica      1\n",
            "63            6.1          2.9           4.7          1.4  Iris-versicolor      1\n",
            "110           6.5          3.2           5.1          2.0   Iris-virginica      1\n",
            "88            5.6          3.0           4.1          1.3  Iris-versicolor      1\n",
            "109           7.2          3.6           6.1          2.5   Iris-virginica      1\n",
            "69            5.6          2.5           3.9          1.1  Iris-versicolor      0\n",
            "147           6.5          3.0           5.2          2.0   Iris-virginica      1\n",
            "52            6.9          3.1           4.9          1.5  Iris-versicolor      1\n",
            "97            6.2          2.9           4.3          1.3  Iris-versicolor      1\n",
            "107           7.3          2.9           6.3          1.8   Iris-virginica      1\n",
            "101           5.8          2.7           5.1          1.9   Iris-virginica      1\n",
            "122           7.7          2.8           6.7          2.0   Iris-virginica      1\n",
            "111           6.4          2.7           5.3          1.9   Iris-virginica      1\n",
            "73            6.1          2.8           4.7          1.2  Iris-versicolor      1\n",
            "140           6.7          3.1           5.6          2.4   Iris-virginica      1\n",
            "75            6.6          3.0           4.4          1.4  Iris-versicolor      1\n",
            "139           6.9          3.1           5.4          2.1   Iris-virginica      1\n",
            "55            5.7          2.8           4.5          1.3  Iris-versicolor      1\n",
            "53            5.5          2.3           4.0          1.3  Iris-versicolor      0\n",
            "65            6.7          3.1           4.4          1.4  Iris-versicolor      1\n",
            "108           6.7          2.5           5.8          1.8   Iris-virginica      0\n",
            "146           6.3          2.5           5.0          1.9   Iris-virginica      0\n",
            "60            5.0          2.0           3.5          1.0  Iris-versicolor      0\n",
            "115           6.4          3.2           5.3          2.3   Iris-virginica      1\n",
            "77            6.7          3.0           5.0          1.7  Iris-versicolor      1\n",
            "133           6.3          2.8           5.1          1.5   Iris-virginica      1\n",
            "90            5.5          2.6           4.4          1.2  Iris-versicolor      0\n",
            "57            4.9          2.4           3.3          1.0  Iris-versicolor      0\n",
            "51            6.4          3.2           4.5          1.5  Iris-versicolor      1\n",
            "113           5.7          2.5           5.0          2.0   Iris-virginica      0\n",
            "76            6.8          2.8           4.8          1.4  Iris-versicolor      1\n",
            "127           6.1          3.0           4.9          1.8   Iris-virginica      1\n",
            "117           7.7          3.8           6.7          2.2   Iris-virginica      1\n",
            "106           4.9          2.5           4.5          1.7   Iris-virginica      0\n",
            "95            5.7          3.0           4.2          1.2  Iris-versicolor      1\n",
            "99            5.7          2.8           4.1          1.3  Iris-versicolor      1\n",
            "128           6.4          2.8           5.6          2.1   Iris-virginica      1\n",
            "138           6.0          3.0           4.8          1.8   Iris-virginica      1\n",
            "74            6.4          2.9           4.3          1.3  Iris-versicolor      1\n",
            "124           6.7          3.3           5.7          2.1   Iris-virginica      1\n",
            "     sepal-length  sepal-width  petal-length  petal-width            Class  label\n",
            "92            5.8          2.6           4.0          1.2  Iris-versicolor      0\n",
            "141           6.9          3.1           5.1          2.3   Iris-virginica      1\n",
            "71            6.1          2.8           4.0          1.3  Iris-versicolor      0\n",
            "62            6.0          2.2           4.0          1.0  Iris-versicolor      0\n",
            "116           6.5          3.0           5.5          1.8   Iris-virginica      1\n",
            "58            6.6          2.9           4.6          1.3  Iris-versicolor      1\n",
            "100           6.3          3.3           6.0          2.5   Iris-virginica      1\n",
            "93            5.0          2.3           3.3          1.0  Iris-versicolor      0\n",
            "105           7.6          3.0           6.6          2.1   Iris-virginica      1\n",
            "98            5.1          2.5           3.0          1.1  Iris-versicolor      0\n",
            "126           6.2          2.8           4.8          1.8   Iris-virginica      0\n",
            "63            6.1          2.9           4.7          1.4  Iris-versicolor      0\n",
            "110           6.5          3.2           5.1          2.0   Iris-virginica      1\n",
            "88            5.6          3.0           4.1          1.3  Iris-versicolor      0\n",
            "109           7.2          3.6           6.1          2.5   Iris-virginica      1\n",
            "69            5.6          2.5           3.9          1.1  Iris-versicolor      0\n",
            "147           6.5          3.0           5.2          2.0   Iris-virginica      1\n",
            "52            6.9          3.1           4.9          1.5  Iris-versicolor      1\n",
            "97            6.2          2.9           4.3          1.3  Iris-versicolor      0\n",
            "107           7.3          2.9           6.3          1.8   Iris-virginica      1\n",
            "101           5.8          2.7           5.1          1.9   Iris-virginica      0\n",
            "122           7.7          2.8           6.7          2.0   Iris-virginica      1\n",
            "111           6.4          2.7           5.3          1.9   Iris-virginica      1\n",
            "73            6.1          2.8           4.7          1.2  Iris-versicolor      0\n",
            "140           6.7          3.1           5.6          2.4   Iris-virginica      1\n",
            "75            6.6          3.0           4.4          1.4  Iris-versicolor      1\n",
            "139           6.9          3.1           5.4          2.1   Iris-virginica      1\n",
            "55            5.7          2.8           4.5          1.3  Iris-versicolor      0\n",
            "53            5.5          2.3           4.0          1.3  Iris-versicolor      0\n",
            "65            6.7          3.1           4.4          1.4  Iris-versicolor      1\n",
            "108           6.7          2.5           5.8          1.8   Iris-virginica      1\n",
            "146           6.3          2.5           5.0          1.9   Iris-virginica      1\n",
            "60            5.0          2.0           3.5          1.0  Iris-versicolor      0\n",
            "115           6.4          3.2           5.3          2.3   Iris-virginica      1\n",
            "77            6.7          3.0           5.0          1.7  Iris-versicolor      1\n",
            "133           6.3          2.8           5.1          1.5   Iris-virginica      1\n",
            "90            5.5          2.6           4.4          1.2  Iris-versicolor      0\n",
            "57            4.9          2.4           3.3          1.0  Iris-versicolor      0\n",
            "51            6.4          3.2           4.5          1.5  Iris-versicolor      1\n",
            "113           5.7          2.5           5.0          2.0   Iris-virginica      0\n",
            "76            6.8          2.8           4.8          1.4  Iris-versicolor      1\n",
            "127           6.1          3.0           4.9          1.8   Iris-virginica      0\n",
            "117           7.7          3.8           6.7          2.2   Iris-virginica      1\n",
            "106           4.9          2.5           4.5          1.7   Iris-virginica      0\n",
            "95            5.7          3.0           4.2          1.2  Iris-versicolor      0\n",
            "99            5.7          2.8           4.1          1.3  Iris-versicolor      0\n",
            "128           6.4          2.8           5.6          2.1   Iris-virginica      1\n",
            "138           6.0          3.0           4.8          1.8   Iris-virginica      0\n",
            "74            6.4          2.9           4.3          1.3  Iris-versicolor      1\n",
            "124           6.7          3.3           5.7          2.1   Iris-virginica      1\n"
          ]
        }
      ]
    },
    {
      "cell_type": "markdown",
      "source": [
        "## You design 4 such classfiers, one for each of the 4 features. Apply each classifier to testing set, compute the confusion matrix and summarize them in a table below"
      ],
      "metadata": {
        "id": "cazBPrgxz2HI"
      }
    },
    {
      "cell_type": "code",
      "source": [
        "from sklearn.metrics import confusion_matrix\n",
        "from sklearn.metrics import accuracy_score\n",
        "\n",
        "conf_test_pet_wed = confusion_matrix(test['label'], test_pet_wed['label'])\n",
        "conf_test_pet_len = confusion_matrix(test['label'], test_pet_len['label'])\n",
        "conf_test_sep_wid = confusion_matrix(test['label'], test_sep_wid['label'])\n",
        "conf_test_sep_len = confusion_matrix(test['label'], test_sep_wid['label'])\n",
        "\n",
        "acc_1 = accuracy_score(test['label'], test_pet_wed['label'])\n",
        "acc_2 = accuracy_score(test['label'], test_pet_len['label'])\n",
        "acc_3 = accuracy_score(test['label'], test_sep_wid['label'])\n",
        "acc_4 = accuracy_score(test['label'], test_sep_wid['label'])\n",
        "\n",
        "print(\"Confusion Matrix of Petal Width classifier----> \\n\", conf_test_pet_wed)\n",
        "print(\"\\n Confusion Matrix of Petal Length classifier----> \\n\", conf_test_pet_len)\n",
        "print(\"\\n Confusion Matrix of Sepal Width classifier----> \\n\", conf_test_sep_wid)\n",
        "print(\"\\n Confusion Matrix of Sepal Length classifier----> \\n\", conf_test_sep_len)\n",
        "\n",
        "print(\"\\n \\n Accuracy of Petal Width classifier----> \\n\", acc_1)\n",
        "print(\"\\n Accuracy of Petal Length classifier----> \\n\", acc_2)\n",
        "print(\"\\n Accuracy of Sepal Width classifier----> \\n\", acc_3)\n",
        "print(\"\\n Accuracy of Sepal Length classifier----> \\n\", acc_4)\n",
        "\n"
      ],
      "metadata": {
        "colab": {
          "base_uri": "https://localhost:8080/"
        },
        "id": "BMVfGzgOz4jo",
        "outputId": "c659b012-a912-4423-aae1-400943f7d245"
      },
      "execution_count": null,
      "outputs": [
        {
          "output_type": "stream",
          "name": "stdout",
          "text": [
            "Confusion Matrix of Petal Width classifier----> \n",
            " [[24  1]\n",
            " [ 1 24]]\n",
            "\n",
            " Confusion Matrix of Petal Length classifier----> \n",
            " [[19  6]\n",
            " [ 1 24]]\n",
            "\n",
            " Confusion Matrix of Sepal Width classifier----> \n",
            " [[ 9 16]\n",
            " [ 4 21]]\n",
            "\n",
            " Confusion Matrix of Sepal Length classifier----> \n",
            " [[ 9 16]\n",
            " [ 4 21]]\n",
            "\n",
            " \n",
            " Accuracy of Petal Width classifier----> \n",
            " 0.96\n",
            "\n",
            " Accuracy of Petal Length classifier----> \n",
            " 0.86\n",
            "\n",
            " Accuracy of Sepal Width classifier----> \n",
            " 0.6\n",
            "\n",
            " Accuracy of Sepal Length classifier----> \n",
            " 0.6\n"
          ]
        }
      ]
    },
    {
      "cell_type": "markdown",
      "source": [
        "## 3. discuss your findings and rank your ”weak” learners by accuracy (from most accurate to least accurate)"
      ],
      "metadata": {
        "id": "pPjJdzY7IFZV"
      }
    },
    {
      "cell_type": "markdown",
      "source": [
        "##ANSWER- Accuracy of Petal Width Classifier is the highest and lowest is Sepal Lenght Classifier."
      ],
      "metadata": {
        "id": "09pVC17hTRb3"
      }
    },
    {
      "cell_type": "markdown",
      "source": [
        "#Question 3: You construct ensemble classifiers by combining 3 ”weak learners” together. For example, you take (1), (2) and (3). The output label is the majority decision. You will have 4 such ensemble classifiers - there are 4 distinct ways to choose 3 classifiers out of 4."
      ],
      "metadata": {
        "id": "mB9FGVKGIM4z"
      }
    },
    {
      "cell_type": "code",
      "source": [
        "from statistics import mode\n",
        "pet_sep_wid_ensemble = test.copy()\n",
        "pet_sep_len_ensemble = test.copy()\n",
        "pet_len_sep_ensemble = test.copy()\n",
        "pet_wid_sep_ensemble = test.copy()\n",
        "\n",
        "pet_sep_wid_ensemble['final_label'] = 0\n",
        "result = []\n",
        "def iter(f_main, f_1, f_2, f_3):\n",
        "  for i in range(len(f_main)):\n",
        "    result.append(mode([f_1.iloc[i]['label'], f_2.iloc[i]['label'], f_3.iloc[i]['label']]))\n",
        "  f_main['final_label'] = result\n",
        "  result.clear()\n",
        "  return f_main\n",
        "pet_sep_wid_ensemble = iter(pet_sep_wid_ensemble, test_pet_wed, test_pet_len, test_sep_wid)\n",
        "pet_sep_len_ensemble = iter(pet_sep_len_ensemble, test_pet_wed, test_pet_len, test_sep_len)\n",
        "pet_len_sep_ensemble = iter(pet_len_sep_ensemble, test_pet_len, test_sep_wid, test_sep_len)\n",
        "pet_wid_sep_ensemble = iter(pet_wid_sep_ensemble, test_pet_wed, test_sep_wid, test_sep_len)\n",
        "\n",
        "#Final Label has the most occuring label\n",
        "print(\"ENSEMBLE- 1---Petal length + Petal Width + Sepal Width---->\\n\\n\", pet_sep_wid_ensemble.to_string())\n",
        "print(\"\\n \\n ENSEMBLE- 2---Petal length + Petal Width + Sepal Length---->\\n\\n\", pet_sep_len_ensemble.to_string())\n",
        "print(\"\\n \\n ENSEMBLE- 3---Petal length + Sepal Width + Sepal Width---->\\n\\n\", pet_len_sep_ensemble.to_string())\n",
        "print(\"\\n \\n ENSEMBLE- 4---Petal width + Sepal Width + Sepal Width---->\\n\\n\", pet_wid_sep_ensemble.to_string())\n",
        "\n"
      ],
      "metadata": {
        "id": "fKvTVTwNIREx",
        "colab": {
          "base_uri": "https://localhost:8080/"
        },
        "outputId": "c46e618c-5fb4-400b-a39b-b46a51f145b9"
      },
      "execution_count": null,
      "outputs": [
        {
          "output_type": "stream",
          "name": "stdout",
          "text": [
            "ENSEMBLE- 1---Petal length + Petal Width + Sepal Width---->\n",
            "\n",
            "      sepal-length  sepal-width  petal-length  petal-width            Class  label  final_label\n",
            "92            5.8          2.6           4.0          1.2  Iris-versicolor      0            0\n",
            "141           6.9          3.1           5.1          2.3   Iris-virginica      1            1\n",
            "71            6.1          2.8           4.0          1.3  Iris-versicolor      0            0\n",
            "62            6.0          2.2           4.0          1.0  Iris-versicolor      0            0\n",
            "116           6.5          3.0           5.5          1.8   Iris-virginica      1            1\n",
            "58            6.6          2.9           4.6          1.3  Iris-versicolor      0            1\n",
            "100           6.3          3.3           6.0          2.5   Iris-virginica      1            1\n",
            "93            5.0          2.3           3.3          1.0  Iris-versicolor      0            0\n",
            "105           7.6          3.0           6.6          2.1   Iris-virginica      1            1\n",
            "98            5.1          2.5           3.0          1.1  Iris-versicolor      0            0\n",
            "126           6.2          2.8           4.8          1.8   Iris-virginica      1            1\n",
            "63            6.1          2.9           4.7          1.4  Iris-versicolor      0            1\n",
            "110           6.5          3.2           5.1          2.0   Iris-virginica      1            1\n",
            "88            5.6          3.0           4.1          1.3  Iris-versicolor      0            0\n",
            "109           7.2          3.6           6.1          2.5   Iris-virginica      1            1\n",
            "69            5.6          2.5           3.9          1.1  Iris-versicolor      0            0\n",
            "147           6.5          3.0           5.2          2.0   Iris-virginica      1            1\n",
            "52            6.9          3.1           4.9          1.5  Iris-versicolor      0            1\n",
            "97            6.2          2.9           4.3          1.3  Iris-versicolor      0            0\n",
            "107           7.3          2.9           6.3          1.8   Iris-virginica      1            1\n",
            "101           5.8          2.7           5.1          1.9   Iris-virginica      1            1\n",
            "122           7.7          2.8           6.7          2.0   Iris-virginica      1            1\n",
            "111           6.4          2.7           5.3          1.9   Iris-virginica      1            1\n",
            "73            6.1          2.8           4.7          1.2  Iris-versicolor      0            1\n",
            "140           6.7          3.1           5.6          2.4   Iris-virginica      1            1\n",
            "75            6.6          3.0           4.4          1.4  Iris-versicolor      0            0\n",
            "139           6.9          3.1           5.4          2.1   Iris-virginica      1            1\n",
            "55            5.7          2.8           4.5          1.3  Iris-versicolor      0            0\n",
            "53            5.5          2.3           4.0          1.3  Iris-versicolor      0            0\n",
            "65            6.7          3.1           4.4          1.4  Iris-versicolor      0            0\n",
            "108           6.7          2.5           5.8          1.8   Iris-virginica      1            1\n",
            "146           6.3          2.5           5.0          1.9   Iris-virginica      1            1\n",
            "60            5.0          2.0           3.5          1.0  Iris-versicolor      0            0\n",
            "115           6.4          3.2           5.3          2.3   Iris-virginica      1            1\n",
            "77            6.7          3.0           5.0          1.7  Iris-versicolor      0            1\n",
            "133           6.3          2.8           5.1          1.5   Iris-virginica      1            1\n",
            "90            5.5          2.6           4.4          1.2  Iris-versicolor      0            0\n",
            "57            4.9          2.4           3.3          1.0  Iris-versicolor      0            0\n",
            "51            6.4          3.2           4.5          1.5  Iris-versicolor      0            0\n",
            "113           5.7          2.5           5.0          2.0   Iris-virginica      1            1\n",
            "76            6.8          2.8           4.8          1.4  Iris-versicolor      0            1\n",
            "127           6.1          3.0           4.9          1.8   Iris-virginica      1            1\n",
            "117           7.7          3.8           6.7          2.2   Iris-virginica      1            1\n",
            "106           4.9          2.5           4.5          1.7   Iris-virginica      1            0\n",
            "95            5.7          3.0           4.2          1.2  Iris-versicolor      0            0\n",
            "99            5.7          2.8           4.1          1.3  Iris-versicolor      0            0\n",
            "128           6.4          2.8           5.6          2.1   Iris-virginica      1            1\n",
            "138           6.0          3.0           4.8          1.8   Iris-virginica      1            1\n",
            "74            6.4          2.9           4.3          1.3  Iris-versicolor      0            0\n",
            "124           6.7          3.3           5.7          2.1   Iris-virginica      1            1\n",
            "\n",
            " \n",
            " ENSEMBLE- 2---Petal length + Petal Width + Sepal Length---->\n",
            "\n",
            "      sepal-length  sepal-width  petal-length  petal-width            Class  label  final_label\n",
            "92            5.8          2.6           4.0          1.2  Iris-versicolor      0            0\n",
            "141           6.9          3.1           5.1          2.3   Iris-virginica      1            1\n",
            "71            6.1          2.8           4.0          1.3  Iris-versicolor      0            0\n",
            "62            6.0          2.2           4.0          1.0  Iris-versicolor      0            0\n",
            "116           6.5          3.0           5.5          1.8   Iris-virginica      1            1\n",
            "58            6.6          2.9           4.6          1.3  Iris-versicolor      0            1\n",
            "100           6.3          3.3           6.0          2.5   Iris-virginica      1            1\n",
            "93            5.0          2.3           3.3          1.0  Iris-versicolor      0            0\n",
            "105           7.6          3.0           6.6          2.1   Iris-virginica      1            1\n",
            "98            5.1          2.5           3.0          1.1  Iris-versicolor      0            0\n",
            "126           6.2          2.8           4.8          1.8   Iris-virginica      1            1\n",
            "63            6.1          2.9           4.7          1.4  Iris-versicolor      0            0\n",
            "110           6.5          3.2           5.1          2.0   Iris-virginica      1            1\n",
            "88            5.6          3.0           4.1          1.3  Iris-versicolor      0            0\n",
            "109           7.2          3.6           6.1          2.5   Iris-virginica      1            1\n",
            "69            5.6          2.5           3.9          1.1  Iris-versicolor      0            0\n",
            "147           6.5          3.0           5.2          2.0   Iris-virginica      1            1\n",
            "52            6.9          3.1           4.9          1.5  Iris-versicolor      0            1\n",
            "97            6.2          2.9           4.3          1.3  Iris-versicolor      0            0\n",
            "107           7.3          2.9           6.3          1.8   Iris-virginica      1            1\n",
            "101           5.8          2.7           5.1          1.9   Iris-virginica      1            1\n",
            "122           7.7          2.8           6.7          2.0   Iris-virginica      1            1\n",
            "111           6.4          2.7           5.3          1.9   Iris-virginica      1            1\n",
            "73            6.1          2.8           4.7          1.2  Iris-versicolor      0            0\n",
            "140           6.7          3.1           5.6          2.4   Iris-virginica      1            1\n",
            "75            6.6          3.0           4.4          1.4  Iris-versicolor      0            0\n",
            "139           6.9          3.1           5.4          2.1   Iris-virginica      1            1\n",
            "55            5.7          2.8           4.5          1.3  Iris-versicolor      0            0\n",
            "53            5.5          2.3           4.0          1.3  Iris-versicolor      0            0\n",
            "65            6.7          3.1           4.4          1.4  Iris-versicolor      0            0\n",
            "108           6.7          2.5           5.8          1.8   Iris-virginica      1            1\n",
            "146           6.3          2.5           5.0          1.9   Iris-virginica      1            1\n",
            "60            5.0          2.0           3.5          1.0  Iris-versicolor      0            0\n",
            "115           6.4          3.2           5.3          2.3   Iris-virginica      1            1\n",
            "77            6.7          3.0           5.0          1.7  Iris-versicolor      0            1\n",
            "133           6.3          2.8           5.1          1.5   Iris-virginica      1            1\n",
            "90            5.5          2.6           4.4          1.2  Iris-versicolor      0            0\n",
            "57            4.9          2.4           3.3          1.0  Iris-versicolor      0            0\n",
            "51            6.4          3.2           4.5          1.5  Iris-versicolor      0            0\n",
            "113           5.7          2.5           5.0          2.0   Iris-virginica      1            1\n",
            "76            6.8          2.8           4.8          1.4  Iris-versicolor      0            1\n",
            "127           6.1          3.0           4.9          1.8   Iris-virginica      1            1\n",
            "117           7.7          3.8           6.7          2.2   Iris-virginica      1            1\n",
            "106           4.9          2.5           4.5          1.7   Iris-virginica      1            0\n",
            "95            5.7          3.0           4.2          1.2  Iris-versicolor      0            0\n",
            "99            5.7          2.8           4.1          1.3  Iris-versicolor      0            0\n",
            "128           6.4          2.8           5.6          2.1   Iris-virginica      1            1\n",
            "138           6.0          3.0           4.8          1.8   Iris-virginica      1            1\n",
            "74            6.4          2.9           4.3          1.3  Iris-versicolor      0            0\n",
            "124           6.7          3.3           5.7          2.1   Iris-virginica      1            1\n",
            "\n",
            " \n",
            " ENSEMBLE- 3---Petal length + Sepal Width + Sepal Width---->\n",
            "\n",
            "      sepal-length  sepal-width  petal-length  petal-width            Class  label  final_label\n",
            "92            5.8          2.6           4.0          1.2  Iris-versicolor      0            0\n",
            "141           6.9          3.1           5.1          2.3   Iris-virginica      1            1\n",
            "71            6.1          2.8           4.0          1.3  Iris-versicolor      0            0\n",
            "62            6.0          2.2           4.0          1.0  Iris-versicolor      0            0\n",
            "116           6.5          3.0           5.5          1.8   Iris-virginica      1            1\n",
            "58            6.6          2.9           4.6          1.3  Iris-versicolor      0            1\n",
            "100           6.3          3.3           6.0          2.5   Iris-virginica      1            1\n",
            "93            5.0          2.3           3.3          1.0  Iris-versicolor      0            0\n",
            "105           7.6          3.0           6.6          2.1   Iris-virginica      1            1\n",
            "98            5.1          2.5           3.0          1.1  Iris-versicolor      0            0\n",
            "126           6.2          2.8           4.8          1.8   Iris-virginica      1            1\n",
            "63            6.1          2.9           4.7          1.4  Iris-versicolor      0            1\n",
            "110           6.5          3.2           5.1          2.0   Iris-virginica      1            1\n",
            "88            5.6          3.0           4.1          1.3  Iris-versicolor      0            0\n",
            "109           7.2          3.6           6.1          2.5   Iris-virginica      1            1\n",
            "69            5.6          2.5           3.9          1.1  Iris-versicolor      0            0\n",
            "147           6.5          3.0           5.2          2.0   Iris-virginica      1            1\n",
            "52            6.9          3.1           4.9          1.5  Iris-versicolor      0            1\n",
            "97            6.2          2.9           4.3          1.3  Iris-versicolor      0            0\n",
            "107           7.3          2.9           6.3          1.8   Iris-virginica      1            1\n",
            "101           5.8          2.7           5.1          1.9   Iris-virginica      1            1\n",
            "122           7.7          2.8           6.7          2.0   Iris-virginica      1            1\n",
            "111           6.4          2.7           5.3          1.9   Iris-virginica      1            1\n",
            "73            6.1          2.8           4.7          1.2  Iris-versicolor      0            1\n",
            "140           6.7          3.1           5.6          2.4   Iris-virginica      1            1\n",
            "75            6.6          3.0           4.4          1.4  Iris-versicolor      0            1\n",
            "139           6.9          3.1           5.4          2.1   Iris-virginica      1            1\n",
            "55            5.7          2.8           4.5          1.3  Iris-versicolor      0            0\n",
            "53            5.5          2.3           4.0          1.3  Iris-versicolor      0            0\n",
            "65            6.7          3.1           4.4          1.4  Iris-versicolor      0            1\n",
            "108           6.7          2.5           5.8          1.8   Iris-virginica      1            1\n",
            "146           6.3          2.5           5.0          1.9   Iris-virginica      1            1\n",
            "60            5.0          2.0           3.5          1.0  Iris-versicolor      0            0\n",
            "115           6.4          3.2           5.3          2.3   Iris-virginica      1            1\n",
            "77            6.7          3.0           5.0          1.7  Iris-versicolor      0            1\n",
            "133           6.3          2.8           5.1          1.5   Iris-virginica      1            1\n",
            "90            5.5          2.6           4.4          1.2  Iris-versicolor      0            0\n",
            "57            4.9          2.4           3.3          1.0  Iris-versicolor      0            0\n",
            "51            6.4          3.2           4.5          1.5  Iris-versicolor      0            1\n",
            "113           5.7          2.5           5.0          2.0   Iris-virginica      1            0\n",
            "76            6.8          2.8           4.8          1.4  Iris-versicolor      0            1\n",
            "127           6.1          3.0           4.9          1.8   Iris-virginica      1            1\n",
            "117           7.7          3.8           6.7          2.2   Iris-virginica      1            1\n",
            "106           4.9          2.5           4.5          1.7   Iris-virginica      1            0\n",
            "95            5.7          3.0           4.2          1.2  Iris-versicolor      0            0\n",
            "99            5.7          2.8           4.1          1.3  Iris-versicolor      0            0\n",
            "128           6.4          2.8           5.6          2.1   Iris-virginica      1            1\n",
            "138           6.0          3.0           4.8          1.8   Iris-virginica      1            1\n",
            "74            6.4          2.9           4.3          1.3  Iris-versicolor      0            1\n",
            "124           6.7          3.3           5.7          2.1   Iris-virginica      1            1\n",
            "\n",
            " \n",
            " ENSEMBLE- 4---Petal width + Sepal Width + Sepal Width---->\n",
            "\n",
            "      sepal-length  sepal-width  petal-length  petal-width            Class  label  final_label\n",
            "92            5.8          2.6           4.0          1.2  Iris-versicolor      0            0\n",
            "141           6.9          3.1           5.1          2.3   Iris-virginica      1            1\n",
            "71            6.1          2.8           4.0          1.3  Iris-versicolor      0            0\n",
            "62            6.0          2.2           4.0          1.0  Iris-versicolor      0            0\n",
            "116           6.5          3.0           5.5          1.8   Iris-virginica      1            1\n",
            "58            6.6          2.9           4.6          1.3  Iris-versicolor      0            1\n",
            "100           6.3          3.3           6.0          2.5   Iris-virginica      1            1\n",
            "93            5.0          2.3           3.3          1.0  Iris-versicolor      0            0\n",
            "105           7.6          3.0           6.6          2.1   Iris-virginica      1            1\n",
            "98            5.1          2.5           3.0          1.1  Iris-versicolor      0            0\n",
            "126           6.2          2.8           4.8          1.8   Iris-virginica      1            1\n",
            "63            6.1          2.9           4.7          1.4  Iris-versicolor      0            0\n",
            "110           6.5          3.2           5.1          2.0   Iris-virginica      1            1\n",
            "88            5.6          3.0           4.1          1.3  Iris-versicolor      0            0\n",
            "109           7.2          3.6           6.1          2.5   Iris-virginica      1            1\n",
            "69            5.6          2.5           3.9          1.1  Iris-versicolor      0            0\n",
            "147           6.5          3.0           5.2          2.0   Iris-virginica      1            1\n",
            "52            6.9          3.1           4.9          1.5  Iris-versicolor      0            1\n",
            "97            6.2          2.9           4.3          1.3  Iris-versicolor      0            0\n",
            "107           7.3          2.9           6.3          1.8   Iris-virginica      1            1\n",
            "101           5.8          2.7           5.1          1.9   Iris-virginica      1            1\n",
            "122           7.7          2.8           6.7          2.0   Iris-virginica      1            1\n",
            "111           6.4          2.7           5.3          1.9   Iris-virginica      1            1\n",
            "73            6.1          2.8           4.7          1.2  Iris-versicolor      0            0\n",
            "140           6.7          3.1           5.6          2.4   Iris-virginica      1            1\n",
            "75            6.6          3.0           4.4          1.4  Iris-versicolor      0            1\n",
            "139           6.9          3.1           5.4          2.1   Iris-virginica      1            1\n",
            "55            5.7          2.8           4.5          1.3  Iris-versicolor      0            0\n",
            "53            5.5          2.3           4.0          1.3  Iris-versicolor      0            0\n",
            "65            6.7          3.1           4.4          1.4  Iris-versicolor      0            1\n",
            "108           6.7          2.5           5.8          1.8   Iris-virginica      1            1\n",
            "146           6.3          2.5           5.0          1.9   Iris-virginica      1            1\n",
            "60            5.0          2.0           3.5          1.0  Iris-versicolor      0            0\n",
            "115           6.4          3.2           5.3          2.3   Iris-virginica      1            1\n",
            "77            6.7          3.0           5.0          1.7  Iris-versicolor      0            1\n",
            "133           6.3          2.8           5.1          1.5   Iris-virginica      1            1\n",
            "90            5.5          2.6           4.4          1.2  Iris-versicolor      0            0\n",
            "57            4.9          2.4           3.3          1.0  Iris-versicolor      0            0\n",
            "51            6.4          3.2           4.5          1.5  Iris-versicolor      0            1\n",
            "113           5.7          2.5           5.0          2.0   Iris-virginica      1            0\n",
            "76            6.8          2.8           4.8          1.4  Iris-versicolor      0            1\n",
            "127           6.1          3.0           4.9          1.8   Iris-virginica      1            1\n",
            "117           7.7          3.8           6.7          2.2   Iris-virginica      1            1\n",
            "106           4.9          2.5           4.5          1.7   Iris-virginica      1            0\n",
            "95            5.7          3.0           4.2          1.2  Iris-versicolor      0            0\n",
            "99            5.7          2.8           4.1          1.3  Iris-versicolor      0            0\n",
            "128           6.4          2.8           5.6          2.1   Iris-virginica      1            1\n",
            "138           6.0          3.0           4.8          1.8   Iris-virginica      1            1\n",
            "74            6.4          2.9           4.3          1.3  Iris-versicolor      0            1\n",
            "124           6.7          3.3           5.7          2.1   Iris-virginica      1            1\n"
          ]
        }
      ]
    },
    {
      "cell_type": "markdown",
      "source": [
        "## 1. For each such ensemble classifier, split data into training and test. Apply your classifiers on testing data, compute confusion matrix and summarize the results in a table below (note that no training is done, we are just combining the ”weak” learners)."
      ],
      "metadata": {
        "id": "oYwd7qvFCt-w"
      }
    },
    {
      "cell_type": "code",
      "source": [
        "from sklearn.metrics import accuracy_score\n",
        "\n",
        "conf_ensemble_1 = confusion_matrix(test['label'], pet_sep_wid_ensemble['final_label'])\n",
        "conf_ensemble_2 = confusion_matrix(test['label'], pet_sep_len_ensemble['final_label'])\n",
        "conf_ensemble_3 = confusion_matrix(test['label'], pet_len_sep_ensemble['final_label'])\n",
        "conf_ensemble_4 = confusion_matrix(test['label'], pet_wid_sep_ensemble['final_label'])\n",
        "\n",
        "print(\"Confusion Matrix of ENSEMBLE 1----> \\n\", conf_ensemble_1)\n",
        "print(\"\\n Confusion Matrix of ENSEMBLE 2----> \\n\", conf_ensemble_2)\n",
        "print(\"\\n Confusion Matrix of ENSEMBLE 3----> \\n\", conf_ensemble_3)\n",
        "print(\"\\n Confusion Matrix of ENSEMBLE 4----> \\n\", conf_ensemble_4)\n",
        "\n",
        "acc_ensemble_1 = accuracy_score(test['label'], test_pet_wed['label'])\n",
        "acc_ensemble_2 = accuracy_score(test['label'], test_pet_len['label'])\n",
        "acc_ensemble_3 = accuracy_score(test['label'], test_sep_wid['label'])\n",
        "acc_ensemble_4 = accuracy_score(test['label'], test_sep_wid['label'])\n",
        "\n",
        "\n",
        "print(\"Accuracy(max score is 1 as its Normalised) of ENSEMBLE 1----> \\n\", acc_ensemble_1)\n",
        "print(\"\\n Accuracy of ENSEMBLE 2----> \\n\", acc_ensemble_2)\n",
        "print(\"\\n Accuracy of ENSEMBLE 3----> \\n\", acc_ensemble_3)\n",
        "print(\"\\n Accuracy of ENSEMBLE 4----> \\n\", acc_ensemble_4)\n"
      ],
      "metadata": {
        "colab": {
          "base_uri": "https://localhost:8080/",
          "height": 240
        },
        "id": "ZBJQKF3kCx7c",
        "outputId": "d055366b-d51e-4eae-cc47-a3b15f92ae97"
      },
      "execution_count": null,
      "outputs": [
        {
          "output_type": "error",
          "ename": "NameError",
          "evalue": "ignored",
          "traceback": [
            "\u001b[0;31m---------------------------------------------------------------------------\u001b[0m",
            "\u001b[0;31mNameError\u001b[0m                                 Traceback (most recent call last)",
            "\u001b[0;32m<ipython-input-1-a0452d4fa8a3>\u001b[0m in \u001b[0;36m<module>\u001b[0;34m\u001b[0m\n\u001b[1;32m      1\u001b[0m \u001b[0;32mfrom\u001b[0m \u001b[0msklearn\u001b[0m\u001b[0;34m.\u001b[0m\u001b[0mmetrics\u001b[0m \u001b[0;32mimport\u001b[0m \u001b[0maccuracy_score\u001b[0m\u001b[0;34m\u001b[0m\u001b[0;34m\u001b[0m\u001b[0m\n\u001b[1;32m      2\u001b[0m \u001b[0;34m\u001b[0m\u001b[0m\n\u001b[0;32m----> 3\u001b[0;31m \u001b[0mconf_ensemble_1\u001b[0m \u001b[0;34m=\u001b[0m \u001b[0mconfusion_matrix\u001b[0m\u001b[0;34m(\u001b[0m\u001b[0mtest\u001b[0m\u001b[0;34m[\u001b[0m\u001b[0;34m'label'\u001b[0m\u001b[0;34m]\u001b[0m\u001b[0;34m,\u001b[0m \u001b[0mpet_sep_wid_ensemble\u001b[0m\u001b[0;34m[\u001b[0m\u001b[0;34m'final_label'\u001b[0m\u001b[0;34m]\u001b[0m\u001b[0;34m)\u001b[0m\u001b[0;34m\u001b[0m\u001b[0;34m\u001b[0m\u001b[0m\n\u001b[0m\u001b[1;32m      4\u001b[0m \u001b[0mconf_ensemble_2\u001b[0m \u001b[0;34m=\u001b[0m \u001b[0mconfusion_matrix\u001b[0m\u001b[0;34m(\u001b[0m\u001b[0mtest\u001b[0m\u001b[0;34m[\u001b[0m\u001b[0;34m'label'\u001b[0m\u001b[0;34m]\u001b[0m\u001b[0;34m,\u001b[0m \u001b[0mpet_sep_len_ensemble\u001b[0m\u001b[0;34m[\u001b[0m\u001b[0;34m'final_label'\u001b[0m\u001b[0;34m]\u001b[0m\u001b[0;34m)\u001b[0m\u001b[0;34m\u001b[0m\u001b[0;34m\u001b[0m\u001b[0m\n\u001b[1;32m      5\u001b[0m \u001b[0mconf_ensemble_3\u001b[0m \u001b[0;34m=\u001b[0m \u001b[0mconfusion_matrix\u001b[0m\u001b[0;34m(\u001b[0m\u001b[0mtest\u001b[0m\u001b[0;34m[\u001b[0m\u001b[0;34m'label'\u001b[0m\u001b[0;34m]\u001b[0m\u001b[0;34m,\u001b[0m \u001b[0mpet_len_sep_ensemble\u001b[0m\u001b[0;34m[\u001b[0m\u001b[0;34m'final_label'\u001b[0m\u001b[0;34m]\u001b[0m\u001b[0;34m)\u001b[0m\u001b[0;34m\u001b[0m\u001b[0;34m\u001b[0m\u001b[0m\n",
            "\u001b[0;31mNameError\u001b[0m: name 'confusion_matrix' is not defined"
          ]
        }
      ]
    },
    {
      "cell_type": "markdown",
      "source": [
        "## 2. discuss your findings and rank your ensembles learners by accuracy (from most accurate to least accurate"
      ],
      "metadata": {
        "id": "Ti-831X1GX5i"
      }
    },
    {
      "cell_type": "markdown",
      "source": [
        "# ANSWER- According to the above cell-> ENSEMBLE 1(petal length, petal width, sepal width) has the highest accuracy of 0.94, followed by ENSEMBLE 2 at 0.8, followed by ENSEMBLE 3 and ENSEMBLE 4 at 0.66 each"
      ],
      "metadata": {
        "id": "xRYgzrLiGnje"
      }
    },
    {
      "cell_type": "markdown",
      "source": [
        "## 3. Compare ”weak learners” and ensemble results."
      ],
      "metadata": {
        "id": "LI3Sh9qbHFBi"
      }
    },
    {
      "cell_type": "markdown",
      "source": [
        "# ANSWER- Accuracy of ENSEMBLE 1 is similar to Petal Width classifier. ENSEMBLE 2 is similar to Petal Lenght Classifier."
      ],
      "metadata": {
        "id": "goB_wjpZHnpF"
      }
    },
    {
      "cell_type": "markdown",
      "source": [
        "#Question 4:We will now design a density-based ”weak learner”. Assume that for each label each feature is distributed according to a normal distribution with mean µ and standard deviation σ. Split the data and use training data to compute (µ0, σ0) for class 0 and (µ1, σ1) for class 1. Given a flower in testing set with a feature value x, you compute p0(x) and p1(x) and pick up the label corresponding to the larger value."
      ],
      "metadata": {
        "id": "PSZus625IDD4"
      }
    },
    {
      "cell_type": "code",
      "source": [
        "new_train, new_test = train_test_split(df, test_size=0.5)\n",
        "new_train_0 = new_train[new_train['label'] == 0]\n",
        "new_train_1 = new_train[new_train['label'] == 1]"
      ],
      "metadata": {
        "id": "RmtmRqx7IH3p"
      },
      "execution_count": null,
      "outputs": []
    },
    {
      "cell_type": "markdown",
      "source": [
        "## 1. you design 4 such density-based classfiers, one for each of the 4 features. For each classifier, compute the confusion matrix (from a testing set! as before) and summarize them in a table below"
      ],
      "metadata": {
        "id": "F52IEZs-N_Fo"
      }
    },
    {
      "cell_type": "code",
      "source": [
        "from scipy.stats import norm\n",
        "new_test[\"density_1\"] = 0\n",
        "new_test[\"density_2\"] = 0\n",
        "new_test[\"density_3\"] = 0\n",
        "new_test[\"density_4\"] = 0"
      ],
      "metadata": {
        "id": "egvSHq6ROR0w"
      },
      "execution_count": null,
      "outputs": []
    },
    {
      "cell_type": "code",
      "source": [
        "#Sepal Length\n",
        "for i, row in new_test.iterrows():\n",
        "    \n",
        "    d1 = norm.pdf((new_test['sepal-length'][i] - new_train_0['sepal-length'].mean())/new_train_0['sepal-length'].std()) \n",
        "    d2 = norm.pdf((new_test['sepal-length'][i] - new_train_1['sepal-length'].mean())/new_train_1['sepal-length'].std()) \n",
        "    \n",
        "    if d1 > d2:\n",
        "        new_test[\"density_1\"][i] = 0 \n",
        "    else:\n",
        "        new_test[\"density_1\"][i] = 1   "
      ],
      "metadata": {
        "colab": {
          "base_uri": "https://localhost:8080/"
        },
        "id": "xa6cHjWnOp6a",
        "outputId": "3d1c7531-4cee-4030-a536-d0884d195ec5"
      },
      "execution_count": null,
      "outputs": [
        {
          "output_type": "stream",
          "name": "stderr",
          "text": [
            "/usr/local/lib/python3.7/dist-packages/ipykernel_launcher.py:10: SettingWithCopyWarning: \n",
            "A value is trying to be set on a copy of a slice from a DataFrame\n",
            "\n",
            "See the caveats in the documentation: https://pandas.pydata.org/pandas-docs/stable/user_guide/indexing.html#returning-a-view-versus-a-copy\n",
            "  # Remove the CWD from sys.path while we load stuff.\n",
            "/usr/local/lib/python3.7/dist-packages/ipykernel_launcher.py:8: SettingWithCopyWarning: \n",
            "A value is trying to be set on a copy of a slice from a DataFrame\n",
            "\n",
            "See the caveats in the documentation: https://pandas.pydata.org/pandas-docs/stable/user_guide/indexing.html#returning-a-view-versus-a-copy\n",
            "  \n"
          ]
        }
      ]
    },
    {
      "cell_type": "code",
      "source": [
        "#Sepal Width\n",
        "for i, row in new_test.iterrows():\n",
        "    \n",
        "    d3 = norm.pdf((new_test['sepal-width'][i] - new_train_0['sepal-width'].mean())/new_train_0['sepal-width'].std()) \n",
        "    d4 = norm.pdf((new_test['sepal-width'][i] - new_train_1['sepal-width'].mean())/new_train_1['sepal-width'].std()) \n",
        "    \n",
        "    if d3 > d4:\n",
        "        new_test[\"density_2\"][i] = 0 \n",
        "    else:\n",
        "        new_test[\"density_2\"][i] = 1  "
      ],
      "metadata": {
        "colab": {
          "base_uri": "https://localhost:8080/"
        },
        "id": "zKZnU6S3OuzB",
        "outputId": "7296dc34-143a-42b6-f927-20251327749a"
      },
      "execution_count": null,
      "outputs": [
        {
          "output_type": "stream",
          "name": "stderr",
          "text": [
            "/usr/local/lib/python3.7/dist-packages/ipykernel_launcher.py:10: SettingWithCopyWarning: \n",
            "A value is trying to be set on a copy of a slice from a DataFrame\n",
            "\n",
            "See the caveats in the documentation: https://pandas.pydata.org/pandas-docs/stable/user_guide/indexing.html#returning-a-view-versus-a-copy\n",
            "  # Remove the CWD from sys.path while we load stuff.\n",
            "/usr/local/lib/python3.7/dist-packages/ipykernel_launcher.py:8: SettingWithCopyWarning: \n",
            "A value is trying to be set on a copy of a slice from a DataFrame\n",
            "\n",
            "See the caveats in the documentation: https://pandas.pydata.org/pandas-docs/stable/user_guide/indexing.html#returning-a-view-versus-a-copy\n",
            "  \n"
          ]
        }
      ]
    },
    {
      "cell_type": "code",
      "source": [
        "#Petal Length\n",
        "for i, row in new_test.iterrows():\n",
        "    \n",
        "    d5 = norm.pdf((new_test['petal-length'][i] - new_train_0['petal-length'].mean())/new_train_0['petal-length'].std()) \n",
        "    d6 = norm.pdf((new_test['petal-length'][i] - new_train_1['petal-length'].mean())/new_train_1['petal-length'].std()) \n",
        "    \n",
        "    if d5 > d6:\n",
        "        new_test[\"density_3\"][i] = 0 \n",
        "    else:\n",
        "        new_test[\"density_3\"][i] = 1"
      ],
      "metadata": {
        "colab": {
          "base_uri": "https://localhost:8080/"
        },
        "id": "9e1kH3_sOxMJ",
        "outputId": "056b316d-a157-42b0-8476-8125f2d49e25"
      },
      "execution_count": null,
      "outputs": [
        {
          "output_type": "stream",
          "name": "stderr",
          "text": [
            "/usr/local/lib/python3.7/dist-packages/ipykernel_launcher.py:8: SettingWithCopyWarning: \n",
            "A value is trying to be set on a copy of a slice from a DataFrame\n",
            "\n",
            "See the caveats in the documentation: https://pandas.pydata.org/pandas-docs/stable/user_guide/indexing.html#returning-a-view-versus-a-copy\n",
            "  \n",
            "/usr/local/lib/python3.7/dist-packages/ipykernel_launcher.py:10: SettingWithCopyWarning: \n",
            "A value is trying to be set on a copy of a slice from a DataFrame\n",
            "\n",
            "See the caveats in the documentation: https://pandas.pydata.org/pandas-docs/stable/user_guide/indexing.html#returning-a-view-versus-a-copy\n",
            "  # Remove the CWD from sys.path while we load stuff.\n"
          ]
        }
      ]
    },
    {
      "cell_type": "code",
      "source": [
        "#Petal Width\n",
        "for i, row in new_test.iterrows():\n",
        "    \n",
        "    d7 = norm.pdf((new_test['petal-width'][i] - new_train_0['petal-width'].mean())/new_train_0['petal-width'].std()) \n",
        "    d8 = norm.pdf((new_test['petal-width'][i] - new_train_1['petal-width'].mean())/new_train_1['petal-width'].std()) \n",
        "    \n",
        "    if d7 > d8:\n",
        "        new_test[\"density_4\"][i] = 0 \n",
        "    else:\n",
        "        new_test[\"density_4\"][i] = 1\n",
        "new_test.head()"
      ],
      "metadata": {
        "colab": {
          "base_uri": "https://localhost:8080/",
          "height": 385
        },
        "id": "Xh5em_mxO0h5",
        "outputId": "61799d19-9099-45dc-9b3a-f969f58689fb"
      },
      "execution_count": null,
      "outputs": [
        {
          "output_type": "stream",
          "name": "stderr",
          "text": [
            "/usr/local/lib/python3.7/dist-packages/ipykernel_launcher.py:8: SettingWithCopyWarning: \n",
            "A value is trying to be set on a copy of a slice from a DataFrame\n",
            "\n",
            "See the caveats in the documentation: https://pandas.pydata.org/pandas-docs/stable/user_guide/indexing.html#returning-a-view-versus-a-copy\n",
            "  \n",
            "/usr/local/lib/python3.7/dist-packages/ipykernel_launcher.py:10: SettingWithCopyWarning: \n",
            "A value is trying to be set on a copy of a slice from a DataFrame\n",
            "\n",
            "See the caveats in the documentation: https://pandas.pydata.org/pandas-docs/stable/user_guide/indexing.html#returning-a-view-versus-a-copy\n",
            "  # Remove the CWD from sys.path while we load stuff.\n"
          ]
        },
        {
          "output_type": "execute_result",
          "data": {
            "text/plain": [
              "     sepal-length  sepal-width  petal-length  petal-width            Class  \\\n",
              "74            6.4          2.9           4.3          1.3  Iris-versicolor   \n",
              "66            5.6          3.0           4.5          1.5  Iris-versicolor   \n",
              "137           6.4          3.1           5.5          1.8   Iris-virginica   \n",
              "61            5.9          3.0           4.2          1.5  Iris-versicolor   \n",
              "103           6.3          2.9           5.6          1.8   Iris-virginica   \n",
              "\n",
              "     label  density_1  density_2  density_3  density_4  \n",
              "74       0          1          1          0          0  \n",
              "66       0          0          1          0          0  \n",
              "137      1          1          1          1          1  \n",
              "61       0          0          1          0          0  \n",
              "103      1          1          1          1          1  "
            ],
            "text/html": [
              "\n",
              "  <div id=\"df-19074608-e4b2-4da1-9753-1c211986931b\">\n",
              "    <div class=\"colab-df-container\">\n",
              "      <div>\n",
              "<style scoped>\n",
              "    .dataframe tbody tr th:only-of-type {\n",
              "        vertical-align: middle;\n",
              "    }\n",
              "\n",
              "    .dataframe tbody tr th {\n",
              "        vertical-align: top;\n",
              "    }\n",
              "\n",
              "    .dataframe thead th {\n",
              "        text-align: right;\n",
              "    }\n",
              "</style>\n",
              "<table border=\"1\" class=\"dataframe\">\n",
              "  <thead>\n",
              "    <tr style=\"text-align: right;\">\n",
              "      <th></th>\n",
              "      <th>sepal-length</th>\n",
              "      <th>sepal-width</th>\n",
              "      <th>petal-length</th>\n",
              "      <th>petal-width</th>\n",
              "      <th>Class</th>\n",
              "      <th>label</th>\n",
              "      <th>density_1</th>\n",
              "      <th>density_2</th>\n",
              "      <th>density_3</th>\n",
              "      <th>density_4</th>\n",
              "    </tr>\n",
              "  </thead>\n",
              "  <tbody>\n",
              "    <tr>\n",
              "      <th>74</th>\n",
              "      <td>6.4</td>\n",
              "      <td>2.9</td>\n",
              "      <td>4.3</td>\n",
              "      <td>1.3</td>\n",
              "      <td>Iris-versicolor</td>\n",
              "      <td>0</td>\n",
              "      <td>1</td>\n",
              "      <td>1</td>\n",
              "      <td>0</td>\n",
              "      <td>0</td>\n",
              "    </tr>\n",
              "    <tr>\n",
              "      <th>66</th>\n",
              "      <td>5.6</td>\n",
              "      <td>3.0</td>\n",
              "      <td>4.5</td>\n",
              "      <td>1.5</td>\n",
              "      <td>Iris-versicolor</td>\n",
              "      <td>0</td>\n",
              "      <td>0</td>\n",
              "      <td>1</td>\n",
              "      <td>0</td>\n",
              "      <td>0</td>\n",
              "    </tr>\n",
              "    <tr>\n",
              "      <th>137</th>\n",
              "      <td>6.4</td>\n",
              "      <td>3.1</td>\n",
              "      <td>5.5</td>\n",
              "      <td>1.8</td>\n",
              "      <td>Iris-virginica</td>\n",
              "      <td>1</td>\n",
              "      <td>1</td>\n",
              "      <td>1</td>\n",
              "      <td>1</td>\n",
              "      <td>1</td>\n",
              "    </tr>\n",
              "    <tr>\n",
              "      <th>61</th>\n",
              "      <td>5.9</td>\n",
              "      <td>3.0</td>\n",
              "      <td>4.2</td>\n",
              "      <td>1.5</td>\n",
              "      <td>Iris-versicolor</td>\n",
              "      <td>0</td>\n",
              "      <td>0</td>\n",
              "      <td>1</td>\n",
              "      <td>0</td>\n",
              "      <td>0</td>\n",
              "    </tr>\n",
              "    <tr>\n",
              "      <th>103</th>\n",
              "      <td>6.3</td>\n",
              "      <td>2.9</td>\n",
              "      <td>5.6</td>\n",
              "      <td>1.8</td>\n",
              "      <td>Iris-virginica</td>\n",
              "      <td>1</td>\n",
              "      <td>1</td>\n",
              "      <td>1</td>\n",
              "      <td>1</td>\n",
              "      <td>1</td>\n",
              "    </tr>\n",
              "  </tbody>\n",
              "</table>\n",
              "</div>\n",
              "      <button class=\"colab-df-convert\" onclick=\"convertToInteractive('df-19074608-e4b2-4da1-9753-1c211986931b')\"\n",
              "              title=\"Convert this dataframe to an interactive table.\"\n",
              "              style=\"display:none;\">\n",
              "        \n",
              "  <svg xmlns=\"http://www.w3.org/2000/svg\" height=\"24px\"viewBox=\"0 0 24 24\"\n",
              "       width=\"24px\">\n",
              "    <path d=\"M0 0h24v24H0V0z\" fill=\"none\"/>\n",
              "    <path d=\"M18.56 5.44l.94 2.06.94-2.06 2.06-.94-2.06-.94-.94-2.06-.94 2.06-2.06.94zm-11 1L8.5 8.5l.94-2.06 2.06-.94-2.06-.94L8.5 2.5l-.94 2.06-2.06.94zm10 10l.94 2.06.94-2.06 2.06-.94-2.06-.94-.94-2.06-.94 2.06-2.06.94z\"/><path d=\"M17.41 7.96l-1.37-1.37c-.4-.4-.92-.59-1.43-.59-.52 0-1.04.2-1.43.59L10.3 9.45l-7.72 7.72c-.78.78-.78 2.05 0 2.83L4 21.41c.39.39.9.59 1.41.59.51 0 1.02-.2 1.41-.59l7.78-7.78 2.81-2.81c.8-.78.8-2.07 0-2.86zM5.41 20L4 18.59l7.72-7.72 1.47 1.35L5.41 20z\"/>\n",
              "  </svg>\n",
              "      </button>\n",
              "      \n",
              "  <style>\n",
              "    .colab-df-container {\n",
              "      display:flex;\n",
              "      flex-wrap:wrap;\n",
              "      gap: 12px;\n",
              "    }\n",
              "\n",
              "    .colab-df-convert {\n",
              "      background-color: #E8F0FE;\n",
              "      border: none;\n",
              "      border-radius: 50%;\n",
              "      cursor: pointer;\n",
              "      display: none;\n",
              "      fill: #1967D2;\n",
              "      height: 32px;\n",
              "      padding: 0 0 0 0;\n",
              "      width: 32px;\n",
              "    }\n",
              "\n",
              "    .colab-df-convert:hover {\n",
              "      background-color: #E2EBFA;\n",
              "      box-shadow: 0px 1px 2px rgba(60, 64, 67, 0.3), 0px 1px 3px 1px rgba(60, 64, 67, 0.15);\n",
              "      fill: #174EA6;\n",
              "    }\n",
              "\n",
              "    [theme=dark] .colab-df-convert {\n",
              "      background-color: #3B4455;\n",
              "      fill: #D2E3FC;\n",
              "    }\n",
              "\n",
              "    [theme=dark] .colab-df-convert:hover {\n",
              "      background-color: #434B5C;\n",
              "      box-shadow: 0px 1px 3px 1px rgba(0, 0, 0, 0.15);\n",
              "      filter: drop-shadow(0px 1px 2px rgba(0, 0, 0, 0.3));\n",
              "      fill: #FFFFFF;\n",
              "    }\n",
              "  </style>\n",
              "\n",
              "      <script>\n",
              "        const buttonEl =\n",
              "          document.querySelector('#df-19074608-e4b2-4da1-9753-1c211986931b button.colab-df-convert');\n",
              "        buttonEl.style.display =\n",
              "          google.colab.kernel.accessAllowed ? 'block' : 'none';\n",
              "\n",
              "        async function convertToInteractive(key) {\n",
              "          const element = document.querySelector('#df-19074608-e4b2-4da1-9753-1c211986931b');\n",
              "          const dataTable =\n",
              "            await google.colab.kernel.invokeFunction('convertToInteractive',\n",
              "                                                     [key], {});\n",
              "          if (!dataTable) return;\n",
              "\n",
              "          const docLinkHtml = 'Like what you see? Visit the ' +\n",
              "            '<a target=\"_blank\" href=https://colab.research.google.com/notebooks/data_table.ipynb>data table notebook</a>'\n",
              "            + ' to learn more about interactive tables.';\n",
              "          element.innerHTML = '';\n",
              "          dataTable['output_type'] = 'display_data';\n",
              "          await google.colab.output.renderOutput(dataTable, element);\n",
              "          const docLink = document.createElement('div');\n",
              "          docLink.innerHTML = docLinkHtml;\n",
              "          element.appendChild(docLink);\n",
              "        }\n",
              "      </script>\n",
              "    </div>\n",
              "  </div>\n",
              "  "
            ]
          },
          "metadata": {},
          "execution_count": 142
        }
      ]
    },
    {
      "cell_type": "code",
      "source": [
        "#Sepal Length\n",
        "from sklearn import metrics\n",
        "\n",
        "confusion_matrix_density1 = metrics.confusion_matrix(new_test[\"label\"], new_test[\"density_1\"])\n",
        "confusion_matrix_density1"
      ],
      "metadata": {
        "colab": {
          "base_uri": "https://localhost:8080/"
        },
        "id": "xrEwH_SvO4Cj",
        "outputId": "f092c420-e58e-4d5e-eedc-3c0fe00bafbb"
      },
      "execution_count": null,
      "outputs": [
        {
          "output_type": "execute_result",
          "data": {
            "text/plain": [
              "array([[18, 10],\n",
              "       [ 4, 18]])"
            ]
          },
          "metadata": {},
          "execution_count": 143
        }
      ]
    },
    {
      "cell_type": "code",
      "source": [
        "import seaborn as sns\n",
        "import matplotlib.pyplot as plt\n",
        "\n",
        "\n",
        "n1 = sns.heatmap(confusion_matrix_density1, annot=True, cmap='Blues')\n",
        "\n",
        "n1.set_title('Sepal Length Density1 - Confusion Matrix\\n\\n');\n",
        "n1.set_xlabel('\\nPredicted Values')\n",
        "n1.set_ylabel('Actual Values ');\n",
        "\n",
        "## Ticket labels - List must be in alphabetical order\n",
        "n1.xaxis.set_ticklabels(['False','True'])\n",
        "n1.yaxis.set_ticklabels(['False','True'])\n",
        "\n",
        "## Display the visualization of the Confusion Matrix.\n",
        "plt.show()\n",
        "#Accuracy for Sepal Length\n",
        "den_1 = metrics.accuracy_score(new_test[\"label\"], new_test[\"density_1\"])\n",
        "print(\"Sepal Length Accuracy - \",den_1)"
      ],
      "metadata": {
        "colab": {
          "base_uri": "https://localhost:8080/",
          "height": 355
        },
        "id": "tzm1MupmPGVL",
        "outputId": "f0d83614-b7e0-4053-ddaf-e5cdc89eaa7b"
      },
      "execution_count": null,
      "outputs": [
        {
          "output_type": "display_data",
          "data": {
            "text/plain": [
              "<Figure size 432x288 with 2 Axes>"
            ],
            "image/png": "[encoded data removed]"
          },
          "metadata": {
            "needs_background": "light"
          }
        },
        {
          "output_type": "stream",
          "name": "stdout",
          "text": [
            "Sepal Length Accuracy -  0.72\n"
          ]
        }
      ]
    },
    {
      "cell_type": "code",
      "source": [
        "#Sepal Width\n",
        "confusion_matrix_density2 = metrics.confusion_matrix(new_test[\"label\"], new_test[\"density_2\"])\n",
        "confusion_matrix_density2"
      ],
      "metadata": {
        "colab": {
          "base_uri": "https://localhost:8080/"
        },
        "id": "CKv1im2tPYyc",
        "outputId": "30e0b97f-2af2-4e45-ed12-c2c4a01a3b2b"
      },
      "execution_count": null,
      "outputs": [
        {
          "output_type": "execute_result",
          "data": {
            "text/plain": [
              "array([[14, 14],\n",
              "       [ 7, 15]])"
            ]
          },
          "metadata": {},
          "execution_count": 145
        }
      ]
    },
    {
      "cell_type": "code",
      "source": [
        "n2 = sns.heatmap(confusion_matrix_density2, annot=True, cmap='Blues')\n",
        "\n",
        "n2.set_title('Sepal Width Density2 - Confusion Matrix\\n\\n');\n",
        "n2.set_xlabel('\\nPredicted Values')\n",
        "n2.set_ylabel('Actual Values ');\n",
        "\n",
        "## Ticket labels - List must be in alphabetical order\n",
        "n2.xaxis.set_ticklabels(['False','True'])\n",
        "n2.yaxis.set_ticklabels(['False','True'])\n",
        "\n",
        "## Display the visualization of the Confusion Matrix.\n",
        "plt.show()\n",
        "#Accuracy for Sepal Length\n",
        "den_2 = metrics.accuracy_score(new_test[\"label\"], new_test[\"density_2\"])\n",
        "print(\"Sepal Length Accuracy - \",den_2)"
      ],
      "metadata": {
        "colab": {
          "base_uri": "https://localhost:8080/",
          "height": 355
        },
        "id": "zljx_jsaPcqD",
        "outputId": "97ec4a53-d0fe-4ccc-c904-ac59b6d6e78e"
      },
      "execution_count": null,
      "outputs": [
        {
          "output_type": "display_data",
          "data": {
            "text/plain": [
              "<Figure size 432x288 with 2 Axes>"
            ],
            "image/png": "[encoded data removed]"
          },
          "metadata": {
            "needs_background": "light"
          }
        },
        {
          "output_type": "stream",
          "name": "stdout",
          "text": [
            "Sepal Length Accuracy -  0.58\n"
          ]
        }
      ]
    },
    {
      "cell_type": "code",
      "source": [
        "#Petal Length\n",
        "confusion_matrix_density3 = metrics.confusion_matrix(new_test[\"label\"], new_test[\"density_3\"])\n",
        "confusion_matrix_density3"
      ],
      "metadata": {
        "colab": {
          "base_uri": "https://localhost:8080/"
        },
        "id": "LE5uNn-kPhlT",
        "outputId": "bd2e40f2-fa80-4b71-adcf-f653aecb409d"
      },
      "execution_count": null,
      "outputs": [
        {
          "output_type": "execute_result",
          "data": {
            "text/plain": [
              "array([[26,  2],\n",
              "       [ 1, 21]])"
            ]
          },
          "metadata": {},
          "execution_count": 147
        }
      ]
    },
    {
      "cell_type": "code",
      "source": [
        "n3 = sns.heatmap(confusion_matrix_density3, annot=True, cmap='Blues')\n",
        "\n",
        "n3.set_title('Petal Length Density3 - Confusion Matrix\\n\\n');\n",
        "n3.set_xlabel('\\nPredicted Values')\n",
        "n3.set_ylabel('Actual Values ');\n",
        "\n",
        "## Ticket labels - List must be in alphabetical order\n",
        "n3.xaxis.set_ticklabels(['False','True'])\n",
        "n3.yaxis.set_ticklabels(['False','True'])\n",
        "\n",
        "## Display the visualization of the Confusion Matrix.\n",
        "plt.show()\n",
        "#Accuracy for Sepal Length\n",
        "den_3 = metrics.accuracy_score(new_test[\"label\"], new_test[\"density_3\"])\n",
        "print(\"Sepal Length Accuracy - \",den_3)"
      ],
      "metadata": {
        "colab": {
          "base_uri": "https://localhost:8080/",
          "height": 355
        },
        "id": "akZtsJTrQEDM",
        "outputId": "7c7666fc-c1f0-4deb-87b0-8fa6f7ee752f"
      },
      "execution_count": null,
      "outputs": [
        {
          "output_type": "display_data",
          "data": {
            "text/plain": [
              "<Figure size 432x288 with 2 Axes>"
            ],
            "image/png": "[encoded data removed]"
          },
          "metadata": {
            "needs_background": "light"
          }
        },
        {
          "output_type": "stream",
          "name": "stdout",
          "text": [
            "Sepal Length Accuracy -  0.94\n"
          ]
        }
      ]
    },
    {
      "cell_type": "code",
      "source": [
        "#Petal Width\n",
        "confusion_matrix_density4 = metrics.confusion_matrix(new_test[\"label\"], new_test[\"density_4\"])\n",
        "confusion_matrix_density4"
      ],
      "metadata": {
        "colab": {
          "base_uri": "https://localhost:8080/"
        },
        "id": "pED7d9oRQH19",
        "outputId": "198a2bff-a88e-4bd2-ebe7-a6f04c1012be"
      },
      "execution_count": null,
      "outputs": [
        {
          "output_type": "execute_result",
          "data": {
            "text/plain": [
              "array([[27,  1],\n",
              "       [ 1, 21]])"
            ]
          },
          "metadata": {},
          "execution_count": 149
        }
      ]
    },
    {
      "cell_type": "code",
      "source": [
        "n4 = sns.heatmap(confusion_matrix_density4, annot=True, cmap='Blues')\n",
        "\n",
        "n4.set_title('Petal Width Density4 - Confusion Matrix\\n\\n');\n",
        "n4.set_xlabel('\\nPredicted Values')\n",
        "n4.set_ylabel('Actual Values ');\n",
        "\n",
        "## Ticket labels - List must be in alphabetical order\n",
        "n4.xaxis.set_ticklabels(['False','True'])\n",
        "n4.yaxis.set_ticklabels(['False','True'])\n",
        "\n",
        "## Display the visualization of the Confusion Matrix.\n",
        "plt.show()\n",
        "#Accuracy for Sepal Length\n",
        "den_4 = metrics.accuracy_score(new_test[\"label\"], new_test[\"density_4\"])\n",
        "print(\"Sepal Length Accuracy - \",den_4)"
      ],
      "metadata": {
        "colab": {
          "base_uri": "https://localhost:8080/",
          "height": 355
        },
        "id": "U72V9lT1QK8o",
        "outputId": "c11605e3-80f3-4ad2-e529-8d00cdd18e73"
      },
      "execution_count": null,
      "outputs": [
        {
          "output_type": "display_data",
          "data": {
            "text/plain": [
              "<Figure size 432x288 with 2 Axes>"
            ],
            "image/png": "[encoded data removed]"
          },
          "metadata": {
            "needs_background": "light"
          }
        },
        {
          "output_type": "stream",
          "name": "stdout",
          "text": [
            "Sepal Length Accuracy -  0.96\n"
          ]
        }
      ]
    },
    {
      "cell_type": "markdown",
      "source": [
        "## 2 - discuss your findings and rank your density-based ”weak” learners by accuracy (from most accurate to least accurate\n",
        "\n",
        "##### ANSWER- Ranking of Weak Learners (Most accurate to least accurate)\n",
        "- Rank 1 : Petal Length\n",
        "- Rank 2 : Petal Width \n",
        "- Rank 3 : Sepal Length\n",
        "- Rank 4 : Sepal Width\n",
        "\n",
        "#### Observations:\n",
        "- Petal length and Petal width has the most accuracy."
      ],
      "metadata": {
        "id": "b6jHWmzMQTLe"
      }
    },
    {
      "cell_type": "markdown",
      "source": [
        "#Question 5: You construct density-based ensemble classifiers by combining 3 density-based classifiers together. For example, you take (1), (2) and (3). The output label is the majority decision. You will have 4 such ensemble classifiers - there are 4 distinct ways to choose 3 classifiers out of 4. Split your data again 50/50 into training and testing"
      ],
      "metadata": {
        "id": "SNR5YoE7RJ3Y"
      }
    },
    {
      "cell_type": "code",
      "source": [
        "new_test[\"den_ensemble1\"] = 0\n",
        "new_test[\"den_ensemble2\"] = 0\n",
        "new_test[\"den_ensemble3\"] = 0\n",
        "new_test[\"den_ensemble4\"] = 0"
      ],
      "metadata": {
        "id": "QJRH3p7pQkt2"
      },
      "execution_count": null,
      "outputs": []
    },
    {
      "cell_type": "code",
      "source": [
        "from statistics import mode\n",
        "\n",
        "for i, row in new_test.iterrows():\n",
        "    value = mode([new_test[\"density_1\"][i], new_test[\"density_2\"][i], new_test[\"density_3\"][i]])\n",
        "    new_test.loc[i, \"den_ensemble1\"] = int(value) \n",
        "for i, row in new_test.iterrows():\n",
        "    value = mode([new_test[\"density_1\"][i], new_test[\"density_2\"][i], new_test[\"density_4\"][i]])\n",
        "    new_test.loc[i, \"den_ensemble2\"] = int(value) \n",
        "for i, row in new_test.iterrows():\n",
        "    value = mode([new_test[\"density_1\"][i], new_test[\"density_3\"][i], new_test[\"density_4\"][i]])\n",
        "    new_test.loc[i, \"den_ensemble3\"] = int(value) \n",
        "for i, row in new_test.iterrows():\n",
        "    value = mode([new_test[\"density_2\"][i], new_test[\"density_3\"][i], new_test[\"density_4\"][i]])\n",
        "    new_test.loc[i, \"den_ensemble4\"] = int(value)\n",
        "\n",
        "#Confusion Matrix Sepal Length\n",
        "confusion_matrix_den1 = metrics.confusion_matrix(new_test[\"label\"], new_test[\"den_ensemble1\"])\n",
        "confusion_matrix_den1\n"
      ],
      "metadata": {
        "colab": {
          "base_uri": "https://localhost:8080/"
        },
        "id": "GhYbBCDPRXhT",
        "outputId": "71291d03-0b06-4619-e31f-4ae6586b0af4"
      },
      "execution_count": null,
      "outputs": [
        {
          "output_type": "execute_result",
          "data": {
            "text/plain": [
              "array([[21,  7],\n",
              "       [ 4, 18]])"
            ]
          },
          "metadata": {},
          "execution_count": 152
        }
      ]
    },
    {
      "cell_type": "code",
      "source": [
        "import seaborn as sns\n",
        "\n",
        "f1 = sns.heatmap(confusion_matrix_den1, annot=True, cmap='PuBuGn')\n",
        "\n",
        "f1.set_title('Sepal Length den_Ensamble1 - Confusion Matrix\\n\\n');\n",
        "f1.set_xlabel('\\nPredicted Values')\n",
        "f1.set_ylabel('Actual Values ');\n",
        "\n",
        "## Ticket labels - List must be in alphabetical order\n",
        "f1.xaxis.set_ticklabels(['False','True'])\n",
        "f1.yaxis.set_ticklabels(['False','True'])\n",
        "\n",
        "## Display the visualization of the Confusion Matrix.\n",
        "plt.show()\n",
        "#Accuracy for Sepal Length\n",
        "den_ens_1 = metrics.accuracy_score(new_test[\"label\"], new_test[\"den_ensemble1\"])\n",
        "print(\"Sepal Length Accuracy - \",den_ens_1)"
      ],
      "metadata": {
        "colab": {
          "base_uri": "https://localhost:8080/",
          "height": 355
        },
        "id": "pZRU9WQgRsMh",
        "outputId": "735ee3d9-4790-4fe6-ee32-6885f3ca0a45"
      },
      "execution_count": null,
      "outputs": [
        {
          "output_type": "display_data",
          "data": {
            "text/plain": [
              "<Figure size 432x288 with 2 Axes>"
            ],
            "image/png": "[encoded data removed]"
          },
          "metadata": {
            "needs_background": "light"
          }
        },
        {
          "output_type": "stream",
          "name": "stdout",
          "text": [
            "Sepal Length Accuracy -  0.78\n"
          ]
        }
      ]
    },
    {
      "cell_type": "code",
      "source": [
        "#Confusion Matrix Sepal Width\n",
        "confusion_matrix_den2 = metrics.confusion_matrix(new_test[\"label\"], new_test[\"den_ensemble2\"])\n",
        "confusion_matrix_den2"
      ],
      "metadata": {
        "colab": {
          "base_uri": "https://localhost:8080/"
        },
        "id": "YujvpfaVRv61",
        "outputId": "ca4984f5-752f-4ef2-c9e3-036c8e258df9"
      },
      "execution_count": null,
      "outputs": [
        {
          "output_type": "execute_result",
          "data": {
            "text/plain": [
              "array([[21,  7],\n",
              "       [ 3, 19]])"
            ]
          },
          "metadata": {},
          "execution_count": 154
        }
      ]
    },
    {
      "cell_type": "code",
      "source": [
        "import seaborn as sns\n",
        "\n",
        "f2 = sns.heatmap(confusion_matrix_den2, annot=True, cmap='PuBuGn')\n",
        "\n",
        "f2.set_title('Sepal Width den_Ensamble2 - Confusion Matrix\\n\\n');\n",
        "f2.set_xlabel('\\nPredicted Values')\n",
        "f2.set_ylabel('Actual Values ');\n",
        "\n",
        "## Ticket labels - List must be in alphabetical order\n",
        "f2.xaxis.set_ticklabels(['False','True'])\n",
        "f2.yaxis.set_ticklabels(['False','True'])\n",
        "\n",
        "## Display the visualization of the Confusion Matrix.\n",
        "plt.show()\n",
        "#Accuracy for Sepal Length\n",
        "den_ens_2 = metrics.accuracy_score(new_test[\"label\"], new_test[\"den_ensemble2\"])\n",
        "print(\"Sepal Width Accuracy - \",den_ens_2)"
      ],
      "metadata": {
        "colab": {
          "base_uri": "https://localhost:8080/",
          "height": 355
        },
        "id": "3DeL10SpR0cV",
        "outputId": "18605286-bd26-4f9e-b5d8-28fa89ff2306"
      },
      "execution_count": null,
      "outputs": [
        {
          "output_type": "display_data",
          "data": {
            "text/plain": [
              "<Figure size 432x288 with 2 Axes>"
            ],
            "image/png": "[encoded data removed]"
          },
          "metadata": {
            "needs_background": "light"
          }
        },
        {
          "output_type": "stream",
          "name": "stdout",
          "text": [
            "Sepal Width Accuracy -  0.8\n"
          ]
        }
      ]
    },
    {
      "cell_type": "code",
      "source": [
        "#Confusion Matrix Petal Length\n",
        "confusion_matrix_den3 = metrics.confusion_matrix(new_test[\"label\"], new_test[\"den_ensemble3\"])\n",
        "confusion_matrix_den3"
      ],
      "metadata": {
        "colab": {
          "base_uri": "https://localhost:8080/"
        },
        "id": "Na0bFoGzR5Yv",
        "outputId": "ed81f69e-0be0-4f4b-e50f-682296c7d967"
      },
      "execution_count": null,
      "outputs": [
        {
          "output_type": "execute_result",
          "data": {
            "text/plain": [
              "array([[27,  1],\n",
              "       [ 1, 21]])"
            ]
          },
          "metadata": {},
          "execution_count": 156
        }
      ]
    },
    {
      "cell_type": "code",
      "source": [
        "f3 = sns.heatmap(confusion_matrix_den3, annot=True, cmap='PuBuGn')\n",
        "\n",
        "f3.set_title('Petal Length den_Ensamble3 - Confusion Matrix\\n\\n');\n",
        "f3.set_xlabel('\\nPredicted Values')\n",
        "f3.set_ylabel('Actual Values ');\n",
        "\n",
        "## Ticket labels - List must be in alphabetical order\n",
        "f3.xaxis.set_ticklabels(['False','True'])\n",
        "f3.yaxis.set_ticklabels(['False','True'])\n",
        "\n",
        "## Display the visualization of the Confusion Matrix.\n",
        "plt.show()\n",
        "#Accuracy for Sepal Length\n",
        "den_ens_3 = metrics.accuracy_score(new_test[\"label\"], new_test[\"den_ensemble3\"])\n",
        "print(\"Petal Length Accuracy - \",den_ens_3)"
      ],
      "metadata": {
        "colab": {
          "base_uri": "https://localhost:8080/",
          "height": 355
        },
        "id": "_ZXcLSDTR8I5",
        "outputId": "3b44e2d3-7504-4387-ac9f-ec9371deef81"
      },
      "execution_count": null,
      "outputs": [
        {
          "output_type": "display_data",
          "data": {
            "text/plain": [
              "<Figure size 432x288 with 2 Axes>"
            ],
            "image/png": "[encoded data removed]"
          },
          "metadata": {
            "needs_background": "light"
          }
        },
        {
          "output_type": "stream",
          "name": "stdout",
          "text": [
            "Petal Length Accuracy -  0.96\n"
          ]
        }
      ]
    },
    {
      "cell_type": "code",
      "source": [
        "#Confusion Matrix Petal Width\n",
        "confusion_matrix_den4 = metrics.confusion_matrix(new_test[\"label\"], new_test[\"den_ensemble4\"])\n",
        "confusion_matrix_den4"
      ],
      "metadata": {
        "colab": {
          "base_uri": "https://localhost:8080/"
        },
        "id": "jAQFT_kSR_NK",
        "outputId": "fe6de3d3-d64e-44af-b0ca-8d71c23aa43a"
      },
      "execution_count": null,
      "outputs": [
        {
          "output_type": "execute_result",
          "data": {
            "text/plain": [
              "array([[27,  1],\n",
              "       [ 2, 20]])"
            ]
          },
          "metadata": {},
          "execution_count": 158
        }
      ]
    },
    {
      "cell_type": "code",
      "source": [
        "f4 = sns.heatmap(confusion_matrix_den4, annot=True, cmap='PuBuGn')\n",
        "\n",
        "f4.set_title('Petal Width den_Ensamble4 - Confusion Matrix\\n\\n');\n",
        "f4.set_xlabel('\\nPredicted Values')\n",
        "f4.set_ylabel('Actual Values ');\n",
        "\n",
        "## Ticket labels - List must be in alphabetical order\n",
        "f4.xaxis.set_ticklabels(['False','True'])\n",
        "f4.yaxis.set_ticklabels(['False','True'])\n",
        "\n",
        "## Display the visualization of the Confusion Matrix.\n",
        "plt.show()\n",
        "#Accuracy for Sepal Length\n",
        "den_ens_4 = metrics.accuracy_score(new_test[\"label\"], new_test[\"den_ensemble4\"])\n",
        "print(\"Petal Length Accuracy - \",den_ens_4)"
      ],
      "metadata": {
        "colab": {
          "base_uri": "https://localhost:8080/",
          "height": 355
        },
        "id": "5R6RmeyNSB76",
        "outputId": "fe69446f-6e0f-49ba-ed20-0a5d48db78d9"
      },
      "execution_count": null,
      "outputs": [
        {
          "output_type": "display_data",
          "data": {
            "text/plain": [
              "<Figure size 432x288 with 2 Axes>"
            ],
            "image/png": "[encoded data removed]"
          },
          "metadata": {
            "needs_background": "light"
          }
        },
        {
          "output_type": "stream",
          "name": "stdout",
          "text": [
            "Petal Length Accuracy -  0.94\n"
          ]
        }
      ]
    },
    {
      "cell_type": "markdown",
      "source": [
        "### 2. Discuss your findings and rank your ensembles learners by accuracy (from most accurate to least accurate\n",
        "\n",
        "##### Ranking of Weak Learners (Most accurate to least accurate)\n",
        "- Rank 1 : (1),(3),(4)\n",
        "- Rank 2 : (2),(3),(4)\n",
        "- Rank 3 : (1),(2),(3)\n",
        "- Rank 4 : (1),(2),(4)\n",
        "\n",
        "The density based ensemble classifiers have very high accuracy for features (1),(3),(4) and (2),(3),(4) that is 0.88\n"
      ],
      "metadata": {
        "id": "IissuqSsSGdK"
      }
    },
    {
      "cell_type": "markdown",
      "source": [
        "## 3. Compare ”weak learners” and ensemble results.\n",
        "ANSWER- On an overall basis the density based ensemble classifiers have a higher accuracy than the single feature weak lerners but on a comparitively same scale as the weak learners ensemble classifiers."
      ],
      "metadata": {
        "id": "4EX-XbNaSoLw"
      }
    },
    {
      "cell_type": "markdown",
      "source": [
        "#Q6. Give a quick summary on comparing classifiers in Method I and Method II"
      ],
      "metadata": {
        "id": "wXl-6-U8SyKe"
      }
    },
    {
      "cell_type": "markdown",
      "source": [
        "## ANSWER- \n",
        "Weak Learners classifiers (Method 1 & 2) : Weak learner classifiers or questions there is not much variation in both the values as they are pretty similar to one another and the precdion accuracies are similar.\n",
        "\n",
        "Ensemble classifiers (Method 1 & 2) :Ensemble classifiers for the 3rd and the 5th question the density based model has slightly better results than the weak learners although there are no significant differences in both the models."
      ],
      "metadata": {
        "id": "8mUEOwC4Sz3B"
      }
    }
  ]
}