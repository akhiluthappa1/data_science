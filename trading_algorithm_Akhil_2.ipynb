{
  "cells": [
    {
      "cell_type": "markdown",
      "metadata": {
        "id": "view-in-github",
        "colab_type": "text"
      },
      "source": [
        "<a href=\"https://colab.research.google.com/github/akhiluthappa1/data_science/blob/main/trading_algorithm_Akhil_2.ipynb\" target=\"_parent\"><img src=\"https://colab.research.google.com/assets/colab-badge.svg\" alt=\"Open In Colab\"/></a>"
      ]
    },
    {
      "cell_type": "markdown",
      "metadata": {
        "id": "6MXQEXPN9fq8"
      },
      "source": [
        "## Trading Algorithmn Akhil"
      ]
    },
    {
      "cell_type": "code",
      "execution_count": null,
      "metadata": {
        "id": "avTQ1p8d9fq9"
      },
      "outputs": [],
      "source": [
        "import pandas as pd"
      ]
    },
    {
      "cell_type": "code",
      "execution_count": null,
      "metadata": {
        "id": "Lu2bBIMz9fq-"
      },
      "outputs": [],
      "source": [
        "cash_total = 100\n",
        "stocks = 0\n",
        "week_counter = 1\n",
        "first_purchase_flag = False\n",
        "flag = False #False when cashed out; true when invested in the stock\n",
        "\n",
        "df_labels = pd.read_csv(\"/content/AAPL_weekly_return_volatility (1) - AAPL_weekly_return_volatility (1).csv\",sep=\",\") #labels\n",
        "df_prices = pd.read_csv(\"/content/AAPL_weekly_return_detailed (1).csv\",sep=\",\") #prices"
      ]
    },
    {
      "cell_type": "code",
      "execution_count": null,
      "metadata": {
        "id": "vhxWXZfd9fq-",
        "outputId": "2105ec42-9fc3-4ae2-8b5c-f871e9f094aa",
        "colab": {
          "base_uri": "https://localhost:8080/"
        }
      },
      "outputs": [
        {
          "output_type": "stream",
          "name": "stdout",
          "text": [
            "1 Red False 0 100\n",
            "1 Red False 0 100\n",
            "1 Green False 0 100\n",
            "1 Red False 0 100\n",
            "1 Green False 0 100\n",
            "1 Red False 0 100\n",
            "1 Red False 0 100\n",
            "1 Red False 0 100\n",
            "1 Green False 0 100\n",
            "1 Red False 0 100\n",
            "1 Red False 0 100\n",
            "1 Red False 0 100\n",
            "1 Red False 0 100\n",
            "1 Green False 0 100\n",
            "1 Red False 0 100\n",
            "1 Red False 0 100\n",
            "1 Red False 0 100\n",
            "1 Red False 0 100\n",
            "1 Red False 0 100\n",
            "1 Red False 0 100\n",
            "1 Red False 0 100\n",
            "1 Red False 0 100\n",
            "1 Red False 0 100\n",
            "1 Green False 0 100\n",
            "1 Green False 0 100\n",
            "1 Green False 0 100\n",
            "1 Green False 0 100\n",
            "1 Red False 0 100\n",
            "1 Green False 0 100\n",
            "1 Red False 0 100\n",
            "1 Red False 0 100\n",
            "1 Green False 0 100\n",
            "1 Red False 0 100\n",
            "1 Green False 0 100\n",
            "1 Red False 0 100\n",
            "1 Red False 0 100\n",
            "1 Red False 0 100\n",
            "1 Green False 0 100\n",
            "1 Red False 0 100\n",
            "1 Green False 0 100\n",
            "1 Green False 0 100\n",
            "1 Green False 0 100\n",
            "1 Green False 0 100\n",
            "1 Green False 0 100\n",
            "1 Red False 0 100\n",
            "1 Green False 0 100\n",
            "1 Red False 0 100\n",
            "1 Green False 0 100\n",
            "1 Green False 0 100\n",
            "1 Red False 0 100\n",
            "1 Green False 0 100\n",
            "1 Green False 0 100\n",
            "0 100\n"
          ]
        }
      ],
      "source": [
        "def buy_stocks (cash,purchse_value):\n",
        "    stock_bought = round(cash/purchse_value, 2)\n",
        "    return stock_bought\n",
        "def buy_out (stocks, buy_out_value):\n",
        "    amount = stocks * buy_out_value\n",
        "    amount = round (amount, 2)\n",
        "    return amount\n",
        "\n",
        "for index, row in df_labels.iterrows():\n",
        "    if row[\"Year\"] == 2020:\n",
        "        continue\n",
        "    label = row[\"labels\"]\n",
        "    df_week = df_prices[(df_prices[\"Year\"] == 2021)&(df_prices[\"Week_Number\"]==week_counter)]\n",
        "    \n",
        "    if first_purchase_flag == False:\n",
        "        if label == \"undefined\":\n",
        "            week_counter += 1\n",
        "        elif label == \"red\":\n",
        "            week_counter += 1\n",
        "        elif label == \"green\":\n",
        "            buying_price = df_week.iloc[0][\"Open\"]\n",
        "            stocks = buy_stocks(cash_total, buying_price)\n",
        "            cash_total = 0\n",
        "            first_purchase_flag = True\n",
        "            flag = True\n",
        "            week_counter += 1\n",
        "    else:\n",
        "        if label == \"red\":\n",
        "            if flag == True:\n",
        "                previous_week = week_counter - 1\n",
        "                df_week = df_prices[(df_prices[\"Year\"] == 2021) & (df_prices[\"Week_Number\"] == previous_week)]\n",
        "                selling_price = df_week.iloc[-1][\"Adj Close\"]\n",
        "                new_cash_amount = buy_out(stocks, selling_price)\n",
        "                cash_total = new_cash_amount\n",
        "                stocks = 0\n",
        "                week_counter += 1\n",
        "                flag = False\n",
        "            elif flag == False:\n",
        "                week_counter += 1\n",
        "        if label == \"green\":\n",
        "            if flag == True:\n",
        "                week_counter += 1\n",
        "            elif flag == False:\n",
        "                buying_price = df_week.iloc[0][\"Open\"]\n",
        "                stocks = buy_stocks(cash_total, buying_price)\n",
        "                cash_total = 0\n",
        "                week_counter += 1\n",
        "                flag = True\n",
        "    print(week_counter, label, flag, stocks, cash_total)\n",
        "if stocks!=0:\n",
        "    df_week = df_prices[(df_prices[\"Year\"] == 2021)&(df_prices[\"Week_Number\"]==(week_counter-1))]\n",
        "    selling_price = df_week.iloc[-1][\"Adj Close\"]\n",
        "    new_cash_amount = buy_out(stocks, selling_price)\n",
        "    cash_total = new_cash_amount\n",
        "    stocks = 0\n",
        "print(stocks, cash_total)"
      ]
    },
    {
      "cell_type": "markdown",
      "metadata": {
        "id": "El_7K82s9fq_"
      },
      "source": [
        "### Buy and hold strategy"
      ]
    },
    {
      "cell_type": "code",
      "execution_count": null,
      "metadata": {
        "id": "sBhfBXEN9fq_",
        "outputId": "7f2ace2e-588b-4c4c-f258-3a65be481ac3",
        "colab": {
          "base_uri": "https://localhost:8080/"
        }
      },
      "outputs": [
        {
          "output_type": "stream",
          "name": "stdout",
          "text": [
            "133.1\n"
          ]
        }
      ],
      "source": [
        "initial_cash = 100\n",
        "stocks_holding = 0\n",
        "\n",
        "def buy_stocks (cash,purchse_value):\n",
        "    stock_bought = round(cash/purchse_value, 2)\n",
        "    return stock_bought\n",
        "\n",
        "def buy_out (stocks, buy_out_value):\n",
        "    amount = stocks * buy_out_value\n",
        "    amount = round (amount, 2)\n",
        "    return amount\n",
        "\n",
        "df_prices = pd.read_csv(\"/content/AAPL_weekly_return_detailed (1).csv\",sep=\",\") #prices\n",
        "\n",
        "first_week = df_prices[(df_prices[\"Year\"] == 2021)&(df_prices[\"Week_Number\"] == 1)]\n",
        "\n",
        "buying_price = df_week.iloc[0][\"Open\"]\n",
        "\n",
        "stocks_holding = buy_stocks(initial_cash, buying_price)\n",
        "initial_cash = 0\n",
        "\n",
        "last_week = df_prices[(df_prices[\"Year\"] == 2021)&(df_prices[\"Week_Number\"] == 52)]\n",
        "\n",
        "selling_price = last_week.iloc[-1][\"Adj Close\"]\n",
        "final_cash = buy_out(stocks_holding, selling_price)\n",
        "\n",
        "print(final_cash)"
      ]
    },
    {
      "cell_type": "code",
      "execution_count": null,
      "metadata": {
        "id": "iFfrbXoP9fq_"
      },
      "outputs": [],
      "source": []
    }
  ],
  "metadata": {
    "kernelspec": {
      "display_name": "Python 3 (ipykernel)",
      "language": "python",
      "name": "python3"
    },
    "language_info": {
      "codemirror_mode": {
        "name": "ipython",
        "version": 2
      },
      "file_extension": ".py",
      "mimetype": "text/x-python",
      "name": "python",
      "nbconvert_exporter": "python",
      "pygments_lexer": "ipython2",
      "version": "2.7.16"
    },
    "colab": {
      "provenance": [],
      "include_colab_link": true
    }
  },
  "nbformat": 4,
  "nbformat_minor": 0
}