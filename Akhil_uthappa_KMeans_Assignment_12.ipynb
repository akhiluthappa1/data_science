{
  "cells": [
    {
      "cell_type": "markdown",
      "metadata": {
        "id": "view-in-github",
        "colab_type": "text"
      },
      "source": [
        "<a href=\"https://colab.research.google.com/github/akhiluthappa1/data_science/blob/main/Akhil_uthappa_KMeans_Assignment_12.ipynb\" target=\"_parent\"><img src=\"https://colab.research.google.com/assets/colab-badge.svg\" alt=\"Open In Colab\"/></a>"
      ]
    },
    {
      "cell_type": "code",
      "execution_count": 1,
      "metadata": {
        "id": "2fdd13c7"
      },
      "outputs": [],
      "source": [
        "import pandas as pd\n",
        "import numpy as np"
      ],
      "id": "2fdd13c7"
    },
    {
      "cell_type": "code",
      "execution_count": 2,
      "metadata": {
        "id": "3eaeabd7"
      },
      "outputs": [],
      "source": [
        "import seaborn as sns\n",
        "from sklearn.linear_model import LogisticRegression\n",
        "from sklearn.model_selection import train_test_split\n",
        "from sklearn.metrics import confusion_matrix, accuracy_score\n",
        "from sklearn import metrics\n"
      ],
      "id": "3eaeabd7"
    },
    {
      "cell_type": "code",
      "execution_count": 3,
      "metadata": {
        "id": "3952b8ce"
      },
      "outputs": [],
      "source": [
        "from sklearn import preprocessing\n",
        "min_max_scaler = preprocessing.MinMaxScaler()\n",
        "from sklearn.neighbors import KNeighborsClassifier"
      ],
      "id": "3952b8ce"
    },
    {
      "cell_type": "code",
      "execution_count": 12,
      "metadata": {
        "id": "10523c7b"
      },
      "outputs": [],
      "source": [
        "df=pd.read_csv('/content/AAPL_weekly_return_volatility (1) - AAPL_weekly_return_volatility (1).csv')\n",
        "s=df[df['Year']>2019]\n",
        "df_1=pd.read_csv('/content/AAPL_weekly_return_detailed (1).csv')\n",
        "df_1=df_1[df_1['Year']>2019]"
      ],
      "id": "10523c7b"
    },
    {
      "cell_type": "code",
      "execution_count": 13,
      "metadata": {
        "colab": {
          "base_uri": "https://localhost:8080/",
          "height": 424
        },
        "id": "e5c49d63",
        "outputId": "2f9627d1-6d19-4f08-dad3-cb1b4c70ac02"
      },
      "outputs": [
        {
          "output_type": "execute_result",
          "data": {
            "text/plain": [
              "     Year  Week_Number  mean_return  volatility labels        Open   Adj Close\n",
              "0    2020            0     -0.48600    0.687308    Red   74.059998   72.967216\n",
              "1    2020            1      0.85720    1.040851  Green   73.447502   76.131905\n",
              "2    2020            2      0.54340    1.404286  Green   77.910004   78.192635\n",
              "3    2020            3     -0.03175    0.547226    Red   79.297501   78.089607\n",
              "4    2020            4     -0.51960    3.137070    Red   77.514999   75.930748\n",
              "..    ...          ...          ...         ...    ...         ...         ...\n",
              "100  2021           48      0.64780    1.904606  Green  159.369995  161.173050\n",
              "101  2021           49      2.09540    1.445607  Green  164.289993  178.710495\n",
              "102  2021           50     -0.91880    2.482887    Red  181.119995  170.434723\n",
              "103  2021           51      0.74825    1.230668  Green  168.279999  175.553543\n",
              "104  2021           52      0.27800    1.382687  Green  177.089996  177.465637\n",
              "\n",
              "[105 rows x 7 columns]"
            ],
            "text/html": [
              "\n",
              "  <div id=\"df-e7a18877-700b-4723-996f-2caeff6b41b0\">\n",
              "    <div class=\"colab-df-container\">\n",
              "      <div>\n",
              "<style scoped>\n",
              "    .dataframe tbody tr th:only-of-type {\n",
              "        vertical-align: middle;\n",
              "    }\n",
              "\n",
              "    .dataframe tbody tr th {\n",
              "        vertical-align: top;\n",
              "    }\n",
              "\n",
              "    .dataframe thead th {\n",
              "        text-align: right;\n",
              "    }\n",
              "</style>\n",
              "<table border=\"1\" class=\"dataframe\">\n",
              "  <thead>\n",
              "    <tr style=\"text-align: right;\">\n",
              "      <th></th>\n",
              "      <th>Year</th>\n",
              "      <th>Week_Number</th>\n",
              "      <th>mean_return</th>\n",
              "      <th>volatility</th>\n",
              "      <th>labels</th>\n",
              "      <th>Open</th>\n",
              "      <th>Adj Close</th>\n",
              "    </tr>\n",
              "  </thead>\n",
              "  <tbody>\n",
              "    <tr>\n",
              "      <th>0</th>\n",
              "      <td>2020</td>\n",
              "      <td>0</td>\n",
              "      <td>-0.48600</td>\n",
              "      <td>0.687308</td>\n",
              "      <td>Red</td>\n",
              "      <td>74.059998</td>\n",
              "      <td>72.967216</td>\n",
              "    </tr>\n",
              "    <tr>\n",
              "      <th>1</th>\n",
              "      <td>2020</td>\n",
              "      <td>1</td>\n",
              "      <td>0.85720</td>\n",
              "      <td>1.040851</td>\n",
              "      <td>Green</td>\n",
              "      <td>73.447502</td>\n",
              "      <td>76.131905</td>\n",
              "    </tr>\n",
              "    <tr>\n",
              "      <th>2</th>\n",
              "      <td>2020</td>\n",
              "      <td>2</td>\n",
              "      <td>0.54340</td>\n",
              "      <td>1.404286</td>\n",
              "      <td>Green</td>\n",
              "      <td>77.910004</td>\n",
              "      <td>78.192635</td>\n",
              "    </tr>\n",
              "    <tr>\n",
              "      <th>3</th>\n",
              "      <td>2020</td>\n",
              "      <td>3</td>\n",
              "      <td>-0.03175</td>\n",
              "      <td>0.547226</td>\n",
              "      <td>Red</td>\n",
              "      <td>79.297501</td>\n",
              "      <td>78.089607</td>\n",
              "    </tr>\n",
              "    <tr>\n",
              "      <th>4</th>\n",
              "      <td>2020</td>\n",
              "      <td>4</td>\n",
              "      <td>-0.51960</td>\n",
              "      <td>3.137070</td>\n",
              "      <td>Red</td>\n",
              "      <td>77.514999</td>\n",
              "      <td>75.930748</td>\n",
              "    </tr>\n",
              "    <tr>\n",
              "      <th>...</th>\n",
              "      <td>...</td>\n",
              "      <td>...</td>\n",
              "      <td>...</td>\n",
              "      <td>...</td>\n",
              "      <td>...</td>\n",
              "      <td>...</td>\n",
              "      <td>...</td>\n",
              "    </tr>\n",
              "    <tr>\n",
              "      <th>100</th>\n",
              "      <td>2021</td>\n",
              "      <td>48</td>\n",
              "      <td>0.64780</td>\n",
              "      <td>1.904606</td>\n",
              "      <td>Green</td>\n",
              "      <td>159.369995</td>\n",
              "      <td>161.173050</td>\n",
              "    </tr>\n",
              "    <tr>\n",
              "      <th>101</th>\n",
              "      <td>2021</td>\n",
              "      <td>49</td>\n",
              "      <td>2.09540</td>\n",
              "      <td>1.445607</td>\n",
              "      <td>Green</td>\n",
              "      <td>164.289993</td>\n",
              "      <td>178.710495</td>\n",
              "    </tr>\n",
              "    <tr>\n",
              "      <th>102</th>\n",
              "      <td>2021</td>\n",
              "      <td>50</td>\n",
              "      <td>-0.91880</td>\n",
              "      <td>2.482887</td>\n",
              "      <td>Red</td>\n",
              "      <td>181.119995</td>\n",
              "      <td>170.434723</td>\n",
              "    </tr>\n",
              "    <tr>\n",
              "      <th>103</th>\n",
              "      <td>2021</td>\n",
              "      <td>51</td>\n",
              "      <td>0.74825</td>\n",
              "      <td>1.230668</td>\n",
              "      <td>Green</td>\n",
              "      <td>168.279999</td>\n",
              "      <td>175.553543</td>\n",
              "    </tr>\n",
              "    <tr>\n",
              "      <th>104</th>\n",
              "      <td>2021</td>\n",
              "      <td>52</td>\n",
              "      <td>0.27800</td>\n",
              "      <td>1.382687</td>\n",
              "      <td>Green</td>\n",
              "      <td>177.089996</td>\n",
              "      <td>177.465637</td>\n",
              "    </tr>\n",
              "  </tbody>\n",
              "</table>\n",
              "<p>105 rows × 7 columns</p>\n",
              "</div>\n",
              "      <button class=\"colab-df-convert\" onclick=\"convertToInteractive('df-e7a18877-700b-4723-996f-2caeff6b41b0')\"\n",
              "              title=\"Convert this dataframe to an interactive table.\"\n",
              "              style=\"display:none;\">\n",
              "        \n",
              "  <svg xmlns=\"http://www.w3.org/2000/svg\" height=\"24px\"viewBox=\"0 0 24 24\"\n",
              "       width=\"24px\">\n",
              "    <path d=\"M0 0h24v24H0V0z\" fill=\"none\"/>\n",
              "    <path d=\"M18.56 5.44l.94 2.06.94-2.06 2.06-.94-2.06-.94-.94-2.06-.94 2.06-2.06.94zm-11 1L8.5 8.5l.94-2.06 2.06-.94-2.06-.94L8.5 2.5l-.94 2.06-2.06.94zm10 10l.94 2.06.94-2.06 2.06-.94-2.06-.94-.94-2.06-.94 2.06-2.06.94z\"/><path d=\"M17.41 7.96l-1.37-1.37c-.4-.4-.92-.59-1.43-.59-.52 0-1.04.2-1.43.59L10.3 9.45l-7.72 7.72c-.78.78-.78 2.05 0 2.83L4 21.41c.39.39.9.59 1.41.59.51 0 1.02-.2 1.41-.59l7.78-7.78 2.81-2.81c.8-.78.8-2.07 0-2.86zM5.41 20L4 18.59l7.72-7.72 1.47 1.35L5.41 20z\"/>\n",
              "  </svg>\n",
              "      </button>\n",
              "      \n",
              "  <style>\n",
              "    .colab-df-container {\n",
              "      display:flex;\n",
              "      flex-wrap:wrap;\n",
              "      gap: 12px;\n",
              "    }\n",
              "\n",
              "    .colab-df-convert {\n",
              "      background-color: #E8F0FE;\n",
              "      border: none;\n",
              "      border-radius: 50%;\n",
              "      cursor: pointer;\n",
              "      display: none;\n",
              "      fill: #1967D2;\n",
              "      height: 32px;\n",
              "      padding: 0 0 0 0;\n",
              "      width: 32px;\n",
              "    }\n",
              "\n",
              "    .colab-df-convert:hover {\n",
              "      background-color: #E2EBFA;\n",
              "      box-shadow: 0px 1px 2px rgba(60, 64, 67, 0.3), 0px 1px 3px 1px rgba(60, 64, 67, 0.15);\n",
              "      fill: #174EA6;\n",
              "    }\n",
              "\n",
              "    [theme=dark] .colab-df-convert {\n",
              "      background-color: #3B4455;\n",
              "      fill: #D2E3FC;\n",
              "    }\n",
              "\n",
              "    [theme=dark] .colab-df-convert:hover {\n",
              "      background-color: #434B5C;\n",
              "      box-shadow: 0px 1px 3px 1px rgba(0, 0, 0, 0.15);\n",
              "      filter: drop-shadow(0px 1px 2px rgba(0, 0, 0, 0.3));\n",
              "      fill: #FFFFFF;\n",
              "    }\n",
              "  </style>\n",
              "\n",
              "      <script>\n",
              "        const buttonEl =\n",
              "          document.querySelector('#df-e7a18877-700b-4723-996f-2caeff6b41b0 button.colab-df-convert');\n",
              "        buttonEl.style.display =\n",
              "          google.colab.kernel.accessAllowed ? 'block' : 'none';\n",
              "\n",
              "        async function convertToInteractive(key) {\n",
              "          const element = document.querySelector('#df-e7a18877-700b-4723-996f-2caeff6b41b0');\n",
              "          const dataTable =\n",
              "            await google.colab.kernel.invokeFunction('convertToInteractive',\n",
              "                                                     [key], {});\n",
              "          if (!dataTable) return;\n",
              "\n",
              "          const docLinkHtml = 'Like what you see? Visit the ' +\n",
              "            '<a target=\"_blank\" href=https://colab.research.google.com/notebooks/data_table.ipynb>data table notebook</a>'\n",
              "            + ' to learn more about interactive tables.';\n",
              "          element.innerHTML = '';\n",
              "          dataTable['output_type'] = 'display_data';\n",
              "          await google.colab.output.renderOutput(dataTable, element);\n",
              "          const docLink = document.createElement('div');\n",
              "          docLink.innerHTML = docLinkHtml;\n",
              "          element.appendChild(docLink);\n",
              "        }\n",
              "      </script>\n",
              "    </div>\n",
              "  </div>\n",
              "  "
            ]
          },
          "metadata": {},
          "execution_count": 13
        }
      ],
      "source": [
        "dfmerged=df_1.groupby(['Year','Week_Number']).agg({'Open':'first','Adj Close':'last'})\n",
        "df2=s.merge(dfmerged,on=['Year','Week_Number'],how='inner')\n",
        "df2"
      ],
      "id": "e5c49d63"
    },
    {
      "cell_type": "code",
      "execution_count": 14,
      "metadata": {
        "colab": {
          "base_uri": "https://localhost:8080/",
          "height": 300
        },
        "id": "4fb1cab0",
        "outputId": "f35668f2-757e-466b-ea6d-27372be36423"
      },
      "outputs": [
        {
          "output_type": "execute_result",
          "data": {
            "text/plain": [
              "       mean_return  volatility\n",
              "count   105.000000  105.000000\n",
              "mean      0.199188    1.977859\n",
              "std       0.939050    1.384040\n",
              "min      -3.606200    0.358251\n",
              "25%      -0.311000    1.209716\n",
              "50%       0.158200    1.528752\n",
              "75%       0.724200    2.382896\n",
              "max       2.864600    9.574478"
            ],
            "text/html": [
              "\n",
              "  <div id=\"df-69fc2641-4673-4335-8935-7acd6428ce14\">\n",
              "    <div class=\"colab-df-container\">\n",
              "      <div>\n",
              "<style scoped>\n",
              "    .dataframe tbody tr th:only-of-type {\n",
              "        vertical-align: middle;\n",
              "    }\n",
              "\n",
              "    .dataframe tbody tr th {\n",
              "        vertical-align: top;\n",
              "    }\n",
              "\n",
              "    .dataframe thead th {\n",
              "        text-align: right;\n",
              "    }\n",
              "</style>\n",
              "<table border=\"1\" class=\"dataframe\">\n",
              "  <thead>\n",
              "    <tr style=\"text-align: right;\">\n",
              "      <th></th>\n",
              "      <th>mean_return</th>\n",
              "      <th>volatility</th>\n",
              "    </tr>\n",
              "  </thead>\n",
              "  <tbody>\n",
              "    <tr>\n",
              "      <th>count</th>\n",
              "      <td>105.000000</td>\n",
              "      <td>105.000000</td>\n",
              "    </tr>\n",
              "    <tr>\n",
              "      <th>mean</th>\n",
              "      <td>0.199188</td>\n",
              "      <td>1.977859</td>\n",
              "    </tr>\n",
              "    <tr>\n",
              "      <th>std</th>\n",
              "      <td>0.939050</td>\n",
              "      <td>1.384040</td>\n",
              "    </tr>\n",
              "    <tr>\n",
              "      <th>min</th>\n",
              "      <td>-3.606200</td>\n",
              "      <td>0.358251</td>\n",
              "    </tr>\n",
              "    <tr>\n",
              "      <th>25%</th>\n",
              "      <td>-0.311000</td>\n",
              "      <td>1.209716</td>\n",
              "    </tr>\n",
              "    <tr>\n",
              "      <th>50%</th>\n",
              "      <td>0.158200</td>\n",
              "      <td>1.528752</td>\n",
              "    </tr>\n",
              "    <tr>\n",
              "      <th>75%</th>\n",
              "      <td>0.724200</td>\n",
              "      <td>2.382896</td>\n",
              "    </tr>\n",
              "    <tr>\n",
              "      <th>max</th>\n",
              "      <td>2.864600</td>\n",
              "      <td>9.574478</td>\n",
              "    </tr>\n",
              "  </tbody>\n",
              "</table>\n",
              "</div>\n",
              "      <button class=\"colab-df-convert\" onclick=\"convertToInteractive('df-69fc2641-4673-4335-8935-7acd6428ce14')\"\n",
              "              title=\"Convert this dataframe to an interactive table.\"\n",
              "              style=\"display:none;\">\n",
              "        \n",
              "  <svg xmlns=\"http://www.w3.org/2000/svg\" height=\"24px\"viewBox=\"0 0 24 24\"\n",
              "       width=\"24px\">\n",
              "    <path d=\"M0 0h24v24H0V0z\" fill=\"none\"/>\n",
              "    <path d=\"M18.56 5.44l.94 2.06.94-2.06 2.06-.94-2.06-.94-.94-2.06-.94 2.06-2.06.94zm-11 1L8.5 8.5l.94-2.06 2.06-.94-2.06-.94L8.5 2.5l-.94 2.06-2.06.94zm10 10l.94 2.06.94-2.06 2.06-.94-2.06-.94-.94-2.06-.94 2.06-2.06.94z\"/><path d=\"M17.41 7.96l-1.37-1.37c-.4-.4-.92-.59-1.43-.59-.52 0-1.04.2-1.43.59L10.3 9.45l-7.72 7.72c-.78.78-.78 2.05 0 2.83L4 21.41c.39.39.9.59 1.41.59.51 0 1.02-.2 1.41-.59l7.78-7.78 2.81-2.81c.8-.78.8-2.07 0-2.86zM5.41 20L4 18.59l7.72-7.72 1.47 1.35L5.41 20z\"/>\n",
              "  </svg>\n",
              "      </button>\n",
              "      \n",
              "  <style>\n",
              "    .colab-df-container {\n",
              "      display:flex;\n",
              "      flex-wrap:wrap;\n",
              "      gap: 12px;\n",
              "    }\n",
              "\n",
              "    .colab-df-convert {\n",
              "      background-color: #E8F0FE;\n",
              "      border: none;\n",
              "      border-radius: 50%;\n",
              "      cursor: pointer;\n",
              "      display: none;\n",
              "      fill: #1967D2;\n",
              "      height: 32px;\n",
              "      padding: 0 0 0 0;\n",
              "      width: 32px;\n",
              "    }\n",
              "\n",
              "    .colab-df-convert:hover {\n",
              "      background-color: #E2EBFA;\n",
              "      box-shadow: 0px 1px 2px rgba(60, 64, 67, 0.3), 0px 1px 3px 1px rgba(60, 64, 67, 0.15);\n",
              "      fill: #174EA6;\n",
              "    }\n",
              "\n",
              "    [theme=dark] .colab-df-convert {\n",
              "      background-color: #3B4455;\n",
              "      fill: #D2E3FC;\n",
              "    }\n",
              "\n",
              "    [theme=dark] .colab-df-convert:hover {\n",
              "      background-color: #434B5C;\n",
              "      box-shadow: 0px 1px 3px 1px rgba(0, 0, 0, 0.15);\n",
              "      filter: drop-shadow(0px 1px 2px rgba(0, 0, 0, 0.3));\n",
              "      fill: #FFFFFF;\n",
              "    }\n",
              "  </style>\n",
              "\n",
              "      <script>\n",
              "        const buttonEl =\n",
              "          document.querySelector('#df-69fc2641-4673-4335-8935-7acd6428ce14 button.colab-df-convert');\n",
              "        buttonEl.style.display =\n",
              "          google.colab.kernel.accessAllowed ? 'block' : 'none';\n",
              "\n",
              "        async function convertToInteractive(key) {\n",
              "          const element = document.querySelector('#df-69fc2641-4673-4335-8935-7acd6428ce14');\n",
              "          const dataTable =\n",
              "            await google.colab.kernel.invokeFunction('convertToInteractive',\n",
              "                                                     [key], {});\n",
              "          if (!dataTable) return;\n",
              "\n",
              "          const docLinkHtml = 'Like what you see? Visit the ' +\n",
              "            '<a target=\"_blank\" href=https://colab.research.google.com/notebooks/data_table.ipynb>data table notebook</a>'\n",
              "            + ' to learn more about interactive tables.';\n",
              "          element.innerHTML = '';\n",
              "          dataTable['output_type'] = 'display_data';\n",
              "          await google.colab.output.renderOutput(dataTable, element);\n",
              "          const docLink = document.createElement('div');\n",
              "          docLink.innerHTML = docLinkHtml;\n",
              "          element.appendChild(docLink);\n",
              "        }\n",
              "      </script>\n",
              "    </div>\n",
              "  </div>\n",
              "  "
            ]
          },
          "metadata": {},
          "execution_count": 14
        }
      ],
      "source": [
        "df2[['mean_return','volatility']].describe()"
      ],
      "id": "4fb1cab0"
    },
    {
      "cell_type": "code",
      "execution_count": 16,
      "metadata": {
        "colab": {
          "base_uri": "https://localhost:8080/"
        },
        "id": "90f805a6",
        "outputId": "68c64d83-110b-4e5a-e2aa-36e4f05d3156"
      },
      "outputs": [
        {
          "output_type": "execute_result",
          "data": {
            "text/plain": [
              "array([1, 0])"
            ]
          },
          "metadata": {},
          "execution_count": 16
        }
      ],
      "source": [
        "from sklearn import preprocessing\n",
        "  \n",
        "label_encoder = preprocessing.LabelEncoder()\n",
        "  \n",
        "df2['labels']= label_encoder.fit_transform(df2['labels'])\n",
        "\n",
        "df2['labels'].unique()"
      ],
      "id": "90f805a6"
    },
    {
      "cell_type": "code",
      "execution_count": 17,
      "metadata": {
        "id": "eE4FjbZra2Y8"
      },
      "outputs": [],
      "source": [
        "from sklearn.cluster import KMeans\n",
        "from sklearn import metrics\n",
        "from scipy.spatial.distance import cdist\n",
        "import numpy as np\n",
        "import matplotlib.pyplot as plt"
      ],
      "id": "eE4FjbZra2Y8"
    },
    {
      "cell_type": "code",
      "execution_count": 18,
      "metadata": {
        "colab": {
          "base_uri": "https://localhost:8080/",
          "height": 404
        },
        "id": "Hkkut6dtYAMV",
        "outputId": "fa408fdd-e6aa-433f-b98c-d9dfb8dbc013"
      },
      "outputs": [
        {
          "output_type": "display_data",
          "data": {
            "text/plain": [
              "<Figure size 432x432 with 1 Axes>"
            ],
            "image/png": "[encoded data removed]"
          },
          "metadata": {
            "needs_background": "light"
          }
        }
      ],
      "source": [
        "plt.figure(figsize=(6, 6))\n",
        "plt.scatter(df2.iloc[:,2], df2.iloc[:,3])\n",
        "plt.xlabel('Mean return ')\n",
        "plt.ylabel('Volatility')\n",
        "plt.title('Visualization of raw data');"
      ],
      "id": "Hkkut6dtYAMV"
    },
    {
      "cell_type": "code",
      "execution_count": 19,
      "metadata": {
        "id": "BmMOHw6ta6Zo"
      },
      "outputs": [],
      "source": [
        "X=df2.iloc[:,2:4]\n"
      ],
      "id": "BmMOHw6ta6Zo"
    },
    {
      "cell_type": "markdown",
      "metadata": {
        "id": "Xb1qAHdTfYSF"
      },
      "source": [
        "#### Q1"
      ],
      "id": "Xb1qAHdTfYSF"
    },
    {
      "cell_type": "code",
      "execution_count": 20,
      "metadata": {
        "id": "9lKbNwInQb9Z"
      },
      "outputs": [],
      "source": [
        "K = range(1, 9)\n",
        "distortions = []\n",
        "mapping1 = {} \n",
        "for k in K:\n",
        "    # Building and fitting the model\n",
        "    kmeanModel = KMeans(n_clusters=k).fit(X)\n",
        "    kmeanModel.fit(X)\n",
        "  \n",
        "    distortions.append(sum(np.min(cdist(X, kmeanModel.cluster_centers_,\n",
        "                                        'euclidean'), axis=1)) / X.shape[0])\n",
        "\n",
        "  \n",
        "    mapping1[k] = sum(np.min(cdist(X, kmeanModel.cluster_centers_,\n",
        "                                   'euclidean'), axis=1)) / X.shape[0]\n",
        "   "
      ],
      "id": "9lKbNwInQb9Z"
    },
    {
      "cell_type": "code",
      "execution_count": 21,
      "metadata": {
        "colab": {
          "base_uri": "https://localhost:8080/"
        },
        "id": "R35aluinRVb_",
        "outputId": "b2a83076-42cf-4c52-8df1-0532014edb11"
      },
      "outputs": [
        {
          "output_type": "stream",
          "name": "stdout",
          "text": [
            "1 : 1.2615565326035558\n",
            "2 : 1.0093573809950749\n",
            "3 : 0.8703440083415113\n",
            "4 : 0.8068806306750612\n",
            "5 : 0.6845480183149993\n",
            "6 : 0.6116754240889737\n",
            "7 : 0.5570981612449375\n",
            "8 : 0.5173508299841331\n"
          ]
        }
      ],
      "source": [
        "for key, val in mapping1.items():\n",
        "    print(f'{key} : {val}')"
      ],
      "id": "R35aluinRVb_"
    },
    {
      "cell_type": "code",
      "execution_count": 22,
      "metadata": {
        "colab": {
          "base_uri": "https://localhost:8080/",
          "height": 295
        },
        "id": "FYRHUaxHR1WE",
        "outputId": "9bbbb9b3-be55-4a66-a2ec-e9700052c461"
      },
      "outputs": [
        {
          "output_type": "display_data",
          "data": {
            "text/plain": [
              "<Figure size 432x288 with 1 Axes>"
            ],
            "image/png": "[encoded data removed]"
          },
          "metadata": {
            "needs_background": "light"
          }
        }
      ],
      "source": [
        "plt.plot(K, distortions,'bx-')\n",
        "plt.xlabel('Values of K')\n",
        "plt.ylabel('Distortion')\n",
        "plt.title('The Elbow Method using Distortion')\n",
        "plt.show()"
      ],
      "id": "FYRHUaxHR1WE"
    },
    {
      "cell_type": "code",
      "execution_count": 23,
      "metadata": {
        "id": "sdzkeKjybTg7"
      },
      "outputs": [],
      "source": [
        "from sklearn import preprocessing\n",
        "min_max_scaler = preprocessing.MinMaxScaler()\n",
        "from sklearn.neighbors import KNeighborsClassifier\n",
        "from sklearn.cluster import KMeans, SpectralClustering\n",
        "from sklearn.preprocessing import StandardScaler\n",
        "from sklearn.metrics import silhouette_samples, silhouette_score"
      ],
      "id": "sdzkeKjybTg7"
    },
    {
      "cell_type": "markdown",
      "metadata": {
        "id": "Tf0LkFsqfYSH"
      },
      "source": [
        "#### Q2"
      ],
      "id": "Tf0LkFsqfYSH"
    },
    {
      "cell_type": "code",
      "execution_count": 24,
      "metadata": {
        "colab": {
          "base_uri": "https://localhost:8080/"
        },
        "id": "bfWMb4HHba0y",
        "outputId": "ce7d9fb9-4bfe-4921-8384-d6825667ebba"
      },
      "outputs": [
        {
          "output_type": "execute_result",
          "data": {
            "text/plain": [
              "KMeans(n_clusters=5)"
            ]
          },
          "metadata": {},
          "execution_count": 24
        }
      ],
      "source": [
        "X = StandardScaler().fit_transform(X)\n",
        "\n",
        "model = KMeans(n_clusters = 5)\n",
        "model.fit(X)"
      ],
      "id": "bfWMb4HHba0y"
    },
    {
      "cell_type": "code",
      "execution_count": 25,
      "metadata": {
        "colab": {
          "base_uri": "https://localhost:8080/"
        },
        "id": "7bDhAjk8bgDU",
        "outputId": "7dd82e33-9dcb-4e43-dd99-662c62d170a2"
      },
      "outputs": [
        {
          "output_type": "execute_result",
          "data": {
            "text/plain": [
              "array([0, 1, 1, 0, 4, 1, 0, 4, 4, 3, 2, 2, 3, 4, 3, 1, 4, 1, 1, 0, 1, 0,\n",
              "       1, 1, 1, 0, 1, 1, 0, 4, 3, 1, 1, 1, 0, 4, 4, 4, 1, 0, 1, 4, 0, 4,\n",
              "       1, 0, 0, 0, 1, 0, 1, 1, 0, 4, 0, 1, 4, 1, 0, 0, 4, 4, 4, 0, 0, 0,\n",
              "       1, 0, 0, 0, 0, 4, 0, 0, 0, 0, 1, 0, 1, 1, 0, 0, 0, 0, 0, 0, 0, 1,\n",
              "       4, 0, 0, 0, 0, 0, 0, 0, 0, 0, 1, 0, 1, 1, 4, 1, 0], dtype=int32)"
            ]
          },
          "metadata": {},
          "execution_count": 25
        }
      ],
      "source": [
        "identified_clusters = model.fit_predict(X)\n",
        "identified_clusters"
      ],
      "id": "7bDhAjk8bgDU"
    },
    {
      "cell_type": "code",
      "execution_count": 26,
      "metadata": {
        "colab": {
          "base_uri": "https://localhost:8080/",
          "height": 313
        },
        "id": "hBVrPtGMbjvD",
        "outputId": "64e880c9-7f59-4637-9e96-51a83d0d2370"
      },
      "outputs": [
        {
          "output_type": "execute_result",
          "data": {
            "text/plain": [
              "Text(0.5, 1.0, 'Visualization of clusters')"
            ]
          },
          "metadata": {},
          "execution_count": 26
        },
        {
          "output_type": "display_data",
          "data": {
            "text/plain": [
              "<Figure size 432x288 with 1 Axes>"
            ],
            "image/png": "[encoded data removed]"
          },
          "metadata": {
            "needs_background": "light"
          }
        }
      ],
      "source": [
        "from matplotlib import colors\n",
        "\n",
        "data_with_clusters = df2.iloc[:,2:4].copy()\n",
        "data_with_clusters['Clusters'] = identified_clusters \n",
        "cmap = colors.ListedColormap(['red', 'green'])\n",
        "plt.scatter(data_with_clusters['mean_return'],\n",
        "            data_with_clusters['volatility'],c=data_with_clusters['Clusters'],cmap='rainbow')\n",
        "plt.xlabel('Mean Return')\n",
        "plt.ylabel('Volatility')\n",
        "plt.title('Visualization of clusters', fontweight='bold')\n"
      ],
      "id": "hBVrPtGMbjvD"
    },
    {
      "cell_type": "code",
      "execution_count": 28,
      "metadata": {
        "id": "zedvFb4hbuh9"
      },
      "outputs": [],
      "source": [
        "data_with_clusters['labels']=df2['labels']"
      ],
      "id": "zedvFb4hbuh9"
    },
    {
      "cell_type": "code",
      "execution_count": 29,
      "metadata": {
        "id": "ntVviU5vbw8z"
      },
      "outputs": [],
      "source": [
        "\n",
        "from collections import defaultdict\n",
        "from collections import Counter\n",
        "\n",
        "def computePercent(dataframe):\n",
        "    dic=defaultdict(list)\n",
        "    s=np.unique(dataframe['Clusters'])\n",
        "\n",
        "    l=len(dataframe)\n",
        "    for i in range(l):\n",
        "        s=dataframe.iloc[i,2]\n",
        "        p=dataframe.iloc[i,3]\n",
        "        dic[s].append(p)\n",
        "        \n",
        "        \n",
        "    for d in dic:\n",
        "        a=dic[d]\n",
        "        counts=Counter(a)\n",
        "        zeroes=counts[0]\n",
        "        ones=counts[1]\n",
        "        print(\"the % of zerores in cluseter:\",d,\" are \",(zeroes/len(a)*100),\" and % of ones are \",\n",
        "                                                          (ones/len(a)*100))\n",
        "        "
      ],
      "id": "ntVviU5vbw8z"
    },
    {
      "cell_type": "code",
      "execution_count": 30,
      "metadata": {
        "colab": {
          "base_uri": "https://localhost:8080/"
        },
        "id": "nBzoaZK0b1e4",
        "outputId": "2c5f5a1b-edc4-487a-ed70-89ec3b2c79ed"
      },
      "outputs": [
        {
          "output_type": "stream",
          "name": "stdout",
          "text": [
            "the % of zerores in cluseter: 0  are  31.25  and % of ones are  68.75\n",
            "the % of zerores in cluseter: 1  are  93.75  and % of ones are  6.25\n",
            "the % of zerores in cluseter: 4  are  15.789473684210526  and % of ones are  84.21052631578947\n",
            "the % of zerores in cluseter: 3  are  100.0  and % of ones are  0.0\n",
            "the % of zerores in cluseter: 2  are  0.0  and % of ones are  100.0\n"
          ]
        }
      ],
      "source": [
        "computePercent(data_with_clusters)"
      ],
      "id": "nBzoaZK0b1e4"
    }
  ],
  "metadata": {
    "colab": {
      "provenance": [],
      "include_colab_link": true
    },
    "kernelspec": {
      "display_name": "Python 3 (ipykernel)",
      "language": "python",
      "name": "python3"
    },
    "language_info": {
      "codemirror_mode": {
        "name": "ipython",
        "version": 2
      },
      "file_extension": ".py",
      "mimetype": "text/x-python",
      "name": "python",
      "nbconvert_exporter": "python",
      "pygments_lexer": "ipython2",
      "version": "2.7.16"
    }
  },
  "nbformat": 4,
  "nbformat_minor": 5
}