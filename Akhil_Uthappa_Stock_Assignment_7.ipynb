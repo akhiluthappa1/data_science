{
  "nbformat": 4,
  "nbformat_minor": 0,
  "metadata": {
    "colab": {
      "provenance": [],
      "authorship_tag": "ABX9TyP0BhfsNnsSgpCSpVoIc+o4",
      "include_colab_link": true
    },
    "kernelspec": {
      "name": "python3",
      "display_name": "Python 3"
    },
    "language_info": {
      "name": "python"
    }
  },
  "cells": [
    {
      "cell_type": "markdown",
      "metadata": {
        "id": "view-in-github",
        "colab_type": "text"
      },
      "source": [
        "<a href=\"https://colab.research.google.com/github/akhiluthappa1/data_science/blob/main/Akhil_Uthappa_Stock_Assignment_7.ipynb\" target=\"_parent\"><img src=\"https://colab.research.google.com/assets/colab-badge.svg\" alt=\"Open In Colab\"/></a>"
      ]
    },
    {
      "cell_type": "markdown",
      "source": [
        "### 1. take k = 3,5,7,9,11. For each value of k compute the accuracy of your k-NN classifier on year 1 data. On x axis you plot k and on y-axis you plot accuracy. What is the optimal value of k for year 1?"
      ],
      "metadata": {
        "id": "G70Sq7lwi7VZ"
      }
    },
    {
      "cell_type": "code",
      "execution_count": null,
      "metadata": {
        "id": "INwbLEUzqppz",
        "colab": {
          "base_uri": "https://localhost:8080/",
          "height": 424
        },
        "outputId": "be5a228c-f434-4c73-8e57-d5143935cb9f"
      },
      "outputs": [
        {
          "output_type": "execute_result",
          "data": {
            "text/plain": [
              "     Year  Week_Number  mean_return  volatility labels  class\n",
              "0    2020            0     -0.48600    0.687308    Red      0\n",
              "1    2020            1      0.85720    1.040851  Green      1\n",
              "2    2020            2      0.54340    1.404286  Green      1\n",
              "3    2020            3     -0.03175    0.547226    Red      0\n",
              "4    2020            4     -0.51960    3.137070    Red      0\n",
              "..    ...          ...          ...         ...    ...    ...\n",
              "100  2021           48      0.64780    1.904606  Green      1\n",
              "101  2021           49      2.09540    1.445607  Green      1\n",
              "102  2021           50     -0.91880    2.482887    Red      0\n",
              "103  2021           51      0.74825    1.230668  Green      1\n",
              "104  2021           52      0.27800    1.382687  Green      1\n",
              "\n",
              "[105 rows x 6 columns]"
            ],
            "text/html": [
              "\n",
              "  <div id=\"df-4b32dbfc-cc18-433f-b4b4-65f8d3a39bfe\">\n",
              "    <div class=\"colab-df-container\">\n",
              "      <div>\n",
              "<style scoped>\n",
              "    .dataframe tbody tr th:only-of-type {\n",
              "        vertical-align: middle;\n",
              "    }\n",
              "\n",
              "    .dataframe tbody tr th {\n",
              "        vertical-align: top;\n",
              "    }\n",
              "\n",
              "    .dataframe thead th {\n",
              "        text-align: right;\n",
              "    }\n",
              "</style>\n",
              "<table border=\"1\" class=\"dataframe\">\n",
              "  <thead>\n",
              "    <tr style=\"text-align: right;\">\n",
              "      <th></th>\n",
              "      <th>Year</th>\n",
              "      <th>Week_Number</th>\n",
              "      <th>mean_return</th>\n",
              "      <th>volatility</th>\n",
              "      <th>labels</th>\n",
              "      <th>class</th>\n",
              "    </tr>\n",
              "  </thead>\n",
              "  <tbody>\n",
              "    <tr>\n",
              "      <th>0</th>\n",
              "      <td>2020</td>\n",
              "      <td>0</td>\n",
              "      <td>-0.48600</td>\n",
              "      <td>0.687308</td>\n",
              "      <td>Red</td>\n",
              "      <td>0</td>\n",
              "    </tr>\n",
              "    <tr>\n",
              "      <th>1</th>\n",
              "      <td>2020</td>\n",
              "      <td>1</td>\n",
              "      <td>0.85720</td>\n",
              "      <td>1.040851</td>\n",
              "      <td>Green</td>\n",
              "      <td>1</td>\n",
              "    </tr>\n",
              "    <tr>\n",
              "      <th>2</th>\n",
              "      <td>2020</td>\n",
              "      <td>2</td>\n",
              "      <td>0.54340</td>\n",
              "      <td>1.404286</td>\n",
              "      <td>Green</td>\n",
              "      <td>1</td>\n",
              "    </tr>\n",
              "    <tr>\n",
              "      <th>3</th>\n",
              "      <td>2020</td>\n",
              "      <td>3</td>\n",
              "      <td>-0.03175</td>\n",
              "      <td>0.547226</td>\n",
              "      <td>Red</td>\n",
              "      <td>0</td>\n",
              "    </tr>\n",
              "    <tr>\n",
              "      <th>4</th>\n",
              "      <td>2020</td>\n",
              "      <td>4</td>\n",
              "      <td>-0.51960</td>\n",
              "      <td>3.137070</td>\n",
              "      <td>Red</td>\n",
              "      <td>0</td>\n",
              "    </tr>\n",
              "    <tr>\n",
              "      <th>...</th>\n",
              "      <td>...</td>\n",
              "      <td>...</td>\n",
              "      <td>...</td>\n",
              "      <td>...</td>\n",
              "      <td>...</td>\n",
              "      <td>...</td>\n",
              "    </tr>\n",
              "    <tr>\n",
              "      <th>100</th>\n",
              "      <td>2021</td>\n",
              "      <td>48</td>\n",
              "      <td>0.64780</td>\n",
              "      <td>1.904606</td>\n",
              "      <td>Green</td>\n",
              "      <td>1</td>\n",
              "    </tr>\n",
              "    <tr>\n",
              "      <th>101</th>\n",
              "      <td>2021</td>\n",
              "      <td>49</td>\n",
              "      <td>2.09540</td>\n",
              "      <td>1.445607</td>\n",
              "      <td>Green</td>\n",
              "      <td>1</td>\n",
              "    </tr>\n",
              "    <tr>\n",
              "      <th>102</th>\n",
              "      <td>2021</td>\n",
              "      <td>50</td>\n",
              "      <td>-0.91880</td>\n",
              "      <td>2.482887</td>\n",
              "      <td>Red</td>\n",
              "      <td>0</td>\n",
              "    </tr>\n",
              "    <tr>\n",
              "      <th>103</th>\n",
              "      <td>2021</td>\n",
              "      <td>51</td>\n",
              "      <td>0.74825</td>\n",
              "      <td>1.230668</td>\n",
              "      <td>Green</td>\n",
              "      <td>1</td>\n",
              "    </tr>\n",
              "    <tr>\n",
              "      <th>104</th>\n",
              "      <td>2021</td>\n",
              "      <td>52</td>\n",
              "      <td>0.27800</td>\n",
              "      <td>1.382687</td>\n",
              "      <td>Green</td>\n",
              "      <td>1</td>\n",
              "    </tr>\n",
              "  </tbody>\n",
              "</table>\n",
              "<p>105 rows × 6 columns</p>\n",
              "</div>\n",
              "      <button class=\"colab-df-convert\" onclick=\"convertToInteractive('df-4b32dbfc-cc18-433f-b4b4-65f8d3a39bfe')\"\n",
              "              title=\"Convert this dataframe to an interactive table.\"\n",
              "              style=\"display:none;\">\n",
              "        \n",
              "  <svg xmlns=\"http://www.w3.org/2000/svg\" height=\"24px\"viewBox=\"0 0 24 24\"\n",
              "       width=\"24px\">\n",
              "    <path d=\"M0 0h24v24H0V0z\" fill=\"none\"/>\n",
              "    <path d=\"M18.56 5.44l.94 2.06.94-2.06 2.06-.94-2.06-.94-.94-2.06-.94 2.06-2.06.94zm-11 1L8.5 8.5l.94-2.06 2.06-.94-2.06-.94L8.5 2.5l-.94 2.06-2.06.94zm10 10l.94 2.06.94-2.06 2.06-.94-2.06-.94-.94-2.06-.94 2.06-2.06.94z\"/><path d=\"M17.41 7.96l-1.37-1.37c-.4-.4-.92-.59-1.43-.59-.52 0-1.04.2-1.43.59L10.3 9.45l-7.72 7.72c-.78.78-.78 2.05 0 2.83L4 21.41c.39.39.9.59 1.41.59.51 0 1.02-.2 1.41-.59l7.78-7.78 2.81-2.81c.8-.78.8-2.07 0-2.86zM5.41 20L4 18.59l7.72-7.72 1.47 1.35L5.41 20z\"/>\n",
              "  </svg>\n",
              "      </button>\n",
              "      \n",
              "  <style>\n",
              "    .colab-df-container {\n",
              "      display:flex;\n",
              "      flex-wrap:wrap;\n",
              "      gap: 12px;\n",
              "    }\n",
              "\n",
              "    .colab-df-convert {\n",
              "      background-color: #E8F0FE;\n",
              "      border: none;\n",
              "      border-radius: 50%;\n",
              "      cursor: pointer;\n",
              "      display: none;\n",
              "      fill: #1967D2;\n",
              "      height: 32px;\n",
              "      padding: 0 0 0 0;\n",
              "      width: 32px;\n",
              "    }\n",
              "\n",
              "    .colab-df-convert:hover {\n",
              "      background-color: #E2EBFA;\n",
              "      box-shadow: 0px 1px 2px rgba(60, 64, 67, 0.3), 0px 1px 3px 1px rgba(60, 64, 67, 0.15);\n",
              "      fill: #174EA6;\n",
              "    }\n",
              "\n",
              "    [theme=dark] .colab-df-convert {\n",
              "      background-color: #3B4455;\n",
              "      fill: #D2E3FC;\n",
              "    }\n",
              "\n",
              "    [theme=dark] .colab-df-convert:hover {\n",
              "      background-color: #434B5C;\n",
              "      box-shadow: 0px 1px 3px 1px rgba(0, 0, 0, 0.15);\n",
              "      filter: drop-shadow(0px 1px 2px rgba(0, 0, 0, 0.3));\n",
              "      fill: #FFFFFF;\n",
              "    }\n",
              "  </style>\n",
              "\n",
              "      <script>\n",
              "        const buttonEl =\n",
              "          document.querySelector('#df-4b32dbfc-cc18-433f-b4b4-65f8d3a39bfe button.colab-df-convert');\n",
              "        buttonEl.style.display =\n",
              "          google.colab.kernel.accessAllowed ? 'block' : 'none';\n",
              "\n",
              "        async function convertToInteractive(key) {\n",
              "          const element = document.querySelector('#df-4b32dbfc-cc18-433f-b4b4-65f8d3a39bfe');\n",
              "          const dataTable =\n",
              "            await google.colab.kernel.invokeFunction('convertToInteractive',\n",
              "                                                     [key], {});\n",
              "          if (!dataTable) return;\n",
              "\n",
              "          const docLinkHtml = 'Like what you see? Visit the ' +\n",
              "            '<a target=\"_blank\" href=https://colab.research.google.com/notebooks/data_table.ipynb>data table notebook</a>'\n",
              "            + ' to learn more about interactive tables.';\n",
              "          element.innerHTML = '';\n",
              "          dataTable['output_type'] = 'display_data';\n",
              "          await google.colab.output.renderOutput(dataTable, element);\n",
              "          const docLink = document.createElement('div');\n",
              "          docLink.innerHTML = docLinkHtml;\n",
              "          element.appendChild(docLink);\n",
              "        }\n",
              "      </script>\n",
              "    </div>\n",
              "  </div>\n",
              "  "
            ]
          },
          "metadata": {},
          "execution_count": 1
        }
      ],
      "source": [
        "import pandas as pd\n",
        "import numpy as np\n",
        "import matplotlib.pyplot as plt\n",
        "\n",
        "pd.set_option(\"display.width\",1000)\n",
        "df = pd.read_csv(\"/content/AAPL_weekly_return_volatility (1) - AAPL_weekly_return_volatility (1).csv\",sep=\",\")\n",
        "df['class'] = np.where(df['labels']== 'Green', 1, 0)\n",
        "df"
      ]
    },
    {
      "cell_type": "code",
      "source": [
        "X_train = df[df['Year']==2020]\n",
        "X_test = df[df['Year']==2021]\n",
        "\n",
        "from sklearn.neighbors import KNeighborsClassifier\n",
        "\n",
        "neigh_3 = KNeighborsClassifier(n_neighbors=3)\n",
        "X_train_3 = X_train.drop(columns=['labels', 'class'])\n",
        "Y_train_3 = X_train['class']\n",
        "neigh_3.fit(X_train_3, Y_train_3)\n",
        "\n",
        "neigh_5 = KNeighborsClassifier(n_neighbors=5)\n",
        "X_train_5 = X_train.drop(columns=['labels', 'class'])\n",
        "Y_train_5 = X_train['class']\n",
        "neigh_5.fit(X_train_5, Y_train_5)\n",
        "\n",
        "\n",
        "neigh_7 = KNeighborsClassifier(n_neighbors=7)\n",
        "X_train_7 = X_train.drop(columns=['labels', 'class'])\n",
        "Y_train_7 = X_train['class']\n",
        "neigh_7.fit(X_train_7, Y_train_7)\n",
        "\n",
        "\n",
        "neigh_9 = KNeighborsClassifier(n_neighbors=9)\n",
        "X_train_9 = X_train.drop(columns=['labels', 'class'])\n",
        "Y_train_9 = X_train['class']\n",
        "neigh_9.fit(X_train_9, Y_train_9)\n",
        "\n",
        "\n",
        "neigh_11 = KNeighborsClassifier(n_neighbors=11)\n",
        "X_train_11 = X_train.drop(columns=['labels', 'class'])\n",
        "Y_train_11 = X_train['class']\n",
        "neigh_11.fit(X_train_11, Y_train_11)"
      ],
      "metadata": {
        "colab": {
          "base_uri": "https://localhost:8080/"
        },
        "id": "77b48iSHzjSX",
        "outputId": "5be205a0-0d54-41ab-ee10-458f077f8622"
      },
      "execution_count": null,
      "outputs": [
        {
          "output_type": "execute_result",
          "data": {
            "text/plain": [
              "KNeighborsClassifier(n_neighbors=11)"
            ]
          },
          "metadata": {},
          "execution_count": 2
        }
      ]
    },
    {
      "cell_type": "code",
      "source": [
        "from sklearn.metrics import accuracy_score\n",
        "\n",
        "accuracies = []\n",
        "k=[3, 5, 7, 9, 11]\n",
        "\n",
        "X_test_1 = X_test.drop(columns=['labels', 'class'])\n",
        "Y_test_1 = X_test['class']\n",
        "\n",
        "pred_3 = neigh_3.predict(X_test_1)\n",
        "acc_3 = accuracy_score(Y_test_1, pred_3)\n",
        "print(\"ACCURACY FOR K=3 classifier---->\\n\", acc_3)\n",
        "accuracies.append(acc_3)\n",
        "\n",
        "\n",
        "\n",
        "pred_5 =neigh_5.predict(X_test_1)\n",
        "acc_5 = accuracy_score(Y_test_1, pred_5)\n",
        "print(\"ACCURACY FOR K=5 classifier---->\\n\", acc_5)\n",
        "accuracies.append(acc_5)\n",
        "\n",
        "\n",
        "\n",
        "pred_7 = neigh_7.predict(X_test_1)\n",
        "acc_7 = accuracy_score(Y_test_1, pred_7)\n",
        "print(\"ACCURACY FOR K=7 classifier---->\\n\", acc_7)\n",
        "accuracies.append(acc_7)\n",
        "\n",
        "\n",
        "\n",
        "pred_9 = neigh_9.predict(X_test_1)\n",
        "acc_9 = accuracy_score(Y_test_1, pred_9)\n",
        "print(\"ACCURACY FOR K=9 classifier---->\\n\", acc_9)\n",
        "accuracies.append(acc_9)\n",
        "\n",
        "\n",
        "\n",
        "pred_11 = neigh_11.predict(X_test_1)\n",
        "acc_11 = accuracy_score(Y_test_1, pred_11)\n",
        "print(\"ACCURACY FOR K=11 classifier---->\\n\", acc_11)\n",
        "accuracies.append(acc_11)"
      ],
      "metadata": {
        "colab": {
          "base_uri": "https://localhost:8080/"
        },
        "id": "n-JMnRnjBeEZ",
        "outputId": "d0b10898-276c-4af0-c9fa-a3df34b43735"
      },
      "execution_count": null,
      "outputs": [
        {
          "output_type": "stream",
          "name": "stdout",
          "text": [
            "ACCURACY FOR K=3 classifier---->\n",
            " 0.5769230769230769\n",
            "ACCURACY FOR K=5 classifier---->\n",
            " 0.5769230769230769\n",
            "ACCURACY FOR K=7 classifier---->\n",
            " 0.5384615384615384\n",
            "ACCURACY FOR K=9 classifier---->\n",
            " 0.4807692307692308\n",
            "ACCURACY FOR K=11 classifier---->\n",
            " 0.5\n"
          ]
        }
      ]
    },
    {
      "cell_type": "markdown",
      "source": [
        "### Optimal Value of k for year 1 is 3"
      ],
      "metadata": {
        "id": "yoRpsHHjjAFc"
      }
    },
    {
      "cell_type": "code",
      "source": [
        "print(\"ACCURACY FOR K=3 classifier---->\\n\", acc_3)"
      ],
      "metadata": {
        "colab": {
          "base_uri": "https://localhost:8080/"
        },
        "id": "rzqpOEJMjEiu",
        "outputId": "32954259-b858-41fe-9cb9-79c9219d8023"
      },
      "execution_count": null,
      "outputs": [
        {
          "output_type": "stream",
          "name": "stdout",
          "text": [
            "ACCURACY FOR K=3 classifier---->\n",
            " 0.5769230769230769\n"
          ]
        }
      ]
    },
    {
      "cell_type": "markdown",
      "source": [
        "### 3. using the optimal value for k from year 1, compute the confusion matrix for year 2"
      ],
      "metadata": {
        "id": "KN-o5q1FN_E6"
      }
    },
    {
      "cell_type": "code",
      "source": [
        "from sklearn.metrics import confusion_matrix\n",
        "matrix = confusion_matrix(Y_test_1, pred_3)\n",
        "matrix"
      ],
      "metadata": {
        "colab": {
          "base_uri": "https://localhost:8080/"
        },
        "id": "l_WHlpG_N_yC",
        "outputId": "5b21cc31-8ef5-413e-e019-a617a531c3c3"
      },
      "execution_count": null,
      "outputs": [
        {
          "output_type": "execute_result",
          "data": {
            "text/plain": [
              "array([[14, 16],\n",
              "       [ 6, 16]])"
            ]
          },
          "metadata": {},
          "execution_count": 5
        }
      ]
    },
    {
      "cell_type": "markdown",
      "source": [
        "### 4. What is true positive rate (sensitivity or recall) and true negative rate (specificity) for year 2?"
      ],
      "metadata": {
        "id": "xKe0BuCQP6U0"
      }
    },
    {
      "cell_type": "code",
      "source": [
        "tpr = [matrix[0][0]/(matrix[0][0]+matrix[1][0])]\n",
        "tnr = [matrix[1][1]/(matrix[1][1]+matrix[0][1])]\n",
        "\n",
        "print(\"TPR---->\\n\", tpr)\n",
        "print(\"\\n TNR---->\\n\", tnr)"
      ],
      "metadata": {
        "colab": {
          "base_uri": "https://localhost:8080/"
        },
        "id": "TnZKZemgP-XI",
        "outputId": "623cab60-750b-4ec4-cd50-3b4bad3fcf97"
      },
      "execution_count": null,
      "outputs": [
        {
          "output_type": "stream",
          "name": "stdout",
          "text": [
            "TPR---->\n",
            " [0.7]\n",
            "\n",
            " TNR---->\n",
            " [0.5]\n"
          ]
        }
      ]
    },
    {
      "cell_type": "markdown",
      "source": [
        "### 5. implement a trading strategy based on your labels for year 2 and compare the performance with the ”buy-and-hold” strategy. Which strategy results in a larger amount at the end of the year?"
      ],
      "metadata": {
        "id": "YZFvc9KfQ16g"
      }
    },
    {
      "cell_type": "code",
      "source": [
        "cash_total = 100\n",
        "stocks = 0\n",
        "week_counter = 1\n",
        "first_purchase_flag = False\n",
        "flag = False #False when cashed out; true when invested in the stock\n",
        "\n",
        "df_labels = pd.read_csv(\"/content/AAPL_weekly_return_volatility (1) - AAPL_weekly_return_volatility (1).csv\",sep=\",\") #labels\n",
        "df_prices = pd.read_csv(\"/content/AAPL_weekly_return_detailed (1).csv\",sep=\",\") #prices\n",
        "\n",
        "def buy_stocks (cash,purchse_value):\n",
        "    stock_bought = round(cash/purchse_value, 2)\n",
        "    return stock_bought\n",
        "def buy_out (stocks, buy_out_value):\n",
        "    amount = stocks * buy_out_value\n",
        "    amount = round (amount, 2)\n",
        "    return amount\n",
        "\n",
        "for index, row in df_labels.iterrows():\n",
        "    if row[\"Year\"] == 2021:\n",
        "      label = row[\"labels\"]\n",
        "      df_week = df_prices[(df_prices[\"Year\"] == 2021)&(df_prices[\"Week_Number\"]==week_counter)]\n",
        "      \n",
        "      if first_purchase_flag == False:\n",
        "          if label == \"undefined\":\n",
        "              week_counter += 1\n",
        "          elif label == \"red\":\n",
        "              week_counter += 1\n",
        "          elif label == \"green\":\n",
        "              buying_price = df_week.iloc[0][\"Open\"]\n",
        "              stocks = buy_stocks(cash_total, buying_price)\n",
        "              cash_total = 0\n",
        "              first_purchase_flag = True\n",
        "              flag = True\n",
        "              week_counter += 1\n",
        "      else:\n",
        "          if label == \"red\":\n",
        "              if flag == True:\n",
        "                  previous_week = week_counter - 1\n",
        "                  df_week = df_prices[(df_prices[\"Year\"] == 2021) & (df_prices[\"Week_Number\"] == previous_week)]\n",
        "                  selling_price = df_week.iloc[-1][\"Adj Close\"]\n",
        "                  new_cash_amount = buy_out(stocks, selling_price)\n",
        "                  cash_total = new_cash_amount\n",
        "                  stocks = 0\n",
        "                  week_counter += 1\n",
        "                  flag = False\n",
        "              elif flag == False:\n",
        "                  week_counter += 1\n",
        "          if label == \"green\":\n",
        "              if flag == True:\n",
        "                  week_counter += 1\n",
        "              elif flag == False:\n",
        "                  buying_price = df_week.iloc[0][\"Open\"]\n",
        "                  stocks = buy_stocks(cash_total, buying_price)\n",
        "                  cash_total = 0\n",
        "                  week_counter += 1\n",
        "                  flag = True\n",
        "if stocks!=0:\n",
        "    df_week = df_prices[(df_prices[\"Year\"] == 2021)&(df_prices[\"Week_Number\"]==(week_counter-1))]\n",
        "    selling_price = df_week.iloc[-1][\"Adj Close\"]\n",
        "    new_cash_amount = buy_out(stocks, selling_price)\n",
        "    cash_total = new_cash_amount\n",
        "    stocks = 0\n",
        "print(\"My Trading Strategy---->\\n\", cash_total)\n",
        "\n",
        "initial_cash = 100\n",
        "stocks_holding = 0\n",
        "\n",
        "df_prices = pd.read_csv(\"/content/AAPL_weekly_return_detailed (1).csv\",sep=\",\") #prices\n",
        "\n",
        "first_week = df_prices[(df_prices[\"Year\"] == 2021)&(df_prices[\"Week_Number\"] == 1)]\n",
        "\n",
        "buying_price = df_week.iloc[0][\"Open\"]\n",
        "\n",
        "stocks_holding = buy_stocks(initial_cash, buying_price)\n",
        "initial_cash = 0\n",
        "\n",
        "last_week = df_prices[(df_prices[\"Year\"] == 2021)&(df_prices[\"Week_Number\"] == 52)]\n",
        "\n",
        "selling_price = last_week.iloc[-1][\"Adj Close\"]\n",
        "final_cash = buy_out(stocks_holding, selling_price)\n",
        "\n",
        "print(\"\\n Buy and Hold---->\\n\", final_cash)"
      ],
      "metadata": {
        "colab": {
          "base_uri": "https://localhost:8080/"
        },
        "id": "h-io5CKgQ3Jw",
        "outputId": "f30969f7-4558-4c75-e350-1c014d62dee5"
      },
      "execution_count": null,
      "outputs": [
        {
          "output_type": "stream",
          "name": "stdout",
          "text": [
            "My Trading Strategy---->\n",
            " 100\n",
            "\n",
            " Buy and Hold---->\n",
            " 133.1\n"
          ]
        }
      ]
    },
    {
      "cell_type": "markdown",
      "source": [
        "### Clearly Buy and Hold is better for AAPL"
      ],
      "metadata": {
        "id": "u6wYyzSZy6E0"
      }
    }
  ]
}